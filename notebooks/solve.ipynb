{
 "cells": [
  {
   "cell_type": "code",
   "execution_count": 1,
   "metadata": {
    "collapsed": true
   },
   "outputs": [],
   "source": [
    "import pandas as pd\n",
    "import numpy as np\n",
    "import math\n",
    "import artm\n",
    "%matplotlib inline\n",
    "import glob\n",
    "import os\n",
    "import matplotlib.pyplot as plt"
   ]
  },
  {
   "cell_type": "code",
   "execution_count": 2,
   "metadata": {
    "collapsed": false
   },
   "outputs": [],
   "source": [
    "#tr_types = pd.read_csv('tr_types.csv', sep=';')\n",
    "tr_mcc_codes = pd.read_csv('tr_mcc_codes.csv', sep=';')\n",
    "#customer_gender = pd.read_csv('customers_gender_train.csv')\n",
    "transactions = pd.read_csv('transactions.csv')"
   ]
  },
  {
   "cell_type": "code",
   "execution_count": 211,
   "metadata": {
    "collapsed": false
   },
   "outputs": [
    {
     "data": {
      "text/plain": [
       "127"
      ]
     },
     "execution_count": 211,
     "metadata": {},
     "output_type": "execute_result"
    }
   ],
   "source": [
    "tr = transactions[transactions.mcc_code == 5621]\n",
    "len(tr[tr.amount>0])"
   ]
  },
  {
   "cell_type": "code",
   "execution_count": 3,
   "metadata": {
    "collapsed": false
   },
   "outputs": [
    {
     "data": {
      "text/html": [
       "<div>\n",
       "<table border=\"1\" class=\"dataframe\">\n",
       "  <thead>\n",
       "    <tr style=\"text-align: right;\">\n",
       "      <th></th>\n",
       "      <th>customer_id</th>\n",
       "      <th>tr_datetime</th>\n",
       "      <th>mcc_code</th>\n",
       "      <th>tr_type</th>\n",
       "      <th>amount</th>\n",
       "      <th>term_id</th>\n",
       "    </tr>\n",
       "  </thead>\n",
       "  <tbody>\n",
       "    <tr>\n",
       "      <th>0</th>\n",
       "      <td>39026145</td>\n",
       "      <td>0 10:23:26</td>\n",
       "      <td>4814</td>\n",
       "      <td>1030</td>\n",
       "      <td>-2245.92</td>\n",
       "      <td>NaN</td>\n",
       "    </tr>\n",
       "    <tr>\n",
       "      <th>1</th>\n",
       "      <td>39026145</td>\n",
       "      <td>1 10:19:29</td>\n",
       "      <td>6011</td>\n",
       "      <td>7010</td>\n",
       "      <td>56147.89</td>\n",
       "      <td>NaN</td>\n",
       "    </tr>\n",
       "    <tr>\n",
       "      <th>2</th>\n",
       "      <td>39026145</td>\n",
       "      <td>1 10:20:56</td>\n",
       "      <td>4829</td>\n",
       "      <td>2330</td>\n",
       "      <td>-56147.89</td>\n",
       "      <td>NaN</td>\n",
       "    </tr>\n",
       "    <tr>\n",
       "      <th>3</th>\n",
       "      <td>39026145</td>\n",
       "      <td>1 10:39:54</td>\n",
       "      <td>5499</td>\n",
       "      <td>1010</td>\n",
       "      <td>-1392.47</td>\n",
       "      <td>NaN</td>\n",
       "    </tr>\n",
       "    <tr>\n",
       "      <th>4</th>\n",
       "      <td>39026145</td>\n",
       "      <td>2 15:33:42</td>\n",
       "      <td>5499</td>\n",
       "      <td>1010</td>\n",
       "      <td>-920.83</td>\n",
       "      <td>NaN</td>\n",
       "    </tr>\n",
       "  </tbody>\n",
       "</table>\n",
       "</div>"
      ],
      "text/plain": [
       "   customer_id tr_datetime  mcc_code  tr_type    amount term_id\n",
       "0     39026145  0 10:23:26      4814     1030  -2245.92     NaN\n",
       "1     39026145  1 10:19:29      6011     7010  56147.89     NaN\n",
       "2     39026145  1 10:20:56      4829     2330 -56147.89     NaN\n",
       "3     39026145  1 10:39:54      5499     1010  -1392.47     NaN\n",
       "4     39026145  2 15:33:42      5499     1010   -920.83     NaN"
      ]
     },
     "execution_count": 3,
     "metadata": {},
     "output_type": "execute_result"
    }
   ],
   "source": [
    "transactions.head()"
   ]
  },
  {
   "cell_type": "code",
   "execution_count": 4,
   "metadata": {
    "collapsed": false
   },
   "outputs": [
    {
     "data": {
      "text/html": [
       "<div>\n",
       "<table border=\"1\" class=\"dataframe\">\n",
       "  <thead>\n",
       "    <tr style=\"text-align: right;\">\n",
       "      <th></th>\n",
       "      <th>mcc_code</th>\n",
       "      <th>mcc_description</th>\n",
       "    </tr>\n",
       "  </thead>\n",
       "  <tbody>\n",
       "    <tr>\n",
       "      <th>0</th>\n",
       "      <td>742</td>\n",
       "      <td>Ветеринарные услуги</td>\n",
       "    </tr>\n",
       "    <tr>\n",
       "      <th>1</th>\n",
       "      <td>1711</td>\n",
       "      <td>Генеральные подрядчики по вентиляции, теплосна...</td>\n",
       "    </tr>\n",
       "    <tr>\n",
       "      <th>2</th>\n",
       "      <td>1731</td>\n",
       "      <td>Подрядчики по электричеству</td>\n",
       "    </tr>\n",
       "    <tr>\n",
       "      <th>3</th>\n",
       "      <td>1799</td>\n",
       "      <td>Подрядчики, специализированная торговля — нигд...</td>\n",
       "    </tr>\n",
       "    <tr>\n",
       "      <th>4</th>\n",
       "      <td>2741</td>\n",
       "      <td>Разнообразные издательства/печатное дело</td>\n",
       "    </tr>\n",
       "  </tbody>\n",
       "</table>\n",
       "</div>"
      ],
      "text/plain": [
       "   mcc_code                                    mcc_description\n",
       "0       742                                Ветеринарные услуги\n",
       "1      1711  Генеральные подрядчики по вентиляции, теплосна...\n",
       "2      1731                        Подрядчики по электричеству\n",
       "3      1799  Подрядчики, специализированная торговля — нигд...\n",
       "4      2741           Разнообразные издательства/печатное дело"
      ]
     },
     "execution_count": 4,
     "metadata": {},
     "output_type": "execute_result"
    }
   ],
   "source": [
    "tr_mcc_codes.head()"
   ]
  },
  {
   "cell_type": "code",
   "execution_count": 7,
   "metadata": {
    "collapsed": true
   },
   "outputs": [],
   "source": [
    "customers = list(set(transactions['customer_id'].values))"
   ]
  },
  {
   "cell_type": "code",
   "execution_count": 8,
   "metadata": {
    "collapsed": false
   },
   "outputs": [],
   "source": [
    "n_d_plus = {}\n",
    "n_d_minus = {}\n",
    "for customer in customers:\n",
    "    df = transactions[transactions['customer_id'] == customer]\n",
    "    df_minus = df[df['amount'] < 0]\n",
    "    df_plus = df[df['amount'] > 0]\n",
    "    n_d_plus[customer] = df_plus['amount'].sum() / (math.pi**math.e)\n",
    "    n_d_minus[customer] = df_minus['amount'].sum() / (math.pi**math.e)\n"
   ]
  },
  {
   "cell_type": "code",
   "execution_count": 9,
   "metadata": {
    "collapsed": true
   },
   "outputs": [],
   "source": [
    "transactions_m = transactions[transactions.amount < 0]\n",
    "transactions_p = transactions[transactions.amount > 0]"
   ]
  },
  {
   "cell_type": "code",
   "execution_count": 10,
   "metadata": {
    "collapsed": false
   },
   "outputs": [],
   "source": [
    "tmp_m = transactions_m.groupby(['customer_id', 'mcc_code'])['amount'].sum().reset_index()\n",
    "tmp_p = transactions_p.groupby(['customer_id', 'mcc_code'])['amount'].sum().reset_index()"
   ]
  },
  {
   "cell_type": "code",
   "execution_count": 11,
   "metadata": {
    "collapsed": false
   },
   "outputs": [],
   "source": [
    "l = list(set(tmp_m.mcc_code))\n",
    "users = {}\n",
    "cats = {}\n",
    "vocabulary = {}\n",
    "for i, x in enumerate(l):\n",
    "    #print i\n",
    "    vocabulary[i] = str(l[i])+'_m'\n",
    "    cats[str(l[i])+'_m'] = i\n",
    "    \n",
    "ll = list(set(tmp_p.mcc_code))\n",
    "for i, x in enumerate(ll):\n",
    "    #print i+len(l)\n",
    "    vocabulary[len(l) + i] = str(ll[i])+'_p'\n",
    "    cats[str(ll[i])+'_p'] = len(l) + i\n",
    "\n",
    "    "
   ]
  },
  {
   "cell_type": "code",
   "execution_count": 12,
   "metadata": {
    "collapsed": true
   },
   "outputs": [],
   "source": [
    "for i, c in enumerate(customers):\n",
    "    users[c] = i\n",
    "mapping = {}\n",
    "for key, value in users.iteritems():\n",
    "    mapping[value] = key"
   ]
  },
  {
   "cell_type": "code",
   "execution_count": 243,
   "metadata": {
    "collapsed": true
   },
   "outputs": [],
   "source": [
    "mapping = {}\n",
    "for key, value in users.iteritems():\n",
    "    mapping[value] = key"
   ]
  },
  {
   "cell_type": "code",
   "execution_count": 246,
   "metadata": {
    "collapsed": false
   },
   "outputs": [],
   "source": [
    "import pickle\n",
    "def save_obj(obj, name ):\n",
    "    with open('obj/'+ name + '.pkl', 'wb') as f:\n",
    "        pickle.dump(obj, f, pickle.HIGHEST_PROTOCOL)"
   ]
  },
  {
   "cell_type": "code",
   "execution_count": 248,
   "metadata": {
    "collapsed": false
   },
   "outputs": [],
   "source": [
    "save_obj(mapping, \"mapping\")"
   ]
  },
  {
   "cell_type": "code",
   "execution_count": 13,
   "metadata": {
    "collapsed": true
   },
   "outputs": [],
   "source": [
    "n_wd = np.zeros(shape=(329, len(customers)))"
   ]
  },
  {
   "cell_type": "code",
   "execution_count": 258,
   "metadata": {
    "collapsed": false
   },
   "outputs": [
    {
     "data": {
      "text/html": [
       "<div>\n",
       "<table border=\"1\" class=\"dataframe\">\n",
       "  <thead>\n",
       "    <tr style=\"text-align: right;\">\n",
       "      <th></th>\n",
       "      <th>customer_id</th>\n",
       "      <th>mcc_code</th>\n",
       "      <th>amount</th>\n",
       "    </tr>\n",
       "  </thead>\n",
       "  <tbody>\n",
       "    <tr>\n",
       "      <th>0</th>\n",
       "      <td>6815</td>\n",
       "      <td>4814</td>\n",
       "      <td>-249341.93</td>\n",
       "    </tr>\n",
       "    <tr>\n",
       "      <th>1</th>\n",
       "      <td>6815</td>\n",
       "      <td>5311</td>\n",
       "      <td>-234030.50</td>\n",
       "    </tr>\n",
       "    <tr>\n",
       "      <th>2</th>\n",
       "      <td>6815</td>\n",
       "      <td>5411</td>\n",
       "      <td>-236046.19</td>\n",
       "    </tr>\n",
       "    <tr>\n",
       "      <th>3</th>\n",
       "      <td>6815</td>\n",
       "      <td>5921</td>\n",
       "      <td>-24929.67</td>\n",
       "    </tr>\n",
       "    <tr>\n",
       "      <th>4</th>\n",
       "      <td>6815</td>\n",
       "      <td>6011</td>\n",
       "      <td>-3211659.68</td>\n",
       "    </tr>\n",
       "    <tr>\n",
       "      <th>5</th>\n",
       "      <td>22899</td>\n",
       "      <td>4814</td>\n",
       "      <td>-175673.79</td>\n",
       "    </tr>\n",
       "    <tr>\n",
       "      <th>6</th>\n",
       "      <td>22899</td>\n",
       "      <td>4829</td>\n",
       "      <td>-3134488.76</td>\n",
       "    </tr>\n",
       "    <tr>\n",
       "      <th>7</th>\n",
       "      <td>22899</td>\n",
       "      <td>5331</td>\n",
       "      <td>-11869.67</td>\n",
       "    </tr>\n",
       "    <tr>\n",
       "      <th>8</th>\n",
       "      <td>22899</td>\n",
       "      <td>5399</td>\n",
       "      <td>-4626.59</td>\n",
       "    </tr>\n",
       "    <tr>\n",
       "      <th>9</th>\n",
       "      <td>22899</td>\n",
       "      <td>5411</td>\n",
       "      <td>-89936.80</td>\n",
       "    </tr>\n",
       "    <tr>\n",
       "      <th>10</th>\n",
       "      <td>22899</td>\n",
       "      <td>5499</td>\n",
       "      <td>-158514.50</td>\n",
       "    </tr>\n",
       "    <tr>\n",
       "      <th>11</th>\n",
       "      <td>22899</td>\n",
       "      <td>5541</td>\n",
       "      <td>-54805.52</td>\n",
       "    </tr>\n",
       "    <tr>\n",
       "      <th>12</th>\n",
       "      <td>22899</td>\n",
       "      <td>5735</td>\n",
       "      <td>-763.61</td>\n",
       "    </tr>\n",
       "    <tr>\n",
       "      <th>13</th>\n",
       "      <td>22899</td>\n",
       "      <td>5912</td>\n",
       "      <td>-2672.64</td>\n",
       "    </tr>\n",
       "    <tr>\n",
       "      <th>14</th>\n",
       "      <td>22899</td>\n",
       "      <td>6011</td>\n",
       "      <td>-2815367.76</td>\n",
       "    </tr>\n",
       "    <tr>\n",
       "      <th>15</th>\n",
       "      <td>27914</td>\n",
       "      <td>4814</td>\n",
       "      <td>-167994.67</td>\n",
       "    </tr>\n",
       "    <tr>\n",
       "      <th>16</th>\n",
       "      <td>27914</td>\n",
       "      <td>4829</td>\n",
       "      <td>-108926.91</td>\n",
       "    </tr>\n",
       "    <tr>\n",
       "      <th>17</th>\n",
       "      <td>27914</td>\n",
       "      <td>5541</td>\n",
       "      <td>-6731.46</td>\n",
       "    </tr>\n",
       "    <tr>\n",
       "      <th>18</th>\n",
       "      <td>27914</td>\n",
       "      <td>5732</td>\n",
       "      <td>-44316.18</td>\n",
       "    </tr>\n",
       "    <tr>\n",
       "      <th>19</th>\n",
       "      <td>27914</td>\n",
       "      <td>6011</td>\n",
       "      <td>-3058937.30</td>\n",
       "    </tr>\n",
       "    <tr>\n",
       "      <th>20</th>\n",
       "      <td>28753</td>\n",
       "      <td>4511</td>\n",
       "      <td>-412934.07</td>\n",
       "    </tr>\n",
       "    <tr>\n",
       "      <th>21</th>\n",
       "      <td>28753</td>\n",
       "      <td>4722</td>\n",
       "      <td>-5784872.63</td>\n",
       "    </tr>\n",
       "    <tr>\n",
       "      <th>22</th>\n",
       "      <td>28753</td>\n",
       "      <td>4814</td>\n",
       "      <td>-166197.73</td>\n",
       "    </tr>\n",
       "    <tr>\n",
       "      <th>23</th>\n",
       "      <td>28753</td>\n",
       "      <td>4829</td>\n",
       "      <td>-38735983.13</td>\n",
       "    </tr>\n",
       "    <tr>\n",
       "      <th>24</th>\n",
       "      <td>28753</td>\n",
       "      <td>5200</td>\n",
       "      <td>-552270.69</td>\n",
       "    </tr>\n",
       "    <tr>\n",
       "      <th>25</th>\n",
       "      <td>28753</td>\n",
       "      <td>5211</td>\n",
       "      <td>-153171.45</td>\n",
       "    </tr>\n",
       "    <tr>\n",
       "      <th>26</th>\n",
       "      <td>28753</td>\n",
       "      <td>5311</td>\n",
       "      <td>-93815.27</td>\n",
       "    </tr>\n",
       "    <tr>\n",
       "      <th>27</th>\n",
       "      <td>28753</td>\n",
       "      <td>5331</td>\n",
       "      <td>-1084320.95</td>\n",
       "    </tr>\n",
       "    <tr>\n",
       "      <th>28</th>\n",
       "      <td>28753</td>\n",
       "      <td>5411</td>\n",
       "      <td>-804033.13</td>\n",
       "    </tr>\n",
       "    <tr>\n",
       "      <th>29</th>\n",
       "      <td>28753</td>\n",
       "      <td>5499</td>\n",
       "      <td>-29634.86</td>\n",
       "    </tr>\n",
       "    <tr>\n",
       "      <th>...</th>\n",
       "      <td>...</td>\n",
       "      <td>...</td>\n",
       "      <td>...</td>\n",
       "    </tr>\n",
       "    <tr>\n",
       "      <th>293977</th>\n",
       "      <td>99991245</td>\n",
       "      <td>5983</td>\n",
       "      <td>-48938.51</td>\n",
       "    </tr>\n",
       "    <tr>\n",
       "      <th>293978</th>\n",
       "      <td>99991245</td>\n",
       "      <td>5999</td>\n",
       "      <td>-761522.66</td>\n",
       "    </tr>\n",
       "    <tr>\n",
       "      <th>293979</th>\n",
       "      <td>99991245</td>\n",
       "      <td>6010</td>\n",
       "      <td>-3957300.22</td>\n",
       "    </tr>\n",
       "    <tr>\n",
       "      <th>293980</th>\n",
       "      <td>99991245</td>\n",
       "      <td>6011</td>\n",
       "      <td>-8950827.83</td>\n",
       "    </tr>\n",
       "    <tr>\n",
       "      <th>293981</th>\n",
       "      <td>99991245</td>\n",
       "      <td>7011</td>\n",
       "      <td>-80852.97</td>\n",
       "    </tr>\n",
       "    <tr>\n",
       "      <th>293982</th>\n",
       "      <td>99999680</td>\n",
       "      <td>4812</td>\n",
       "      <td>-85120.21</td>\n",
       "    </tr>\n",
       "    <tr>\n",
       "      <th>293983</th>\n",
       "      <td>99999680</td>\n",
       "      <td>4814</td>\n",
       "      <td>-171812.74</td>\n",
       "    </tr>\n",
       "    <tr>\n",
       "      <th>293984</th>\n",
       "      <td>99999680</td>\n",
       "      <td>4829</td>\n",
       "      <td>-2403848.60</td>\n",
       "    </tr>\n",
       "    <tr>\n",
       "      <th>293985</th>\n",
       "      <td>99999680</td>\n",
       "      <td>5039</td>\n",
       "      <td>-15362.06</td>\n",
       "    </tr>\n",
       "    <tr>\n",
       "      <th>293986</th>\n",
       "      <td>99999680</td>\n",
       "      <td>5074</td>\n",
       "      <td>-20999.31</td>\n",
       "    </tr>\n",
       "    <tr>\n",
       "      <th>293987</th>\n",
       "      <td>99999680</td>\n",
       "      <td>5211</td>\n",
       "      <td>-8938.74</td>\n",
       "    </tr>\n",
       "    <tr>\n",
       "      <th>293988</th>\n",
       "      <td>99999680</td>\n",
       "      <td>5311</td>\n",
       "      <td>-15721.41</td>\n",
       "    </tr>\n",
       "    <tr>\n",
       "      <th>293989</th>\n",
       "      <td>99999680</td>\n",
       "      <td>5331</td>\n",
       "      <td>-8309.89</td>\n",
       "    </tr>\n",
       "    <tr>\n",
       "      <th>293990</th>\n",
       "      <td>99999680</td>\n",
       "      <td>5411</td>\n",
       "      <td>-462425.52</td>\n",
       "    </tr>\n",
       "    <tr>\n",
       "      <th>293991</th>\n",
       "      <td>99999680</td>\n",
       "      <td>5499</td>\n",
       "      <td>-388327.83</td>\n",
       "    </tr>\n",
       "    <tr>\n",
       "      <th>293992</th>\n",
       "      <td>99999680</td>\n",
       "      <td>5533</td>\n",
       "      <td>-134530.36</td>\n",
       "    </tr>\n",
       "    <tr>\n",
       "      <th>293993</th>\n",
       "      <td>99999680</td>\n",
       "      <td>5541</td>\n",
       "      <td>-685923.60</td>\n",
       "    </tr>\n",
       "    <tr>\n",
       "      <th>293994</th>\n",
       "      <td>99999680</td>\n",
       "      <td>5641</td>\n",
       "      <td>-30319.86</td>\n",
       "    </tr>\n",
       "    <tr>\n",
       "      <th>293995</th>\n",
       "      <td>99999680</td>\n",
       "      <td>5661</td>\n",
       "      <td>-39977.30</td>\n",
       "    </tr>\n",
       "    <tr>\n",
       "      <th>293996</th>\n",
       "      <td>99999680</td>\n",
       "      <td>5812</td>\n",
       "      <td>-23065.55</td>\n",
       "    </tr>\n",
       "    <tr>\n",
       "      <th>293997</th>\n",
       "      <td>99999680</td>\n",
       "      <td>5912</td>\n",
       "      <td>-4401.99</td>\n",
       "    </tr>\n",
       "    <tr>\n",
       "      <th>293998</th>\n",
       "      <td>99999680</td>\n",
       "      <td>5921</td>\n",
       "      <td>-49163.10</td>\n",
       "    </tr>\n",
       "    <tr>\n",
       "      <th>293999</th>\n",
       "      <td>99999680</td>\n",
       "      <td>5941</td>\n",
       "      <td>-58169.22</td>\n",
       "    </tr>\n",
       "    <tr>\n",
       "      <th>294000</th>\n",
       "      <td>99999680</td>\n",
       "      <td>5944</td>\n",
       "      <td>-4491.83</td>\n",
       "    </tr>\n",
       "    <tr>\n",
       "      <th>294001</th>\n",
       "      <td>99999680</td>\n",
       "      <td>5977</td>\n",
       "      <td>-4941.01</td>\n",
       "    </tr>\n",
       "    <tr>\n",
       "      <th>294002</th>\n",
       "      <td>99999680</td>\n",
       "      <td>5983</td>\n",
       "      <td>-46827.35</td>\n",
       "    </tr>\n",
       "    <tr>\n",
       "      <th>294003</th>\n",
       "      <td>99999680</td>\n",
       "      <td>5999</td>\n",
       "      <td>-81931.01</td>\n",
       "    </tr>\n",
       "    <tr>\n",
       "      <th>294004</th>\n",
       "      <td>99999680</td>\n",
       "      <td>6011</td>\n",
       "      <td>-17870145.44</td>\n",
       "    </tr>\n",
       "    <tr>\n",
       "      <th>294005</th>\n",
       "      <td>99999680</td>\n",
       "      <td>6012</td>\n",
       "      <td>-270318.42</td>\n",
       "    </tr>\n",
       "    <tr>\n",
       "      <th>294006</th>\n",
       "      <td>99999680</td>\n",
       "      <td>7995</td>\n",
       "      <td>-5614.79</td>\n",
       "    </tr>\n",
       "  </tbody>\n",
       "</table>\n",
       "<p>294007 rows × 3 columns</p>\n",
       "</div>"
      ],
      "text/plain": [
       "        customer_id  mcc_code       amount\n",
       "0              6815      4814   -249341.93\n",
       "1              6815      5311   -234030.50\n",
       "2              6815      5411   -236046.19\n",
       "3              6815      5921    -24929.67\n",
       "4              6815      6011  -3211659.68\n",
       "5             22899      4814   -175673.79\n",
       "6             22899      4829  -3134488.76\n",
       "7             22899      5331    -11869.67\n",
       "8             22899      5399     -4626.59\n",
       "9             22899      5411    -89936.80\n",
       "10            22899      5499   -158514.50\n",
       "11            22899      5541    -54805.52\n",
       "12            22899      5735      -763.61\n",
       "13            22899      5912     -2672.64\n",
       "14            22899      6011  -2815367.76\n",
       "15            27914      4814   -167994.67\n",
       "16            27914      4829   -108926.91\n",
       "17            27914      5541     -6731.46\n",
       "18            27914      5732    -44316.18\n",
       "19            27914      6011  -3058937.30\n",
       "20            28753      4511   -412934.07\n",
       "21            28753      4722  -5784872.63\n",
       "22            28753      4814   -166197.73\n",
       "23            28753      4829 -38735983.13\n",
       "24            28753      5200   -552270.69\n",
       "25            28753      5211   -153171.45\n",
       "26            28753      5311    -93815.27\n",
       "27            28753      5331  -1084320.95\n",
       "28            28753      5411   -804033.13\n",
       "29            28753      5499    -29634.86\n",
       "...             ...       ...          ...\n",
       "293977     99991245      5983    -48938.51\n",
       "293978     99991245      5999   -761522.66\n",
       "293979     99991245      6010  -3957300.22\n",
       "293980     99991245      6011  -8950827.83\n",
       "293981     99991245      7011    -80852.97\n",
       "293982     99999680      4812    -85120.21\n",
       "293983     99999680      4814   -171812.74\n",
       "293984     99999680      4829  -2403848.60\n",
       "293985     99999680      5039    -15362.06\n",
       "293986     99999680      5074    -20999.31\n",
       "293987     99999680      5211     -8938.74\n",
       "293988     99999680      5311    -15721.41\n",
       "293989     99999680      5331     -8309.89\n",
       "293990     99999680      5411   -462425.52\n",
       "293991     99999680      5499   -388327.83\n",
       "293992     99999680      5533   -134530.36\n",
       "293993     99999680      5541   -685923.60\n",
       "293994     99999680      5641    -30319.86\n",
       "293995     99999680      5661    -39977.30\n",
       "293996     99999680      5812    -23065.55\n",
       "293997     99999680      5912     -4401.99\n",
       "293998     99999680      5921    -49163.10\n",
       "293999     99999680      5941    -58169.22\n",
       "294000     99999680      5944     -4491.83\n",
       "294001     99999680      5977     -4941.01\n",
       "294002     99999680      5983    -46827.35\n",
       "294003     99999680      5999    -81931.01\n",
       "294004     99999680      6011 -17870145.44\n",
       "294005     99999680      6012   -270318.42\n",
       "294006     99999680      7995     -5614.79\n",
       "\n",
       "[294007 rows x 3 columns]"
      ]
     },
     "execution_count": 258,
     "metadata": {},
     "output_type": "execute_result"
    }
   ],
   "source": [
    "tmp_m"
   ]
  },
  {
   "cell_type": "code",
   "execution_count": 15,
   "metadata": {
    "collapsed": false
   },
   "outputs": [],
   "source": [
    "for i in range(0, len(tmp_p)):\n",
    "    x = tmp_p.iloc[i]\n",
    "    c = x.customer_id\n",
    "    am = x.amount\n",
    "    cod = str(int(x.mcc_code)) + '_p'\n",
    "    n_wd[cats[cod]][users[c]] = am / n_d_plus[c] / (math.pi**math.e)\n",
    "for i in range(0, len(tmp_m)):\n",
    "    x = tmp_m.iloc[i]\n",
    "    c = x.customer_id\n",
    "    am = x.amount\n",
    "    cod = str(int(x.mcc_code)) + '_m'\n",
    "    n_wd[cats[cod]][users[c]] = am / n_d_minus[c] / (math.pi**math.e)"
   ]
  },
  {
   "cell_type": "code",
   "execution_count": 16,
   "metadata": {
    "collapsed": false
   },
   "outputs": [
    {
     "data": {
      "text/plain": [
       "(329, 15000)"
      ]
     },
     "execution_count": 16,
     "metadata": {},
     "output_type": "execute_result"
    }
   ],
   "source": [
    "n_wd.shape"
   ]
  },
  {
   "cell_type": "code",
   "execution_count": 17,
   "metadata": {
    "collapsed": true
   },
   "outputs": [],
   "source": [
    "def print_measures(model_artm):\n",
    "    print 'Sparsity Phi: {0:.3f} (PLSA)'.format(\n",
    "        model_artm.score_tracker['sparsity_phi_score'].last_value)\n",
    "\n",
    "    print 'Sparsity Theta: {0:.3f} (PLSA)'.format(\n",
    "        model_artm.score_tracker['sparsity_theta_score'].last_value)\n",
    "\n",
    "    print 'Kernel contrast: {0:.3f} (PLSA)'.format(\n",
    "        model_artm.score_tracker['topic_kernel_score'].last_average_contrast)\n",
    "\n",
    "    print 'Kernel purity: {0:.3f} (PLSA)'.format(\n",
    "        model_artm.score_tracker['topic_kernel_score'].last_average_purity)\n",
    "\n",
    "    print 'Perplexity: {0:.3f} (PLSA)'.format(\n",
    "        model_artm.score_tracker['my_fisrt_perplexity_score'].last_value)\n",
    "                                  \n",
    "    plt.plot(xrange(model_artm.num_phi_updates), model_artm.score_tracker['my_fisrt_perplexity_score'].value, 'r--', linewidth=2)\n",
    "    plt.xlabel('Iterations count')\n",
    "    plt.ylabel('PLSA perp. (blue)')\n",
    "    plt.grid(True)\n",
    "    plt.show()\n"
   ]
  },
  {
   "cell_type": "code",
   "execution_count": 18,
   "metadata": {
    "collapsed": false
   },
   "outputs": [],
   "source": [
    "batch_vectorizer = artm.BatchVectorizer(data_format='bow_n_wd', n_wd=np.array(n_wd), vocabulary=vocabulary)"
   ]
  },
  {
   "cell_type": "code",
   "execution_count": 19,
   "metadata": {
    "collapsed": false
   },
   "outputs": [
    {
     "data": {
      "text/plain": [
       "artm.Dictionary(name=a416871c-9439-4228-a9df-bea5582b602c, num_entries=329)"
      ]
     },
     "execution_count": 19,
     "metadata": {},
     "output_type": "execute_result"
    }
   ],
   "source": [
    "batch_vectorizer.dictionary"
   ]
  },
  {
   "cell_type": "code",
   "execution_count": 20,
   "metadata": {
    "collapsed": false
   },
   "outputs": [],
   "source": [
    "model = artm.ARTM(num_topics=20, dictionary=batch_vectorizer.dictionary, cache_theta=True)"
   ]
  },
  {
   "cell_type": "code",
   "execution_count": null,
   "metadata": {
    "collapsed": false
   },
   "outputs": [],
   "source": [
    "model.scores.add(artm.PerplexityScore(name='my_fisrt_perplexity_score',\n",
    "                                      dictionary=batch_vectorizer.dictionary))\n",
    "model.scores.add(artm.TopTokensScore(name='top_tokens_score'))\n",
    "model.scores.add(artm.SparsityPhiScore(name='sparsity_phi_score'))\n",
    "model.scores.add(artm.SparsityThetaScore(name='sparsity_theta_score'))\n",
    "model.scores.add(artm.TopicKernelScore(name='topic_kernel_score', probability_mass_threshold=0.1))\n",
    "\n"
   ]
  },
  {
   "cell_type": "code",
   "execution_count": null,
   "metadata": {
    "collapsed": false
   },
   "outputs": [],
   "source": [
    "model.fit_offline(batch_vectorizer=batch_vectorizer, num_collection_passes=10)"
   ]
  },
  {
   "cell_type": "code",
   "execution_count": 29,
   "metadata": {
    "collapsed": false
   },
   "outputs": [
    {
     "name": "stdout",
     "output_type": "stream",
     "text": [
      "[230.511426701756, 6.637696285200442, 6.153757548980955, 5.952662316369717, 5.823536998968667, 5.729716270154147, 5.665014922506659, 5.621733035049362, 5.592241414984148, 5.570723549015333, 5.554917698435936, 5.528533810917278, 5.51297355632951, 5.500252818956922, 5.4887002281198916, 5.477847341686515, 5.468180920338093, 5.459718544772921, 5.450941448007528, 5.439225624668738, 6.229719742754324, 5.722310017472355, 5.703855222286889, 5.701600711356237, 5.702172321630619, 5.70089725579405, 5.698211688484551, 5.698293849870252, 5.697405910270444, 5.69396215488404]\n",
      "[0.0, 0.0, 0.00303951367781155, 0.0121580547112462, 0.022948328267477204, 0.037993920972644375, 0.05075987841945289, 0.06413373860182371, 0.0797872340425532, 0.09969604863221884, 0.11838905775075988, 0.13404255319148936, 0.14969604863221886, 0.16458966565349545, 0.18085106382978725, 0.19422492401215805, 0.20896656534954408, 0.22522796352583588, 0.2413373860182371, 0.25455927051671734, 0.28677811550151977, 0.30243161094224924, 0.3110942249240122, 0.3191489361702128, 0.3268996960486322, 0.3334346504559271, 0.3405775075987842, 0.3487841945288754, 0.35638297872340424, 0.3661094224924012]\n",
      "[0.0010033333333333333, 0.0009933333333333333, 0.0017533333333333333, 0.0027866666666666665, 0.004006666666666667, 0.00602, 0.008613333333333334, 0.01104, 0.013343333333333334, 0.015486666666666666, 0.018186666666666667, 0.07348, 0.08377, 0.10367666666666667, 0.11138, 0.11807, 0.12817, 0.13335333333333332, 0.13578666666666667, 0.13902666666666666, 0.6977033333333333, 0.7181833333333333, 0.7331566666666667, 0.7470933333333334, 0.7603966666666667, 0.7731733333333334, 0.7838333333333334, 0.7913933333333333, 0.7972566666666666, 0.80294]\n",
      "[u'5411_p', u'7299_m', u'6012_p', u'5949_p', u'5816_m', u'5912_p', u'6051_p', u'5611_p', u'5691_p', u'5699_p', u'5200_p', u'4722_p', u'5641_p', u'7399_p', u'7994_m', u'5967_m', u'4814_p', u'5651_p', u'5599_p', u'7832_p', u'7311_p', u'5722_p', u'5541_p', u'5533_p', u'6051_m', u'5399_p', u'5681_p']\n",
      "[u'9311_m', u'5814_p', u'7299_p', u'5261_p', u'5300_p', u'6051_p', u'5211_p', u'5941_p', u'7011_p', u'2741_p', u'5732_p', u'5945_p', u'5311_p', u'5699_p', u'5200_p', u'5045_p', u'5813_p', u'8043_p', u'1799_m', u'8220_m', u'5944_p', u'5712_p', u'6211_m', u'5964_p', u'5948_p', u'6513_m', u'5661_p', u'4812_p', u'5969_m', u'5655_p', u'7311_p', u'5735_m', u'8999_m', u'5631_p', u'5331_p', u'5999_p', u'4900_m', u'5964_m', u'5511_p', u'5044_m', u'5621_p']\n",
      "[u'5441_p', u'5085_p', u'6010_m', u'8299_p']\n",
      "[u'6011_m', u'5251_p', u'5967_m', u'5172_m', u'5199_m', u'5231_p', u'9402_m']\n",
      "[u'7011_m', u'5971_m', u'5814_m', u'9311_m', u'5814_p', u'5441_m', u'5812_p', u'7991_m', u'5611_m', u'5411_m', u'8641_m', u'5451_m', u'5462_m', u'4112_m', u'5949_m', u'7523_m', u'7629_m', u'5931_m', u'5192_m', u'5039_p', u'5111_m', u'5065_m', u'8062_m', u'5261_m', u'7699_m', u'7999_m', u'8099_m', u'7933_m', u'5921_m', u'5251_m', u'5122_m', u'7999_p', u'5697_m', u'4511_m', u'7395_m', u'8021_m', u'7338_m', u'7210_m', u'7221_m', u'5169_m', u'5691_m', u'7216_m', u'4829_m', u'5137_m', u'4789_m', u'5094_p', u'5941_p', u'5310_m', u'9222_m', u'5211_m', u'7298_m', u'5499_m', u'5713_m', u'5943_m', u'5912_m', u'7011_p', u'9222_p', u'1711_m', u'7841_m', u'5099_m', u'3501_p', u'4121_p', u'5947_m', u'742_m', u'5532_m', u'5732_p', u'9399_m', u'5945_p', u'5200_m', u'5699_m', u'7512_m', u'5311_m', u'5945_m', u'5732_m', u'8071_m', u'5599_m', u'5094_m', u'5816_p', u'6010_p', u'7922_p', u'5811_m', u'7922_m', u'5943_p', u'4121_m', u'5968_p', u'5712_m', u'5641_m', u'6536_m', u'7996_m', u'8220_m', u'5942_m', u'5712_p', u'4214_m', u'5714_m', u'5131_m', u'7832_m', u'5976_p', u'5944_m', u'4722_m', u'5946_m', u'8043_m', u'5941_m', u'8299_m', u'7399_m', u'5719_m', u'5651_m', u'5992_p', u'5948_m', u'5047_m', u'5976_m', u'4899_m', u'5970_m', u'5681_m', u'7538_m', u'5733_m', u'5047_p', u'8244_m', u'5992_m', u'6513_m', u'4816_m', u'7395_p', u'7372_m', u'5045_m', u'5655_m', u'4111_p', u'5300_m', u'4812_m', u'5661_m', u'7372_p', u'5331_m', u'5074_p', u'7997_m', u'5631_m', u'8999_p', u'5072_m', u'5735_m', u'5977_m', u'4215_m', u'8999_m', u'5199_m', u'5735_p', u'8011_m', u'5812_m', u'7311_m', u'7993_m', u'5231_m', u'4816_p', u'5999_m', u'5621_m', u'5169_p', u'9399_p', u'5722_m', u'4411_m', u'5995_m', u'5994_m', u'7542_m', u'5193_m', u'5511_m', u'5813_m', u'5993_m', u'4900_m', u'5964_m', u'5511_p', u'4111_m', u'5995_p', u'7230_m', u'2741_m', u'5309_m', u'5044_m', u'5422_m', u'5399_m', u'5734_m', u'6300_m', u'5950_m', u'5085_m']\n",
      "[u'5970_p', u'7011_m', u'5971_m', u'5812_p', u'7991_m', u'5949_m', u'7523_m', u'8062_m', u'7999_m', u'9311_p', u'8099_m', u'3501_m', u'7999_p', u'4511_m', u'8021_m', u'7210_m', u'5691_m', u'7298_p', u'7216_m', u'5094_p', u'5310_m', u'5691_p', u'7298_m', u'5947_p', u'7011_p', u'5940_p', u'5099_m', u'3501_p', u'4121_p', u'5947_m', u'5969_p', u'8071_p', u'5699_m', u'7512_m', u'5699_p', u'7512_p', u'8062_p', u'8071_m', u'5599_m', u'8699_m', u'7922_p', u'3000_m', u'3000_p', u'7922_m', u'5943_p', u'4121_m', u'5968_p', u'5940_m', u'4722_p', u'7996_m', u'5942_m', u'5131_m', u'8011_p', u'3351_m', u'5944_m', u'4722_m', u'5072_p', u'3351_p', u'8299_m', u'5651_m', u'5992_p', u'5948_m', u'5970_m', u'5681_m', u'7538_p', u'5719_p', u'5047_p', u'8244_m', u'6513_m', u'5309_p', u'5969_m', u'8398_m', u'4131_m', u'4511_p', u'7997_m', u'5631_m', u'8299_p', u'9211_m', u'4215_m', u'5812_m', u'5621_m', u'9399_p', u'5994_m', u'1731_m', u'5811_p', u'8099_p', u'4111_m', u'5995_p', u'7230_m', u'2741_m', u'5309_m', u'5965_m', u'5422_m', u'6300_m', u'5621_p']\n",
      "[u'5039_m', u'7629_m', u'5111_m', u'5261_m', u'5122_m', u'4215_p', u'7273_p', u'7338_m', u'6011_m', u'9222_m', u'5211_m', u'5943_m', u'7994_p', u'7273_m', u'6010_p', u'5943_p', u'6010_m', u'7278_m', u'4814_m', u'5047_m', u'5976_m', u'4899_m', u'5074_m']\n",
      "[u'7011_m', u'7299_m', u'5971_m', u'5814_m', u'9311_m', u'5441_m', u'7991_m', u'5611_m', u'5411_m', u'8641_m', u'5451_m', u'5462_m', u'4112_m', u'5949_m', u'7523_m', u'5931_m', u'5111_m', u'5816_m', u'8062_m', u'5261_m', u'7699_m', u'7999_m', u'8099_m', u'7933_m', u'5921_m', u'5251_m', u'5122_m', u'8021_m', u'6011_p', u'5571_p', u'7221_m', u'5169_m', u'5691_m', u'7216_m', u'5310_m', u'9222_m', u'7298_m', u'5943_m', u'5912_m', u'7841_m', u'5947_m', u'742_m', u'9399_m', u'5945_p', u'5200_m', u'5699_m', u'5311_m', u'5945_m', u'5732_m', u'8071_m', u'5094_m', u'7273_m', u'5811_m', u'7922_m', u'5712_m', u'5641_m', u'7996_m', u'7278_m', u'5942_m', u'5714_m', u'5131_m', u'7832_m', u'5944_m', u'5946_p', u'4722_m', u'5946_m', u'8043_m', u'5941_m', u'7994_m', u'8299_m', u'7399_m', u'5719_m', u'5651_m', u'5948_m', u'4814_m', u'4899_m', u'5681_m', u'5733_m', u'4899_p', u'4814_p', u'5992_m', u'4816_m', u'5045_m', u'5655_m', u'4131_m', u'5300_m', u'4812_m', u'5661_m', u'7372_p', u'7997_m', u'5631_m', u'5977_m', u'5074_m', u'4215_m', u'8999_m', u'5199_m', u'8011_m', u'5812_m', u'7311_m', u'5999_m', u'5621_m', u'5722_m', u'4411_m', u'5995_m', u'7542_m', u'5193_m', u'5813_m', u'5993_m', u'4900_m', u'5964_m', u'4111_m', u'5065_p', u'7230_m', u'2741_m', u'5309_m', u'5422_p', u'5399_m', u'5734_m', u'5950_m']\n",
      "[u'5816_m', u'5300_p', u'5713_m', u'1711_m', u'5732_p', u'5732_m', u'5942_p', u'7399_p', u'5946_p', u'5946_m', u'5971_p', u'7994_m', u'3351_p', u'7829_m', u'8299_m', u'7399_m', u'5719_m', u'5733_m', u'4899_p', u'6513_m', u'4816_m', u'5045_m', u'5300_m', u'4812_m', u'5735_m', u'6513_p', u'8011_m', u'7993_m', u'5722_m', u'5950_p', u'5965_m', u'5965_p', u'5399_m', u'5734_m']\n",
      "[u'5697_m', u'4829_m', u'4121_m', u'1799_m', u'7996_m', u'5310_p', u'5599_p', u'7372_p', u'7993_p', u'7375_p']\n",
      "[u'5970_p', u'5611_m', u'8641_m', u'7629_m', u'5065_m', u'8641_p', u'5122_m', u'5571_p', u'7011_p', u'2741_p', u'5732_m', u'8398_p', u'7278_m', u'5532_p', u'5944_m', u'5542_m', u'3351_p', u'4899_m', u'4812_m', u'5331_m', u'5631_p']\n",
      "[u'5812_p', u'5411_m', u'8641_m', u'6011_m', u'6051_p', u'5983_m', u'5947_p', u'742_m', u'4900_p', u'5532_m', u'9399_m', u'6010_p', u'7932_m', u'4131_p', u'5532_p', u'7399_p', u'5542_p', u'7994_m', u'5533_m', u'5967_m', u'4814_m', u'4131_m', u'9211_m', u'5199_m', u'7311_m', u'4816_p', u'5541_m', u'5950_p', u'9402_m', u'5013_m']\n",
      "[u'5441_m', u'5411_m', u'5462_m', u'5039_m', u'5931_m', u'5065_m', u'5261_m', u'7699_m', u'7395_m', u'5137_m', u'5941_p', u'5310_m', u'5912_m', u'5499_p', u'742_m', u'4900_p', u'5311_m', u'8071_m', u'5599_m', u'5811_m', u'5641_m', u'5942_m', u'4784_m', u'8043_m', u'5651_m', u'5948_m', u'5047_m', u'5976_m', u'5714_p', u'4829_p', u'5300_m', u'5661_m', u'9211_m', u'5995_m', u'5995_p', u'9402_m']\n",
      "[u'6211_p', u'6012_m', u'7375_m', u'5099_m', u'6536_m', u'6211_m', u'4814_m', u'7995_p', u'7995_m']\n",
      "[u'5814_m', u'5192_p', u'5192_m', u'5921_m', u'5983_p', u'4789_p', u'4789_m', u'5734_p', u'5970_m', u'5681_m', u'5977_p', u'7993_m', u'5813_m', u'5013_p']\n",
      "[u'7299_m', u'6012_m', u'7523_m', u'7933_m', u'3501_m', u'7375_m', u'4511_m', u'7210_p', u'7210_m', u'5571_p', u'7298_p', u'4829_m', u'7542_p', u'5094_p', u'7841_m', u'5940_p', u'7531_m', u'9399_m', u'7512_m', u'7512_p', u'5599_m', u'5968_m', u'1711_p', u'7922_p', u'3000_m', u'7922_m', u'5943_p', u'4131_p', u'5940_m', u'4214_m', u'3351_m', u'5310_p', u'4722_m', u'5542_m', u'7829_m', u'7399_m', u'6211_m', u'5047_m', u'4899_m', u'4899_p', u'8244_m', u'4816_m', u'7372_m', u'5045_m', u'5969_m', u'4111_p', u'8398_m', u'4829_p', u'9211_m', u'4215_m', u'5735_p', u'7997_p', u'7311_m', u'4816_p', u'7993_p', u'7542_m', u'7230_p', u'6051_m', u'5965_p', u'5044_m']\n",
      "[u'4112_m', u'4112_p', u'5921_p', u'7395_m', u'5940_p', u'4900_p', u'5945_p', u'8398_p', u'4784_p', u'8999_p']\n",
      "[u'5039_m', u'7629_m', u'5192_m', u'5065_m', u'5261_m', u'7699_m', u'5199_p', u'7933_m', u'5921_m', u'5251_m', u'5697_m', u'7338_m', u'5571_m', u'5137_m', u'5310_m', u'5211_m', u'5713_m', u'5983_m', u'1711_m', u'7841_m', u'5099_m', u'7531_m', u'5532_m', u'5969_p', u'5200_m', u'5599_m', u'7922_p', u'7932_m', u'1799_m', u'5713_p', u'7278_m', u'5542_m', u'5533_m', u'6211_m', u'5967_m', u'7538_m', u'7538_p', u'5992_m', u'5172_m', u'7699_p', u'5969_m', u'5074_p', u'5072_m', u'5074_m', u'5231_m', u'5999_m', u'4411_m', u'5541_p', u'7542_m', u'5193_m', u'5511_m', u'1731_m', u'5533_p', u'5541_m', u'5422_m', u'5013_m', u'6300_m', u'5950_m', u'5085_m']\n",
      "[u'6011_p', u'6011_m', u'5499_m', u'7993_m', u'5065_p']\n",
      "[u'5499_m', u'5331_m', u'5099_p', u'6536_p', u'5993_m', u'5422_p']\n",
      "----------------------\n",
      "[u'6012_p', u'5411_p', u'5691_p', u'5541_p', u'5722_p', u'6051_m', u'5641_p', u'5651_p', u'5681_p', u'5399_p']\n",
      "[u'5964_m', u'5661_p', u'4900_m', u'5964_p', u'5211_p', u'5261_p', u'5999_p', u'8999_m', u'4812_p', u'5732_p']\n",
      "[u'6010_m', u'5681_m', u'5211_m', u'5511_m', u'5533_m', u'5085_p', u'8299_m', u'4814_m', u'4511_m', u'6300_m']\n",
      "[u'6011_m', u'5411_m', u'4814_m', u'4829_m', u'6010_m', u'5331_m', u'5499_m', u'5722_m', u'5912_m', u'5541_m']\n",
      "[u'6010_p', u'4829_m', u'5411_m', u'5499_m', u'6011_m', u'5691_m', u'5331_m', u'5912_m', u'5661_m', u'5812_m']\n",
      "[u'4511_m', u'3000_m', u'5691_m', u'4722_m', u'8099_m', u'7011_m', u'5812_m', u'5699_m', u'5944_m', u'4511_p']\n",
      "[u'6010_p', u'6011_m', u'4814_m', u'6010_m', u'5499_m', u'5411_m', u'4829_m', u'5211_m', u'5912_m', u'6012_p']\n",
      "[u'6011_p', u'5411_m', u'6011_m', u'4814_m', u'6010_p', u'5912_m', u'5691_m', u'5661_m', u'4829_m', u'5977_m']\n",
      "[u'5722_m', u'5732_m', u'4812_m', u'5719_m', u'5712_m', u'5300_m', u'7994_m', u'7399_m', u'5399_m', u'5734_m']\n",
      "[u'4829_m', u'6011_p', u'4814_m', u'6010_p', u'6536_p', u'5541_m', u'5812_m', u'5499_m', u'6012_p', u'5814_m']\n",
      "[u'6011_p', u'6011_m', u'4829_m', u'6010_p', u'5331_m', u'6010_m', u'5499_m', u'5411_m', u'4814_m', u'5944_m']\n",
      "[u'6010_p', u'6011_m', u'6011_p', u'4829_m', u'5411_m', u'4814_m', u'5541_m', u'5983_m', u'5533_m', u'5499_m']\n",
      "[u'5411_m', u'5912_m', u'5499_m', u'5661_m', u'5311_m', u'5331_m', u'5691_m', u'4814_m', u'5651_m', u'5977_m']\n",
      "[u'4814_m', u'7995_m', u'6012_m', u'7995_p', u'6536_m', u'6211_p', u'6051_m', u'6012_p', u'6211_m', u'7994_m']\n",
      "[u'5921_m', u'5814_m', u'5812_m', u'4789_m', u'5977_p', u'5983_p', u'5681_m', u'5813_m', u'5734_p', u'7994_m']\n",
      "[u'4829_m', u'6010_p', u'6011_p', u'6012_p', u'4511_m', u'5541_m', u'3000_m', u'6012_m', u'5964_m', u'5261_m']\n",
      "[u'4112_p', u'4112_m', u'5921_p', u'5945_m', u'5712_m', u'4900_p', u'5941_m', u'8999_m', u'4511_m', u'7298_m']\n",
      "[u'6011_p', u'5541_m', u'5211_m', u'6010_p', u'5411_m', u'5533_m', u'6011_m', u'4829_m', u'5999_m', u'5983_m']\n",
      "[u'6011_p', u'6011_m', u'4814_m', u'5499_m', u'6010_p', u'5411_m', u'6010_m', u'5912_m', u'5999_m', u'5331_m']\n",
      "[u'5499_m', u'6536_p', u'5331_m', u'5999_m', u'5912_m', u'5921_m', u'5200_m', u'5211_m', u'5541_m', u'5983_m']\n"
     ]
    }
   ],
   "source": [
    "print model.score_tracker['my_fisrt_perplexity_score'].value\n",
    "print model.score_tracker['sparsity_phi_score'].value    # .last_value\n",
    "print model.score_tracker['sparsity_theta_score'].value  # .last_value\n",
    "saved_top_kernels =  model.score_tracker['topic_kernel_score'].last_tokens\n",
    "\n",
    "for topic_name in model.topic_names:\n",
    "    print saved_top_kernels[topic_name]\n",
    "print '----------------------'\n",
    "saved_top_tokens = model.score_tracker['top_tokens_score'].last_tokens\n",
    "\n",
    "for topic_name in model.topic_names:\n",
    "    print saved_top_tokens[topic_name]"
   ]
  },
  {
   "cell_type": "code",
   "execution_count": null,
   "metadata": {
    "collapsed": false
   },
   "outputs": [],
   "source": [
    "print_measures(model)"
   ]
  },
  {
   "cell_type": "code",
   "execution_count": 230,
   "metadata": {
    "collapsed": false
   },
   "outputs": [
    {
     "name": "stdout",
     "output_type": "stream",
     "text": [
      "\n"
     ]
    }
   ],
   "source": [
    "model = artm.ARTM(num_topics=25, dictionary=batch_vectorizer.dictionary, cache_theta=True)\n",
    "model.scores.add(artm.PerplexityScore(name='my_fisrt_perplexity_score',\n",
    "                                      dictionary=batch_vectorizer.dictionary))\n",
    "model.scores.add(artm.TopTokensScore(name='top_tokens_score'))\n",
    "model.scores.add(artm.SparsityPhiScore(name='sparsity_phi_score'))\n",
    "model.scores.add(artm.SparsityThetaScore(name='sparsity_theta_score'))\n",
    "model.scores.add(artm.TopicKernelScore(name='topic_kernel_score', probability_mass_threshold=0.1))\n",
    "model.fit_offline(batch_vectorizer=batch_vectorizer, num_collection_passes=30)\n",
    "model.regularizers.add(artm.DecorrelatorPhiRegularizer(name='decorrelator_phi_regularizer'))\n",
    "#model.regularizers.add(artm.SmoothSparsePhiRegularizer(name='sparse_phi_regularizer'))\n",
    "#model.regularizers.add(artm.SmoothSparseThetaRegularizer(name='sparse_theta_regularizer'))"
   ]
  },
  {
   "cell_type": "code",
   "execution_count": 231,
   "metadata": {
    "collapsed": false
   },
   "outputs": [
    {
     "name": "stdout",
     "output_type": "stream",
     "text": [
      "Sparsity Phi: 0.404 (PLSA)\n",
      "Sparsity Theta: 0.084 (PLSA)\n",
      "Kernel contrast: 0.507 (PLSA)\n",
      "Kernel purity: 0.821 (PLSA)\n",
      "Perplexity: 5.364 (PLSA)\n"
     ]
    },
    {
     "data": {
      "image/png": "[encoded data removed]",
      "text/plain": [
       "<matplotlib.figure.Figure at 0x7f5da3969f10>"
      ]
     },
     "metadata": {},
     "output_type": "display_data"
    }
   ],
   "source": [
    "print_measures(model)\n",
    "model.regularizers['decorrelator_phi_regularizer'].tau = 5e+2\n",
    "#model.regularizers['sparse_phi_regularizer'].tau = 0.005\n",
    "#model.regularizers['sparse_theta_regularizer'].tau = -0.1\n"
   ]
  },
  {
   "cell_type": "code",
   "execution_count": 232,
   "metadata": {
    "collapsed": false
   },
   "outputs": [
    {
     "name": "stdout",
     "output_type": "stream",
     "text": [
      "\n"
     ]
    }
   ],
   "source": [
    "model.fit_offline(batch_vectorizer=batch_vectorizer, num_collection_passes=10)"
   ]
  },
  {
   "cell_type": "code",
   "execution_count": 233,
   "metadata": {
    "collapsed": false
   },
   "outputs": [
    {
     "name": "stdout",
     "output_type": "stream",
     "text": [
      "Sparsity Phi: 0.722 (PLSA)\n",
      "Sparsity Theta: 0.536 (PLSA)\n",
      "Kernel contrast: 0.817 (PLSA)\n",
      "Kernel purity: 0.987 (PLSA)\n",
      "Perplexity: 4.845 (PLSA)\n"
     ]
    },
    {
     "data": {
      "image/png": "[encoded data removed]",
      "text/plain": [
       "<matplotlib.figure.Figure at 0x7f5da7dc7550>"
      ]
     },
     "metadata": {},
     "output_type": "display_data"
    }
   ],
   "source": [
    "print_measures(model)"
   ]
  },
  {
   "cell_type": "code",
   "execution_count": 234,
   "metadata": {
    "collapsed": true
   },
   "outputs": [],
   "source": [
    "#model.regularizers.add(artm.SmoothSparsePhiRegularizer(name='sparse_phi_regularizer'))\n",
    "model.regularizers.add(artm.SmoothSparseThetaRegularizer(name='sparse_theta_regularizer'))"
   ]
  },
  {
   "cell_type": "code",
   "execution_count": 235,
   "metadata": {
    "collapsed": true
   },
   "outputs": [],
   "source": [
    "#model.regularizers['sparse_phi_regularizer'].tau = 0.1\n",
    "model.regularizers['sparse_theta_regularizer'].tau = -0.005"
   ]
  },
  {
   "cell_type": "code",
   "execution_count": 236,
   "metadata": {
    "collapsed": false
   },
   "outputs": [
    {
     "name": "stdout",
     "output_type": "stream",
     "text": [
      "\n"
     ]
    }
   ],
   "source": [
    "model.fit_offline(batch_vectorizer=batch_vectorizer, num_collection_passes=10)"
   ]
  },
  {
   "cell_type": "code",
   "execution_count": 237,
   "metadata": {
    "collapsed": false
   },
   "outputs": [
    {
     "name": "stdout",
     "output_type": "stream",
     "text": [
      "Sparsity Phi: 0.743 (PLSA)\n",
      "Sparsity Theta: 0.750 (PLSA)\n",
      "Kernel contrast: 0.626 (PLSA)\n",
      "Kernel purity: 0.986 (PLSA)\n",
      "Perplexity: 4.879 (PLSA)\n"
     ]
    },
    {
     "data": {
      "image/png": "[encoded data removed]",
      "text/plain": [
       "<matplotlib.figure.Figure at 0x7f5de8734b90>"
      ]
     },
     "metadata": {},
     "output_type": "display_data"
    }
   ],
   "source": [
    "print_measures(model)"
   ]
  },
  {
   "cell_type": "code",
   "execution_count": 239,
   "metadata": {
    "collapsed": false
   },
   "outputs": [
    {
     "name": "stdout",
     "output_type": "stream",
     "text": [
      "3\n",
      "4\n",
      "3\n",
      "3\n",
      "2\n",
      "1\n",
      "3\n",
      "3\n",
      "2\n",
      "1\n",
      "3\n",
      "2\n",
      "4\n",
      "4\n",
      "1\n",
      "3\n",
      "3\n",
      "2\n",
      "1\n",
      "5\n",
      "3\n",
      "3\n",
      "2\n",
      "3\n",
      "1\n",
      "3\n",
      "3\n",
      "2\n",
      "3\n",
      "3\n",
      "1\n",
      "2\n",
      "1\n",
      "3\n",
      "3\n",
      "2\n",
      "2\n",
      "1\n",
      "2\n",
      "3\n",
      "1\n",
      "2\n",
      "3\n",
      "3\n",
      "3\n",
      "3\n",
      "2\n",
      "3\n",
      "2\n",
      "2\n",
      "1\n",
      "3\n",
      "3\n",
      "2\n",
      "3\n",
      "3\n",
      "2\n",
      "2\n",
      "4\n",
      "2\n",
      "2\n",
      "4\n",
      "2\n",
      "2\n",
      "2\n",
      "1\n",
      "2\n",
      "1\n",
      "2\n",
      "3\n",
      "3\n",
      "2\n",
      "3\n",
      "3\n",
      "2\n",
      "2\n",
      "2\n",
      "3\n",
      "1\n",
      "2\n",
      "2\n",
      "3\n",
      "3\n",
      "4\n",
      "2\n",
      "3\n",
      "2\n",
      "3\n",
      "3\n",
      "2\n",
      "2\n",
      "3\n",
      "3\n",
      "2\n",
      "2\n",
      "3\n",
      "1\n",
      "6\n",
      "3\n",
      "2\n",
      "0\n"
     ]
    }
   ],
   "source": [
    "cnt = 0\n",
    "for x in theta_matrix.columns[:100]:\n",
    "    #print x\n",
    "    kol = theta_matrix[theta_matrix[x] > 0.1][x].count()\n",
    "    print(kol)\n",
    "    if kol == 0:\n",
    "        cnt = cnt + 1\n",
    "print(cnt)"
   ]
  },
  {
   "cell_type": "code",
   "execution_count": 241,
   "metadata": {
    "collapsed": false
   },
   "outputs": [
    {
     "data": {
      "text/html": [
       "<div>\n",
       "<table border=\"1\" class=\"dataframe\">\n",
       "  <thead>\n",
       "    <tr style=\"text-align: right;\">\n",
       "      <th></th>\n",
       "      <th>1000</th>\n",
       "      <th>1001</th>\n",
       "      <th>1002</th>\n",
       "      <th>1003</th>\n",
       "      <th>1004</th>\n",
       "      <th>1005</th>\n",
       "      <th>1006</th>\n",
       "      <th>1007</th>\n",
       "      <th>1008</th>\n",
       "      <th>1009</th>\n",
       "      <th>...</th>\n",
       "      <th>11990</th>\n",
       "      <th>11991</th>\n",
       "      <th>11992</th>\n",
       "      <th>11993</th>\n",
       "      <th>11994</th>\n",
       "      <th>11995</th>\n",
       "      <th>11996</th>\n",
       "      <th>11997</th>\n",
       "      <th>11998</th>\n",
       "      <th>11999</th>\n",
       "    </tr>\n",
       "  </thead>\n",
       "  <tbody>\n",
       "    <tr>\n",
       "      <th>topic_0</th>\n",
       "      <td>0.000000</td>\n",
       "      <td>0.000560</td>\n",
       "      <td>0.000000</td>\n",
       "      <td>0.000000</td>\n",
       "      <td>0.000000</td>\n",
       "      <td>0.000000</td>\n",
       "      <td>0.000000</td>\n",
       "      <td>0.000000</td>\n",
       "      <td>0.000000</td>\n",
       "      <td>0.000000</td>\n",
       "      <td>...</td>\n",
       "      <td>0.000000</td>\n",
       "      <td>0.020746</td>\n",
       "      <td>0.000000</td>\n",
       "      <td>0.000000</td>\n",
       "      <td>0.185560</td>\n",
       "      <td>0.255513</td>\n",
       "      <td>0.0</td>\n",
       "      <td>0.0</td>\n",
       "      <td>0.000000</td>\n",
       "      <td>0.000000</td>\n",
       "    </tr>\n",
       "    <tr>\n",
       "      <th>topic_1</th>\n",
       "      <td>0.000000</td>\n",
       "      <td>0.000000</td>\n",
       "      <td>0.000000</td>\n",
       "      <td>0.037865</td>\n",
       "      <td>0.011173</td>\n",
       "      <td>0.000000</td>\n",
       "      <td>0.000000</td>\n",
       "      <td>0.000000</td>\n",
       "      <td>0.000000</td>\n",
       "      <td>0.000000</td>\n",
       "      <td>...</td>\n",
       "      <td>0.000000</td>\n",
       "      <td>0.000000</td>\n",
       "      <td>0.000000</td>\n",
       "      <td>0.000000</td>\n",
       "      <td>0.000000</td>\n",
       "      <td>0.000000</td>\n",
       "      <td>0.0</td>\n",
       "      <td>0.0</td>\n",
       "      <td>0.000000</td>\n",
       "      <td>0.000000</td>\n",
       "    </tr>\n",
       "    <tr>\n",
       "      <th>topic_2</th>\n",
       "      <td>0.455983</td>\n",
       "      <td>0.000000</td>\n",
       "      <td>0.008787</td>\n",
       "      <td>0.019196</td>\n",
       "      <td>0.000000</td>\n",
       "      <td>0.026098</td>\n",
       "      <td>0.000000</td>\n",
       "      <td>0.000000</td>\n",
       "      <td>0.033364</td>\n",
       "      <td>0.071814</td>\n",
       "      <td>...</td>\n",
       "      <td>0.068665</td>\n",
       "      <td>0.000000</td>\n",
       "      <td>0.000000</td>\n",
       "      <td>0.000000</td>\n",
       "      <td>0.000000</td>\n",
       "      <td>0.000000</td>\n",
       "      <td>0.0</td>\n",
       "      <td>0.0</td>\n",
       "      <td>0.002306</td>\n",
       "      <td>0.037379</td>\n",
       "    </tr>\n",
       "    <tr>\n",
       "      <th>topic_3</th>\n",
       "      <td>0.219627</td>\n",
       "      <td>0.125741</td>\n",
       "      <td>0.276179</td>\n",
       "      <td>0.221308</td>\n",
       "      <td>0.279212</td>\n",
       "      <td>0.973902</td>\n",
       "      <td>0.425105</td>\n",
       "      <td>0.367024</td>\n",
       "      <td>0.468332</td>\n",
       "      <td>0.794965</td>\n",
       "      <td>...</td>\n",
       "      <td>0.210708</td>\n",
       "      <td>0.316435</td>\n",
       "      <td>0.481311</td>\n",
       "      <td>0.284343</td>\n",
       "      <td>0.454401</td>\n",
       "      <td>0.319861</td>\n",
       "      <td>1.0</td>\n",
       "      <td>1.0</td>\n",
       "      <td>0.292046</td>\n",
       "      <td>0.256222</td>\n",
       "    </tr>\n",
       "    <tr>\n",
       "      <th>topic_4</th>\n",
       "      <td>0.055850</td>\n",
       "      <td>0.051541</td>\n",
       "      <td>0.174447</td>\n",
       "      <td>0.176208</td>\n",
       "      <td>0.097842</td>\n",
       "      <td>0.000000</td>\n",
       "      <td>0.207376</td>\n",
       "      <td>0.103923</td>\n",
       "      <td>0.063696</td>\n",
       "      <td>0.004785</td>\n",
       "      <td>...</td>\n",
       "      <td>0.114979</td>\n",
       "      <td>0.150255</td>\n",
       "      <td>0.202409</td>\n",
       "      <td>0.363132</td>\n",
       "      <td>0.008953</td>\n",
       "      <td>0.231665</td>\n",
       "      <td>0.0</td>\n",
       "      <td>0.0</td>\n",
       "      <td>0.150459</td>\n",
       "      <td>0.213755</td>\n",
       "    </tr>\n",
       "    <tr>\n",
       "      <th>topic_5</th>\n",
       "      <td>0.000000</td>\n",
       "      <td>0.004111</td>\n",
       "      <td>0.017693</td>\n",
       "      <td>0.000000</td>\n",
       "      <td>0.000000</td>\n",
       "      <td>0.000000</td>\n",
       "      <td>0.015773</td>\n",
       "      <td>0.011839</td>\n",
       "      <td>0.065440</td>\n",
       "      <td>0.000000</td>\n",
       "      <td>...</td>\n",
       "      <td>0.040199</td>\n",
       "      <td>0.000000</td>\n",
       "      <td>0.041393</td>\n",
       "      <td>0.038785</td>\n",
       "      <td>0.000000</td>\n",
       "      <td>0.000000</td>\n",
       "      <td>0.0</td>\n",
       "      <td>0.0</td>\n",
       "      <td>0.000000</td>\n",
       "      <td>0.000000</td>\n",
       "    </tr>\n",
       "    <tr>\n",
       "      <th>topic_6</th>\n",
       "      <td>0.058941</td>\n",
       "      <td>0.269322</td>\n",
       "      <td>0.000000</td>\n",
       "      <td>0.000000</td>\n",
       "      <td>0.043369</td>\n",
       "      <td>0.000000</td>\n",
       "      <td>0.000000</td>\n",
       "      <td>0.000000</td>\n",
       "      <td>0.051732</td>\n",
       "      <td>0.000000</td>\n",
       "      <td>...</td>\n",
       "      <td>0.000000</td>\n",
       "      <td>0.000000</td>\n",
       "      <td>0.000000</td>\n",
       "      <td>0.000000</td>\n",
       "      <td>0.018359</td>\n",
       "      <td>0.035682</td>\n",
       "      <td>0.0</td>\n",
       "      <td>0.0</td>\n",
       "      <td>0.000000</td>\n",
       "      <td>0.000000</td>\n",
       "    </tr>\n",
       "    <tr>\n",
       "      <th>topic_7</th>\n",
       "      <td>0.000000</td>\n",
       "      <td>0.000000</td>\n",
       "      <td>0.000000</td>\n",
       "      <td>0.000000</td>\n",
       "      <td>0.000000</td>\n",
       "      <td>0.000000</td>\n",
       "      <td>0.000000</td>\n",
       "      <td>0.000000</td>\n",
       "      <td>0.000000</td>\n",
       "      <td>0.000000</td>\n",
       "      <td>...</td>\n",
       "      <td>0.000000</td>\n",
       "      <td>0.000000</td>\n",
       "      <td>0.000000</td>\n",
       "      <td>0.000000</td>\n",
       "      <td>0.000000</td>\n",
       "      <td>0.000000</td>\n",
       "      <td>0.0</td>\n",
       "      <td>0.0</td>\n",
       "      <td>0.000000</td>\n",
       "      <td>0.000000</td>\n",
       "    </tr>\n",
       "    <tr>\n",
       "      <th>topic_8</th>\n",
       "      <td>0.000000</td>\n",
       "      <td>0.182501</td>\n",
       "      <td>0.000000</td>\n",
       "      <td>0.072001</td>\n",
       "      <td>0.000000</td>\n",
       "      <td>0.000000</td>\n",
       "      <td>0.094957</td>\n",
       "      <td>0.000000</td>\n",
       "      <td>0.120601</td>\n",
       "      <td>0.097770</td>\n",
       "      <td>...</td>\n",
       "      <td>0.026435</td>\n",
       "      <td>0.026525</td>\n",
       "      <td>0.026435</td>\n",
       "      <td>0.000000</td>\n",
       "      <td>0.000000</td>\n",
       "      <td>0.012036</td>\n",
       "      <td>0.0</td>\n",
       "      <td>0.0</td>\n",
       "      <td>0.009610</td>\n",
       "      <td>0.056953</td>\n",
       "    </tr>\n",
       "    <tr>\n",
       "      <th>topic_9</th>\n",
       "      <td>0.000000</td>\n",
       "      <td>0.000000</td>\n",
       "      <td>0.000000</td>\n",
       "      <td>0.000000</td>\n",
       "      <td>0.000000</td>\n",
       "      <td>0.000000</td>\n",
       "      <td>0.000000</td>\n",
       "      <td>0.000000</td>\n",
       "      <td>0.000000</td>\n",
       "      <td>0.000000</td>\n",
       "      <td>...</td>\n",
       "      <td>0.000000</td>\n",
       "      <td>0.000000</td>\n",
       "      <td>0.000000</td>\n",
       "      <td>0.000000</td>\n",
       "      <td>0.000000</td>\n",
       "      <td>0.000000</td>\n",
       "      <td>0.0</td>\n",
       "      <td>0.0</td>\n",
       "      <td>0.000000</td>\n",
       "      <td>0.000000</td>\n",
       "    </tr>\n",
       "    <tr>\n",
       "      <th>topic_10</th>\n",
       "      <td>0.000000</td>\n",
       "      <td>0.000000</td>\n",
       "      <td>0.000000</td>\n",
       "      <td>0.000000</td>\n",
       "      <td>0.000000</td>\n",
       "      <td>0.000000</td>\n",
       "      <td>0.000000</td>\n",
       "      <td>0.000000</td>\n",
       "      <td>0.000000</td>\n",
       "      <td>0.000000</td>\n",
       "      <td>...</td>\n",
       "      <td>0.000000</td>\n",
       "      <td>0.000000</td>\n",
       "      <td>0.000000</td>\n",
       "      <td>0.000000</td>\n",
       "      <td>0.000000</td>\n",
       "      <td>0.000000</td>\n",
       "      <td>0.0</td>\n",
       "      <td>0.0</td>\n",
       "      <td>0.000000</td>\n",
       "      <td>0.000000</td>\n",
       "    </tr>\n",
       "    <tr>\n",
       "      <th>topic_11</th>\n",
       "      <td>0.205382</td>\n",
       "      <td>0.317287</td>\n",
       "      <td>0.473454</td>\n",
       "      <td>0.381886</td>\n",
       "      <td>0.522942</td>\n",
       "      <td>0.000000</td>\n",
       "      <td>0.145033</td>\n",
       "      <td>0.513868</td>\n",
       "      <td>0.067385</td>\n",
       "      <td>0.000000</td>\n",
       "      <td>...</td>\n",
       "      <td>0.535620</td>\n",
       "      <td>0.452677</td>\n",
       "      <td>0.176302</td>\n",
       "      <td>0.293965</td>\n",
       "      <td>0.332726</td>\n",
       "      <td>0.145242</td>\n",
       "      <td>0.0</td>\n",
       "      <td>0.0</td>\n",
       "      <td>0.521503</td>\n",
       "      <td>0.435691</td>\n",
       "    </tr>\n",
       "    <tr>\n",
       "      <th>topic_12</th>\n",
       "      <td>0.000000</td>\n",
       "      <td>0.033789</td>\n",
       "      <td>0.000000</td>\n",
       "      <td>0.000000</td>\n",
       "      <td>0.007091</td>\n",
       "      <td>0.000000</td>\n",
       "      <td>0.031041</td>\n",
       "      <td>0.000000</td>\n",
       "      <td>0.000000</td>\n",
       "      <td>0.030666</td>\n",
       "      <td>...</td>\n",
       "      <td>0.000000</td>\n",
       "      <td>0.004899</td>\n",
       "      <td>0.014907</td>\n",
       "      <td>0.000000</td>\n",
       "      <td>0.000000</td>\n",
       "      <td>0.000000</td>\n",
       "      <td>0.0</td>\n",
       "      <td>0.0</td>\n",
       "      <td>0.000000</td>\n",
       "      <td>0.000000</td>\n",
       "    </tr>\n",
       "    <tr>\n",
       "      <th>topic_13</th>\n",
       "      <td>0.000000</td>\n",
       "      <td>0.000000</td>\n",
       "      <td>0.000000</td>\n",
       "      <td>0.000000</td>\n",
       "      <td>0.000000</td>\n",
       "      <td>0.000000</td>\n",
       "      <td>0.000000</td>\n",
       "      <td>0.000000</td>\n",
       "      <td>0.000000</td>\n",
       "      <td>0.000000</td>\n",
       "      <td>...</td>\n",
       "      <td>0.000000</td>\n",
       "      <td>0.000000</td>\n",
       "      <td>0.000000</td>\n",
       "      <td>0.000000</td>\n",
       "      <td>0.000000</td>\n",
       "      <td>0.000000</td>\n",
       "      <td>0.0</td>\n",
       "      <td>0.0</td>\n",
       "      <td>0.000000</td>\n",
       "      <td>0.000000</td>\n",
       "    </tr>\n",
       "    <tr>\n",
       "      <th>topic_14</th>\n",
       "      <td>0.000000</td>\n",
       "      <td>0.000000</td>\n",
       "      <td>0.000000</td>\n",
       "      <td>0.000000</td>\n",
       "      <td>0.000000</td>\n",
       "      <td>0.000000</td>\n",
       "      <td>0.000000</td>\n",
       "      <td>0.000000</td>\n",
       "      <td>0.000000</td>\n",
       "      <td>0.000000</td>\n",
       "      <td>...</td>\n",
       "      <td>0.000000</td>\n",
       "      <td>0.000000</td>\n",
       "      <td>0.000000</td>\n",
       "      <td>0.000000</td>\n",
       "      <td>0.000000</td>\n",
       "      <td>0.000000</td>\n",
       "      <td>0.0</td>\n",
       "      <td>0.0</td>\n",
       "      <td>0.000000</td>\n",
       "      <td>0.000000</td>\n",
       "    </tr>\n",
       "    <tr>\n",
       "      <th>topic_15</th>\n",
       "      <td>0.000000</td>\n",
       "      <td>0.000000</td>\n",
       "      <td>0.000000</td>\n",
       "      <td>0.000000</td>\n",
       "      <td>0.000000</td>\n",
       "      <td>0.000000</td>\n",
       "      <td>0.000000</td>\n",
       "      <td>0.000000</td>\n",
       "      <td>0.000000</td>\n",
       "      <td>0.000000</td>\n",
       "      <td>...</td>\n",
       "      <td>0.000000</td>\n",
       "      <td>0.000000</td>\n",
       "      <td>0.000000</td>\n",
       "      <td>0.000000</td>\n",
       "      <td>0.000000</td>\n",
       "      <td>0.000000</td>\n",
       "      <td>0.0</td>\n",
       "      <td>0.0</td>\n",
       "      <td>0.000000</td>\n",
       "      <td>0.000000</td>\n",
       "    </tr>\n",
       "    <tr>\n",
       "      <th>topic_16</th>\n",
       "      <td>0.000000</td>\n",
       "      <td>0.015148</td>\n",
       "      <td>0.000000</td>\n",
       "      <td>0.012013</td>\n",
       "      <td>0.004253</td>\n",
       "      <td>0.000000</td>\n",
       "      <td>0.005315</td>\n",
       "      <td>0.000000</td>\n",
       "      <td>0.039831</td>\n",
       "      <td>0.000000</td>\n",
       "      <td>...</td>\n",
       "      <td>0.000000</td>\n",
       "      <td>0.000000</td>\n",
       "      <td>0.000000</td>\n",
       "      <td>0.000000</td>\n",
       "      <td>0.000000</td>\n",
       "      <td>0.000000</td>\n",
       "      <td>0.0</td>\n",
       "      <td>0.0</td>\n",
       "      <td>0.000000</td>\n",
       "      <td>0.000000</td>\n",
       "    </tr>\n",
       "    <tr>\n",
       "      <th>topic_17</th>\n",
       "      <td>0.000000</td>\n",
       "      <td>0.000000</td>\n",
       "      <td>0.000000</td>\n",
       "      <td>0.000000</td>\n",
       "      <td>0.003563</td>\n",
       "      <td>0.000000</td>\n",
       "      <td>0.000000</td>\n",
       "      <td>0.000000</td>\n",
       "      <td>0.000000</td>\n",
       "      <td>0.000000</td>\n",
       "      <td>...</td>\n",
       "      <td>0.000000</td>\n",
       "      <td>0.007061</td>\n",
       "      <td>0.000000</td>\n",
       "      <td>0.011185</td>\n",
       "      <td>0.000000</td>\n",
       "      <td>0.000000</td>\n",
       "      <td>0.0</td>\n",
       "      <td>0.0</td>\n",
       "      <td>0.000000</td>\n",
       "      <td>0.000000</td>\n",
       "    </tr>\n",
       "    <tr>\n",
       "      <th>topic_18</th>\n",
       "      <td>0.000000</td>\n",
       "      <td>0.000000</td>\n",
       "      <td>0.017912</td>\n",
       "      <td>0.000000</td>\n",
       "      <td>0.000000</td>\n",
       "      <td>0.000000</td>\n",
       "      <td>0.000000</td>\n",
       "      <td>0.000000</td>\n",
       "      <td>0.000000</td>\n",
       "      <td>0.000000</td>\n",
       "      <td>...</td>\n",
       "      <td>0.000000</td>\n",
       "      <td>0.000000</td>\n",
       "      <td>0.009794</td>\n",
       "      <td>0.000000</td>\n",
       "      <td>0.000000</td>\n",
       "      <td>0.000000</td>\n",
       "      <td>0.0</td>\n",
       "      <td>0.0</td>\n",
       "      <td>0.000000</td>\n",
       "      <td>0.000000</td>\n",
       "    </tr>\n",
       "    <tr>\n",
       "      <th>topic_19</th>\n",
       "      <td>0.000000</td>\n",
       "      <td>0.000000</td>\n",
       "      <td>0.000000</td>\n",
       "      <td>0.004950</td>\n",
       "      <td>0.000000</td>\n",
       "      <td>0.000000</td>\n",
       "      <td>0.000000</td>\n",
       "      <td>0.000000</td>\n",
       "      <td>0.000000</td>\n",
       "      <td>0.000000</td>\n",
       "      <td>...</td>\n",
       "      <td>0.000000</td>\n",
       "      <td>0.021403</td>\n",
       "      <td>0.000000</td>\n",
       "      <td>0.000000</td>\n",
       "      <td>0.000000</td>\n",
       "      <td>0.000000</td>\n",
       "      <td>0.0</td>\n",
       "      <td>0.0</td>\n",
       "      <td>0.000000</td>\n",
       "      <td>0.000000</td>\n",
       "    </tr>\n",
       "    <tr>\n",
       "      <th>topic_20</th>\n",
       "      <td>0.000000</td>\n",
       "      <td>0.000000</td>\n",
       "      <td>0.013409</td>\n",
       "      <td>0.066319</td>\n",
       "      <td>0.000000</td>\n",
       "      <td>0.000000</td>\n",
       "      <td>0.062672</td>\n",
       "      <td>0.003347</td>\n",
       "      <td>0.000000</td>\n",
       "      <td>0.000000</td>\n",
       "      <td>...</td>\n",
       "      <td>0.003395</td>\n",
       "      <td>0.000000</td>\n",
       "      <td>0.047448</td>\n",
       "      <td>0.008590</td>\n",
       "      <td>0.000000</td>\n",
       "      <td>0.000000</td>\n",
       "      <td>0.0</td>\n",
       "      <td>0.0</td>\n",
       "      <td>0.024075</td>\n",
       "      <td>0.000000</td>\n",
       "    </tr>\n",
       "    <tr>\n",
       "      <th>topic_21</th>\n",
       "      <td>0.000000</td>\n",
       "      <td>0.000000</td>\n",
       "      <td>0.000000</td>\n",
       "      <td>0.008253</td>\n",
       "      <td>0.000000</td>\n",
       "      <td>0.000000</td>\n",
       "      <td>0.000000</td>\n",
       "      <td>0.000000</td>\n",
       "      <td>0.000000</td>\n",
       "      <td>0.000000</td>\n",
       "      <td>...</td>\n",
       "      <td>0.000000</td>\n",
       "      <td>0.000000</td>\n",
       "      <td>0.000000</td>\n",
       "      <td>0.000000</td>\n",
       "      <td>0.000000</td>\n",
       "      <td>0.000000</td>\n",
       "      <td>0.0</td>\n",
       "      <td>0.0</td>\n",
       "      <td>0.000000</td>\n",
       "      <td>0.000000</td>\n",
       "    </tr>\n",
       "    <tr>\n",
       "      <th>topic_22</th>\n",
       "      <td>0.000000</td>\n",
       "      <td>0.000000</td>\n",
       "      <td>0.000000</td>\n",
       "      <td>0.000000</td>\n",
       "      <td>0.000000</td>\n",
       "      <td>0.000000</td>\n",
       "      <td>0.000000</td>\n",
       "      <td>0.000000</td>\n",
       "      <td>0.000000</td>\n",
       "      <td>0.000000</td>\n",
       "      <td>...</td>\n",
       "      <td>0.000000</td>\n",
       "      <td>0.000000</td>\n",
       "      <td>0.000000</td>\n",
       "      <td>0.000000</td>\n",
       "      <td>0.000000</td>\n",
       "      <td>0.000000</td>\n",
       "      <td>0.0</td>\n",
       "      <td>0.0</td>\n",
       "      <td>0.000000</td>\n",
       "      <td>0.000000</td>\n",
       "    </tr>\n",
       "    <tr>\n",
       "      <th>topic_23</th>\n",
       "      <td>0.004217</td>\n",
       "      <td>0.000000</td>\n",
       "      <td>0.000000</td>\n",
       "      <td>0.000000</td>\n",
       "      <td>0.000000</td>\n",
       "      <td>0.000000</td>\n",
       "      <td>0.000000</td>\n",
       "      <td>0.000000</td>\n",
       "      <td>0.000000</td>\n",
       "      <td>0.000000</td>\n",
       "      <td>...</td>\n",
       "      <td>0.000000</td>\n",
       "      <td>0.000000</td>\n",
       "      <td>0.000000</td>\n",
       "      <td>0.000000</td>\n",
       "      <td>0.000000</td>\n",
       "      <td>0.000000</td>\n",
       "      <td>0.0</td>\n",
       "      <td>0.0</td>\n",
       "      <td>0.000000</td>\n",
       "      <td>0.000000</td>\n",
       "    </tr>\n",
       "    <tr>\n",
       "      <th>topic_24</th>\n",
       "      <td>0.000000</td>\n",
       "      <td>0.000000</td>\n",
       "      <td>0.018118</td>\n",
       "      <td>0.000000</td>\n",
       "      <td>0.030554</td>\n",
       "      <td>0.000000</td>\n",
       "      <td>0.012728</td>\n",
       "      <td>0.000000</td>\n",
       "      <td>0.089619</td>\n",
       "      <td>0.000000</td>\n",
       "      <td>...</td>\n",
       "      <td>0.000000</td>\n",
       "      <td>0.000000</td>\n",
       "      <td>0.000000</td>\n",
       "      <td>0.000000</td>\n",
       "      <td>0.000000</td>\n",
       "      <td>0.000000</td>\n",
       "      <td>0.0</td>\n",
       "      <td>0.0</td>\n",
       "      <td>0.000000</td>\n",
       "      <td>0.000000</td>\n",
       "    </tr>\n",
       "  </tbody>\n",
       "</table>\n",
       "<p>25 rows × 15000 columns</p>\n",
       "</div>"
      ],
      "text/plain": [
       "             1000      1001      1002      1003      1004      1005   \\\n",
       "topic_0   0.000000  0.000560  0.000000  0.000000  0.000000  0.000000   \n",
       "topic_1   0.000000  0.000000  0.000000  0.037865  0.011173  0.000000   \n",
       "topic_2   0.455983  0.000000  0.008787  0.019196  0.000000  0.026098   \n",
       "topic_3   0.219627  0.125741  0.276179  0.221308  0.279212  0.973902   \n",
       "topic_4   0.055850  0.051541  0.174447  0.176208  0.097842  0.000000   \n",
       "topic_5   0.000000  0.004111  0.017693  0.000000  0.000000  0.000000   \n",
       "topic_6   0.058941  0.269322  0.000000  0.000000  0.043369  0.000000   \n",
       "topic_7   0.000000  0.000000  0.000000  0.000000  0.000000  0.000000   \n",
       "topic_8   0.000000  0.182501  0.000000  0.072001  0.000000  0.000000   \n",
       "topic_9   0.000000  0.000000  0.000000  0.000000  0.000000  0.000000   \n",
       "topic_10  0.000000  0.000000  0.000000  0.000000  0.000000  0.000000   \n",
       "topic_11  0.205382  0.317287  0.473454  0.381886  0.522942  0.000000   \n",
       "topic_12  0.000000  0.033789  0.000000  0.000000  0.007091  0.000000   \n",
       "topic_13  0.000000  0.000000  0.000000  0.000000  0.000000  0.000000   \n",
       "topic_14  0.000000  0.000000  0.000000  0.000000  0.000000  0.000000   \n",
       "topic_15  0.000000  0.000000  0.000000  0.000000  0.000000  0.000000   \n",
       "topic_16  0.000000  0.015148  0.000000  0.012013  0.004253  0.000000   \n",
       "topic_17  0.000000  0.000000  0.000000  0.000000  0.003563  0.000000   \n",
       "topic_18  0.000000  0.000000  0.017912  0.000000  0.000000  0.000000   \n",
       "topic_19  0.000000  0.000000  0.000000  0.004950  0.000000  0.000000   \n",
       "topic_20  0.000000  0.000000  0.013409  0.066319  0.000000  0.000000   \n",
       "topic_21  0.000000  0.000000  0.000000  0.008253  0.000000  0.000000   \n",
       "topic_22  0.000000  0.000000  0.000000  0.000000  0.000000  0.000000   \n",
       "topic_23  0.004217  0.000000  0.000000  0.000000  0.000000  0.000000   \n",
       "topic_24  0.000000  0.000000  0.018118  0.000000  0.030554  0.000000   \n",
       "\n",
       "             1006      1007      1008      1009     ...        11990  \\\n",
       "topic_0   0.000000  0.000000  0.000000  0.000000    ...     0.000000   \n",
       "topic_1   0.000000  0.000000  0.000000  0.000000    ...     0.000000   \n",
       "topic_2   0.000000  0.000000  0.033364  0.071814    ...     0.068665   \n",
       "topic_3   0.425105  0.367024  0.468332  0.794965    ...     0.210708   \n",
       "topic_4   0.207376  0.103923  0.063696  0.004785    ...     0.114979   \n",
       "topic_5   0.015773  0.011839  0.065440  0.000000    ...     0.040199   \n",
       "topic_6   0.000000  0.000000  0.051732  0.000000    ...     0.000000   \n",
       "topic_7   0.000000  0.000000  0.000000  0.000000    ...     0.000000   \n",
       "topic_8   0.094957  0.000000  0.120601  0.097770    ...     0.026435   \n",
       "topic_9   0.000000  0.000000  0.000000  0.000000    ...     0.000000   \n",
       "topic_10  0.000000  0.000000  0.000000  0.000000    ...     0.000000   \n",
       "topic_11  0.145033  0.513868  0.067385  0.000000    ...     0.535620   \n",
       "topic_12  0.031041  0.000000  0.000000  0.030666    ...     0.000000   \n",
       "topic_13  0.000000  0.000000  0.000000  0.000000    ...     0.000000   \n",
       "topic_14  0.000000  0.000000  0.000000  0.000000    ...     0.000000   \n",
       "topic_15  0.000000  0.000000  0.000000  0.000000    ...     0.000000   \n",
       "topic_16  0.005315  0.000000  0.039831  0.000000    ...     0.000000   \n",
       "topic_17  0.000000  0.000000  0.000000  0.000000    ...     0.000000   \n",
       "topic_18  0.000000  0.000000  0.000000  0.000000    ...     0.000000   \n",
       "topic_19  0.000000  0.000000  0.000000  0.000000    ...     0.000000   \n",
       "topic_20  0.062672  0.003347  0.000000  0.000000    ...     0.003395   \n",
       "topic_21  0.000000  0.000000  0.000000  0.000000    ...     0.000000   \n",
       "topic_22  0.000000  0.000000  0.000000  0.000000    ...     0.000000   \n",
       "topic_23  0.000000  0.000000  0.000000  0.000000    ...     0.000000   \n",
       "topic_24  0.012728  0.000000  0.089619  0.000000    ...     0.000000   \n",
       "\n",
       "             11991     11992     11993     11994     11995  11996  11997  \\\n",
       "topic_0   0.020746  0.000000  0.000000  0.185560  0.255513    0.0    0.0   \n",
       "topic_1   0.000000  0.000000  0.000000  0.000000  0.000000    0.0    0.0   \n",
       "topic_2   0.000000  0.000000  0.000000  0.000000  0.000000    0.0    0.0   \n",
       "topic_3   0.316435  0.481311  0.284343  0.454401  0.319861    1.0    1.0   \n",
       "topic_4   0.150255  0.202409  0.363132  0.008953  0.231665    0.0    0.0   \n",
       "topic_5   0.000000  0.041393  0.038785  0.000000  0.000000    0.0    0.0   \n",
       "topic_6   0.000000  0.000000  0.000000  0.018359  0.035682    0.0    0.0   \n",
       "topic_7   0.000000  0.000000  0.000000  0.000000  0.000000    0.0    0.0   \n",
       "topic_8   0.026525  0.026435  0.000000  0.000000  0.012036    0.0    0.0   \n",
       "topic_9   0.000000  0.000000  0.000000  0.000000  0.000000    0.0    0.0   \n",
       "topic_10  0.000000  0.000000  0.000000  0.000000  0.000000    0.0    0.0   \n",
       "topic_11  0.452677  0.176302  0.293965  0.332726  0.145242    0.0    0.0   \n",
       "topic_12  0.004899  0.014907  0.000000  0.000000  0.000000    0.0    0.0   \n",
       "topic_13  0.000000  0.000000  0.000000  0.000000  0.000000    0.0    0.0   \n",
       "topic_14  0.000000  0.000000  0.000000  0.000000  0.000000    0.0    0.0   \n",
       "topic_15  0.000000  0.000000  0.000000  0.000000  0.000000    0.0    0.0   \n",
       "topic_16  0.000000  0.000000  0.000000  0.000000  0.000000    0.0    0.0   \n",
       "topic_17  0.007061  0.000000  0.011185  0.000000  0.000000    0.0    0.0   \n",
       "topic_18  0.000000  0.009794  0.000000  0.000000  0.000000    0.0    0.0   \n",
       "topic_19  0.021403  0.000000  0.000000  0.000000  0.000000    0.0    0.0   \n",
       "topic_20  0.000000  0.047448  0.008590  0.000000  0.000000    0.0    0.0   \n",
       "topic_21  0.000000  0.000000  0.000000  0.000000  0.000000    0.0    0.0   \n",
       "topic_22  0.000000  0.000000  0.000000  0.000000  0.000000    0.0    0.0   \n",
       "topic_23  0.000000  0.000000  0.000000  0.000000  0.000000    0.0    0.0   \n",
       "topic_24  0.000000  0.000000  0.000000  0.000000  0.000000    0.0    0.0   \n",
       "\n",
       "             11998     11999  \n",
       "topic_0   0.000000  0.000000  \n",
       "topic_1   0.000000  0.000000  \n",
       "topic_2   0.002306  0.037379  \n",
       "topic_3   0.292046  0.256222  \n",
       "topic_4   0.150459  0.213755  \n",
       "topic_5   0.000000  0.000000  \n",
       "topic_6   0.000000  0.000000  \n",
       "topic_7   0.000000  0.000000  \n",
       "topic_8   0.009610  0.056953  \n",
       "topic_9   0.000000  0.000000  \n",
       "topic_10  0.000000  0.000000  \n",
       "topic_11  0.521503  0.435691  \n",
       "topic_12  0.000000  0.000000  \n",
       "topic_13  0.000000  0.000000  \n",
       "topic_14  0.000000  0.000000  \n",
       "topic_15  0.000000  0.000000  \n",
       "topic_16  0.000000  0.000000  \n",
       "topic_17  0.000000  0.000000  \n",
       "topic_18  0.000000  0.000000  \n",
       "topic_19  0.000000  0.000000  \n",
       "topic_20  0.024075  0.000000  \n",
       "topic_21  0.000000  0.000000  \n",
       "topic_22  0.000000  0.000000  \n",
       "topic_23  0.000000  0.000000  \n",
       "topic_24  0.000000  0.000000  \n",
       "\n",
       "[25 rows x 15000 columns]"
      ]
     },
     "execution_count": 241,
     "metadata": {},
     "output_type": "execute_result"
    }
   ],
   "source": [
    "theta_matrix = model.get_theta()\n",
    "theta_matrix"
   ]
  },
  {
   "cell_type": "code",
   "execution_count": 256,
   "metadata": {
    "collapsed": false
   },
   "outputs": [
    {
     "name": "stdout",
     "output_type": "stream",
     "text": [
      "Pattern 0\n",
      "+ Финансовые институты — торговля и услуги 61.223%\n",
      "+ Бакалейные магазины, супермаркеты 12.740%\n",
      "- Финансовые институты — торговля и услуги 6.602%\n",
      "+ Магазины мужской и женской одежды 6.243%\n",
      "+ Станции техобслуживания 3.970%\n",
      "- Не-финансовые институты — иностранная валюта, денежные переводы (непередаваемые), дорожные чеки, квази-кэш 3.211%\n",
      "+ Детская одежда, включая одежду для самых маленьких 2.399%\n",
      "+ Мужская одежда и аксессуары, включая одежду для мальчиков 0.846%\n",
      "+ Туристические агентства и организаторы экскурсий 0.536%\n",
      "+ Аптеки 0.502%\n",
      "Pattern 1\n",
      "- Коммунальные услуги — электричество, газ, санитария, вода 16.116%\n",
      "- Прямой маркетинг — торговля через каталог 15.088%\n",
      "- Транзакции по азартным играм 12.424%\n",
      "- Оборудование, мебель и бытовые принадлежности (кроме электрооборудования) 10.191%\n",
      "+ Обувные магазины 8.772%\n",
      "+ Прямой маркетинг — торговля через каталог 7.481%\n",
      "+ Лесо- и строительный материал 6.137%\n",
      "+ Садовые принадлежности (в том числе для ухода за газонами) в розницу 4.522%\n",
      "+ Плавательные бассейны — распродажа 3.237%\n",
      "+ Транзакции по азартным играм 3.170%\n",
      "Pattern 2\n",
      "- Финансовые институты — снятие наличности вручную 99.791%\n",
      "+ Образовательные услуги 0.059%\n",
      "+ Службы знакомств 0.035%\n",
      "- Беспошлинные магазины Duty Free 0.027%\n",
      "- Службы знакомств 0.024%\n",
      "- Автозапчасти и аксессуары 0.012%\n",
      "- Центры здоровья 0.010%\n",
      "- Отели, мотели, базы отдыха, сервисы бронирования 0.006%\n",
      "- Оптика, оптические товары и очки 0.005%\n",
      "- Пассажирские железные перевозки 0.005%\n",
      "Pattern 3\n",
      "- Финансовые институты — снятие наличности автоматически 99.047%\n",
      "- Звонки с использованием телефонов, считывающих магнитную ленту 0.409%\n",
      "- Аптеки 0.179%\n",
      "- Бакалейные магазины, супермаркеты 0.104%\n",
      "- Различные продовольственные магазины — рынки, магазины со спец-ассортиментом, продажа полуфабрикатов, фирменных блюд, продажа с помощью торговых автоматов 0.056%\n",
      "- Телекоммуникационное оборудование, включая продажу телефонов 0.037%\n",
      "- Денежные переводы 0.031%\n",
      "- Универсальные магазины 0.029%\n",
      "- Магазины по продаже часов, ювелирных изделий и изделий из серебра 0.016%\n",
      "- Рекламные услуги 0.016%\n",
      "Pattern 4\n",
      "- Денежные переводы 93.695%\n",
      "+ Финансовые институты — снятие наличности вручную 1.345%\n",
      "- Бакалейные магазины, супермаркеты 0.377%\n",
      "- Звонки с использованием телефонов, считывающих магнитную ленту 0.343%\n",
      "- Универсальные магазины 0.224%\n",
      "- Магазины мужской и женской одежды 0.202%\n",
      "- Станции техобслуживания 0.186%\n",
      "- Различные продовольственные магазины — рынки, магазины со спец-ассортиментом, продажа полуфабрикатов, фирменных блюд, продажа с помощью торговых автоматов 0.175%\n",
      "- Места общественного питания, рестораны 0.173%\n",
      "- Рекламные услуги 0.165%\n",
      "Pattern 5\n",
      "- Авиалинии, авиакомпании, нигде более не классифицированные 14.054%\n",
      "- Места общественного питания, рестораны 14.010%\n",
      "- Пассажирские железные перевозки 10.319%\n",
      "- Авиалинии, авиакомпании 9.165%\n",
      "- Рестораны, закусочные 8.243%\n",
      "- Туристические агентства и организаторы экскурсий 7.236%\n",
      "- Отели, мотели, базы отдыха, сервисы бронирования 6.288%\n",
      "- Клубы — сельские клубы, членство(спортивный, отдых, спорт), частные поля для гольфа 2.088%\n",
      "+ Авиалинии, авиакомпании, нигде более не классифицированные 1.936%\n",
      "- Продажа электронного оборудования 1.935%\n",
      "Pattern 6\n",
      "- Звонки с использованием телефонов, считывающих магнитную ленту 81.333%\n",
      "- Аптеки 18.310%\n",
      "- Кабельные и другие платные телевизионные услуги 0.103%\n",
      "- Товары для дома 0.086%\n",
      "- Практикующие врачи, медицинские услуги, нигде ранее не классифицируемые 0.021%\n",
      "- Магазины игрушек 0.020%\n",
      "- Магазины офисных, школьных принадлежностей, канцтоваров 0.017%\n",
      "- Лесо- и строительный материал 0.014%\n",
      "- Плавательные бассейны — распродажа 0.013%\n",
      "- Коммунальные услуги — электричество, газ, санитария, вода 0.010%\n",
      "Pattern 7\n",
      "- Иной сервис 28.563%\n",
      "- Магазины ткани, ниток рукоделия, шитья 20.449%\n",
      "- Больницы 18.850%\n",
      "+ Больницы 14.425%\n",
      "- Транспортировка — пригородные и локальные сезонные транспортные средства, включая электрички 10.663%\n",
      "- Химикалии и смежные вещества, не классифицированные ранее 2.873%\n",
      "- Продажа молочных продуктов в розницу 2.792%\n",
      "- Кондитерские 0.716%\n",
      "- Легковой и грузовой транспорт — продажа, сервис, ремонт, запчасти и лизинг 0.557%\n",
      "- Оборудование для выращивания растений, инвентарь для питомников и цветы 0.043%\n",
      "Pattern 8\n",
      "- Бакалейные магазины, супермаркеты 85.915%\n",
      "- Товары для дома 2.229%\n",
      "- Рестораны, закусочные 1.548%\n",
      "- Магазины с продажей спиртных напитков на вынос (пиво, вино и ликер) 1.274%\n",
      "- Места общественного питания, рестораны 1.085%\n",
      "- Универсальные магазины 0.783%\n",
      "- Продажа электронного оборудования 0.714%\n",
      "- Магазины спорттоваров 0.687%\n",
      "- Обувные магазины 0.580%\n",
      "- Различные продовольственные магазины — рынки, магазины со спец-ассортиментом, продажа полуфабрикатов, фирменных блюд, продажа с помощью торговых автоматов 0.505%\n",
      "Pattern 9\n",
      "- Оптовики 46.558%\n",
      "- Различные товары общего назначения 34.880%\n",
      "- Образовательные услуги 7.083%\n",
      "- Веломагазины — продажа и обслуживание 3.386%\n",
      "- Ортопедические товары 2.122%\n",
      "- Луна-парки, карнавалы, цирки, предсказатели будущего 1.223%\n",
      "- Генеральные подрядчики по вентиляции, теплоснабжению, и водопроводу 1.203%\n",
      "- Лимузины и такси 1.196%\n",
      "- Галереи и художественные посредники 1.114%\n",
      "- Оборудование и сопутствующие материалы для технического обеспечения 0.458%\n",
      "Pattern 10\n",
      "+ Готовая женская одежда 59.650%\n",
      "- Автоматизированные бензозаправки 19.528%\n",
      "+ Книжные магазины 7.704%\n",
      "- Лекарства, их распространители, аптеки 4.098%\n",
      "+ Аксессуары для женщин 3.786%\n",
      "- Электрические части и оборудование 2.322%\n",
      "+ Магазины художественных и ремесленных изделий 0.872%\n",
      "+ Ассоциации — гражданские, социальные и братские 0.766%\n",
      "+ Магазины открыток, подарков, новинок и сувениров 0.493%\n",
      "+ Стоматологическое/лабороторное/медицинское/офтальмологическое стационарное оборудование и устройства 0.470%\n",
      "Pattern 11\n",
      "+ Финансовые институты — снятие наличности вручную 95.656%\n",
      "- Звонки с использованием телефонов, считывающих магнитную ленту 1.233%\n",
      "- Аптеки 0.553%\n",
      "- Бакалейные магазины, супермаркеты 0.540%\n",
      "- Денежные переводы 0.436%\n",
      "- Различные продовольственные магазины — рынки, магазины со спец-ассортиментом, продажа полуфабрикатов, фирменных блюд, продажа с помощью торговых автоматов 0.237%\n",
      "- Универсальные магазины 0.184%\n",
      "- Станции техобслуживания 0.134%\n",
      "- Плавательные бассейны — распродажа 0.114%\n",
      "- Места общественного питания, рестораны 0.102%\n",
      "Pattern 12\n",
      "- Магазины мужской и женской одежды 19.575%\n",
      "- Обувные магазины 14.124%\n",
      "- Магазины косметики 11.010%\n",
      "- Одежда для всей семьи 8.060%\n",
      "- Различные магазины одежды и аксессуаров 6.153%\n",
      "- Детская одежда, включая одежду для самых маленьких 5.907%\n",
      "- Готовая женская одежда 5.766%\n",
      "- Практикующие врачи, медицинские услуги, нигде ранее не классифицируемые 4.736%\n",
      "- Магазины игрушек 3.744%\n",
      "- Плавательные бассейны — распродажа 3.105%\n",
      "Pattern 13\n",
      "- Денежные переводы MasterCard MoneySend 56.139%\n",
      "- Ценные бумаги: брокеры/дилеры 21.949%\n",
      "+ Ценные бумаги: брокеры/дилеры 10.292%\n",
      "- Принадлежности для видеоигр 7.006%\n",
      "+ Магазины игрушек 2.238%\n",
      "- Информационные провайдеры 2.094%\n",
      "- Зоомагазины 0.262%\n",
      "- Оборудование для выращивания растений, инвентарь для питомников и цветы 0.019%\n",
      "+ Рекламные услуги 0.001%\n",
      "- Цифровые товары, игры 0.000%\n",
      "Pattern 14\n",
      "- Автошины 51.510%\n",
      "+ Горючее топливо — уголь, нефть, разжиженный бензин, дрова 15.134%\n",
      "+ Магазины косметики 14.523%\n",
      "- Организации благотворительные и общественные службы 4.765%\n",
      "- Книги, периодические издания и газеты 3.428%\n",
      "- Магазины художественных и ремесленных изделий 3.099%\n",
      "+ Книги, периодические издания и газеты 1.952%\n",
      "- Фотостудии, фотолаборатории 1.834%\n",
      "+ Услуги по транспортировке — нигде более не классифицированные 1.814%\n",
      "+ Поставщики грузовиков и запчастей 1.274%\n",
      "Pattern 15\n",
      "- Спортивная одежда, одежда для верховой езды и езды на мотоцикле 38.920%\n",
      "- Продажа компьютерного программного обеспечения 26.068%\n",
      "- Компьютерная сеть/информационные услуги 13.365%\n",
      "- Компьютеры, периферийное компьютерное оборудование, программное обеспечение 6.903%\n",
      "- Театральные продюсерские агентства 4.622%\n",
      "- Прямой маркетинг — торговые точки подписки 2.585%\n",
      "- Штрафы 2.325%\n",
      "- Офисное, фотографическое, фотокопировальное, и микрофильмирующее оборудование 1.745%\n",
      "- Налоговые платежи 1.373%\n",
      "- Общий ремонт 0.646%\n",
      "Pattern 16\n",
      "- Профессиональные услуги, нигде ранее не классифицируемые 33.201%\n",
      "- Магазины спорттоваров 17.301%\n",
      "- Галереи/учреждения видеоигр 15.084%\n",
      "- Бизнес-сервис 11.898%\n",
      "- Магазины звукозаписи 6.068%\n",
      "- Не-финансовые институты — иностранная валюта, денежные переводы (непередаваемые), дорожные чеки, квази-кэш 3.558%\n",
      "+ Денежные переводы 3.303%\n",
      "- Магазины фотооборудования и фотоприборов 1.858%\n",
      "- Услуги курьера — по воздуху и на земле, агентство по отправке грузов 1.797%\n",
      "- Цифровые товары, игры 1.221%\n",
      "Pattern 17\n",
      "- Телекоммуникационное оборудование, включая продажу телефонов 78.066%\n",
      "- Скобяные товары в розницу 21.710%\n",
      "- Оборудование для выращивания растений, инвентарь для питомников и цветы 0.072%\n",
      "+ Профессиональные услуги, нигде ранее не классифицируемые 0.051%\n",
      "- Магазины открыток, подарков, новинок и сувениров 0.043%\n",
      "- Электрические части и оборудование 0.017%\n",
      "+ Разнообразные издательства/печатное дело 0.015%\n",
      "- Книжные магазины 0.013%\n",
      "- Магазины second hand, магазины б/у товаров, комиссионки 0.004%\n",
      "+ Звонки с использованием телефонов, считывающих магнитную ленту 0.004%\n",
      "Pattern 18\n",
      "- Магазины по продаже часов, ювелирных изделий и изделий из серебра 52.103%\n",
      "- Универмаги 45.829%\n",
      "- Подрядчики, специализированная торговля — нигде более не классифицированные 0.997%\n",
      "- Товары недлительного пользования, не классифицированные ранее 0.650%\n",
      "- Беспошлинные магазины Duty Free 0.208%\n",
      "- Магазины открыток, подарков, новинок и сувениров 0.055%\n",
      "- Фотостудии 0.054%\n",
      "- Туристические аттракционы и шоу 0.019%\n",
      "- Драгоценные камни и металлы, часы и ювелирные изделия 0.015%\n",
      "- Оптика, оптические товары и очки 0.014%\n",
      "Pattern 19\n",
      "- Универсальные магазины 60.490%\n",
      "+ Денежные переводы MasterCard MoneySend 37.368%\n",
      "+ Универсальные магазины 1.829%\n",
      "+ Товары длительного пользования — нигде более не классифицированные 0.077%\n",
      "- Горючее топливо — уголь, нефть, разжиженный бензин, дрова 0.060%\n",
      "- Розничная продажа стекла, красок и обоев 0.050%\n",
      "- Одежда для всей семьи 0.041%\n",
      "- Готовая женская одежда 0.025%\n",
      "- Булочные 0.024%\n",
      "- Бары, коктейль-бары, дискотеки, ночные клубы и таверны — места продажи алкогольных напитков 0.012%\n",
      "Pattern 20\n",
      "- Станции техобслуживания 26.931%\n",
      "- Бытовое оборудование 13.387%\n",
      "- Лесо- и строительный материал 12.074%\n",
      "- Автозапчасти и аксессуары 8.338%\n",
      "- Продажа электронного оборудования 7.062%\n",
      "- Садовые принадлежности (в том числе для ухода за газонами) в розницу 5.689%\n",
      "- Горючее топливо — уголь, нефть, разжиженный бензин, дрова 5.621%\n",
      "- Оборудование, мебель и бытовые принадлежности (кроме электрооборудования) 2.607%\n",
      "- Различные специализированные магазины бытовых принадлежностей 2.505%\n",
      "- Легковой и грузовой транспорт — продажа, сервис, ремонт, запчасти и лизинг 2.493%\n",
      "Pattern 21\n",
      "- Оборудование для водопровода и отопительной системы 27.877%\n",
      "- Автобусные линии 26.200%\n",
      "- Поставщики провизии 18.825%\n",
      "+ Различные специализированные магазины бытовых принадлежностей 11.083%\n",
      "- Мужская, женская и детская спец-одежда 7.168%\n",
      "- Ремонт бытовой техники, ремонт электроприборы 6.584%\n",
      "- Услуги копировальных центров 1.864%\n",
      "+ Автоматизированные бензозаправки 0.339%\n",
      "- Покрытия для пола 0.030%\n",
      "+ Автобусные линии 0.030%\n",
      "Pattern 22\n",
      "- Мужская одежда и аксессуары, включая одежду для мальчиков 45.738%\n",
      "- Услуги по транспортировке — нигде более не классифицированные 20.152%\n",
      "- Ткани, обивочный материал, гардины и портьеры, жалюзи 10.363%\n",
      "- Зубные и медицинские лаборатории 7.963%\n",
      "- Продажа музыкальных инструментов, фортепиано, нот 6.027%\n",
      "- Магазины хрусталя и изделий из стекла 4.159%\n",
      "- Строительные материалы — нигде более не классифицированные 3.561%\n",
      "- Ветеринарные услуги 1.283%\n",
      "- Штучные товары, галантерея и другие текстильные товары 0.416%\n",
      "+ Магазины хрусталя и изделий из стекла 0.084%\n",
      "Pattern 23\n",
      "- Дантисты, ортодонтисты 89.266%\n",
      "- Товары длительного пользования — нигде более не классифицированные 4.645%\n",
      "- Промышленное оборудование — нигде более не классифицированное 4.092%\n",
      "+ Промышленное оборудование — нигде более не классифицированное 1.190%\n",
      "- Прямой маркетинг — другие торговые точки прямого маркетинга (нигде более не классифицированные) 0.710%\n",
      "+ Магазины хрусталя и изделий из стекла 0.046%\n",
      "- Доктора, нигде ранее не классифицируемые 0.022%\n",
      "+ Прямой маркетинг — другие торговые точки прямого маркетинга (нигде более не классифицированные) 0.017%\n",
      "- Аксессуары для женщин 0.008%\n",
      "- Магазины кожаных изделий, дорожных принадлежностей 0.002%\n",
      "Pattern 24\n",
      "- Различные продовольственные магазины — рынки, магазины со спец-ассортиментом, продажа полуфабрикатов, фирменных блюд, продажа с помощью торговых автоматов 68.413%\n",
      "- Плавательные бассейны — распродажа 10.455%\n",
      "- Магазины с продажей спиртных напитков на вынос (пиво, вино и ликер) 6.133%\n",
      "+ Пассажирские железные перевозки 4.831%\n",
      "+ Бытовое оборудование 2.568%\n",
      "+ Различные продовольственные магазины — рынки, магазины со спец-ассортиментом, продажа полуфабрикатов, фирменных блюд, продажа с помощью торговых автоматов 1.272%\n",
      "+ Различные магазины одежды и аксессуаров 1.194%\n",
      "+ Различные товары общего назначения 0.771%\n",
      "+ Практикующие врачи, медицинские услуги, нигде ранее не классифицируемые 0.770%\n",
      "+ Товары для дома 0.728%\n"
     ]
    }
   ],
   "source": [
    "phi = model.phi_\n",
    "for i, x in enumerate(phi):\n",
    "    print \"Pattern \" + str(i)\n",
    "    f = phi[x]\n",
    "    y = f.nlargest(10)\n",
    "    #print(y.index[0])\n",
    "    for yy, name in zip(y, y.index):\n",
    "        #print(name.split('_')[0])\n",
    "        ss = tr_mcc_codes[tr_mcc_codes.mcc_code == int(name.split('_')[0])].mcc_description.iloc[0]\n",
    "        #print name\n",
    "        if name.split('_')[1] == 'p':\n",
    "            c = '+'\n",
    "        else:\n",
    "            c = '-'\n",
    "        print \"%s %s %0.3f%%\" % (c, ss, yy*100)\n",
    "        \n",
    "    "
   ]
  },
  {
   "cell_type": "code",
   "execution_count": null,
   "metadata": {
    "collapsed": true
   },
   "outputs": [],
   "source": [
    "pattern_name = {}\n",
    "pattern_name[12] = 'Мамы с маленькими детьми'\n",
    "pattern_name[2] = 'Почти все по наличке'\n",
    "pattern_name[5] = 'Турист, постоянно в перелетах'\n",
    "pattern_name[1] = 'Человек сидящий дома с азартной зависимостью'\n",
    "pattern_name[16] = 'Бизнес-класс'\n",
    "pattern_name[4] = 'Переводит деньги на другую карту, часть тратит с данной'\n",
    "pattern_name[8] = 'Потребитель среднего возраста'\n",
    "pattern_name[9] = 'Эконом'\n",
    "pattern_name[20] = 'Загородный житель'\n",
    "pattern_name[24] = 'Студент'\n",
    "\n"
   ]
  },
  {
   "cell_type": "code",
   "execution_count": null,
   "metadata": {
    "collapsed": false
   },
   "outputs": [],
   "source": [
    "phi.head()"
   ]
  },
  {
   "cell_type": "code",
   "execution_count": null,
   "metadata": {
    "collapsed": true
   },
   "outputs": [],
   "source": [
    "phi.to_csv(\"phi.csv\")\n",
    "theta_matrix.to_csv('theta.csv')"
   ]
  },
  {
   "cell_type": "code",
   "execution_count": 242,
   "metadata": {
    "collapsed": true
   },
   "outputs": [],
   "source": [
    "phi.to_json(\"p2w.json\")\n",
    "theta_matrix.to_json('c2p.json')"
   ]
  },
  {
   "cell_type": "code",
   "execution_count": null,
   "metadata": {
    "collapsed": true
   },
   "outputs": [],
   "source": []
  }
 ],
 "metadata": {
  "kernelspec": {
   "display_name": "Python 2",
   "language": "python",
   "name": "python2"
  },
  "language_info": {
   "codemirror_mode": {
    "name": "ipython",
    "version": 2
   },
   "file_extension": ".py",
   "mimetype": "text/x-python",
   "name": "python",
   "nbconvert_exporter": "python",
   "pygments_lexer": "ipython2",
   "version": "2.7.12"
  },
  "widgets": {
   "state": {
    "000e85139d87450abbe2773aec5b6c36": {
     "views": [
      {
       "cell_index": 25
      }
     ]
    },
    "001ac1af729941c4a26c91dcb60792ea": {
     "views": [
      {
       "cell_index": 25
      }
     ]
    },
    "0044fec160904923b95d4cf1740940a6": {
     "views": [
      {
       "cell_index": 29
      }
     ]
    },
    "009ece196be946769b376f0c15a514cc": {
     "views": [
      {
       "cell_index": 29
      }
     ]
    },
    "00af5d39879a464a8d803d6c30636b1b": {
     "views": [
      {
       "cell_index": 29
      }
     ]
    },
    "00d7513cef894861a95fbf41680a31f2": {
     "views": [
      {
       "cell_index": 23
      }
     ]
    },
    "01569ae86ec441f3b851e908e558b506": {
     "views": [
      {
       "cell_index": 20
      }
     ]
    },
    "0156e13c32214ceb93324b686587cdb8": {
     "views": [
      {
       "cell_index": 25
      }
     ]
    },
    "016c1a7ceeb349b2b0e1e8c5455db783": {
     "views": [
      {
       "cell_index": 15
      }
     ]
    },
    "01a9e2c06fa4415988306453a83a52d0": {
     "views": [
      {
       "cell_index": 23
      }
     ]
    },
    "01efdee3f7d344ae8c0bf263859b959a": {
     "views": [
      {
       "cell_index": 23
      }
     ]
    },
    "02071631ef284cbf96cb5577d38ecfc2": {
     "views": [
      {
       "cell_index": 22
      }
     ]
    },
    "021207b2e6ac43ff8bc6bb9ece1c3c4a": {
     "views": [
      {
       "cell_index": 25
      }
     ]
    },
    "026e5ba269524f4288f8fe7261b813d9": {
     "views": [
      {
       "cell_index": 27
      }
     ]
    },
    "02732508fd9245b58929df1933f26be2": {
     "views": [
      {
       "cell_index": 23
      }
     ]
    },
    "029855b8c14a4aaa9c5d8f485d14981d": {
     "views": [
      {
       "cell_index": 25
      }
     ]
    },
    "02b0086c7ade4525a5ef4acc3b628f13": {
     "views": [
      {
       "cell_index": 23
      }
     ]
    },
    "02c622b5ad6f4d9a822b1de45ede5ccf": {
     "views": [
      {
       "cell_index": 25
      }
     ]
    },
    "02fd057d30e54a40a796a3db1441ff30": {
     "views": [
      {
       "cell_index": 23
      }
     ]
    },
    "0326f9ba297a408daffb78fa9309a80f": {
     "views": [
      {
       "cell_index": 23
      }
     ]
    },
    "033b45cc42fe4ec6bee9bc5a1bb88726": {
     "views": [
      {
       "cell_index": 25
      }
     ]
    },
    "0340ea29a6824478a2065b688a17637a": {
     "views": [
      {
       "cell_index": 25
      }
     ]
    },
    "037d77f2a00949b6a79a1d2deb4ee384": {
     "views": [
      {
       "cell_index": 25
      }
     ]
    },
    "038ff71566d1448fa393732320658ebd": {
     "views": [
      {
       "cell_index": 25
      }
     ]
    },
    "03d424a203e042cf836c30a86c245ed6": {
     "views": [
      {
       "cell_index": 27
      }
     ]
    },
    "0404b50e4cb24e22b37e695ef8c0ce2c": {
     "views": [
      {
       "cell_index": 27
      }
     ]
    },
    "044dea1cc12649d0a9ce4d3b8b715d3b": {
     "views": [
      {
       "cell_index": 23
      }
     ]
    },
    "047b2f8943b54651811fc33756b9337f": {
     "views": [
      {
       "cell_index": 29
      }
     ]
    },
    "0511d64fd0384c949a4aac5a7e16e8e3": {
     "views": [
      {
       "cell_index": 23
      }
     ]
    },
    "05472048176b48329ccdfe12412876e8": {
     "views": [
      {
       "cell_index": 23
      }
     ]
    },
    "0585d632e53d49c2b8f5c78ebb30814b": {
     "views": [
      {
       "cell_index": 15
      }
     ]
    },
    "05b782c4a5c44fcc8cb637ce80f672fb": {
     "views": [
      {
       "cell_index": 25
      }
     ]
    },
    "05cc6225ba524d778ac56c860483d5dd": {
     "views": [
      {
       "cell_index": 28
      }
     ]
    },
    "05ce48ffc54844428613ead85103c1f4": {
     "views": [
      {
       "cell_index": 20
      }
     ]
    },
    "05db55aa943649e3bbf2903c8fed8a66": {
     "views": [
      {
       "cell_index": 25
      }
     ]
    },
    "06036fec17e640cabce7ff4d7014f7fc": {
     "views": [
      {
       "cell_index": 20
      }
     ]
    },
    "066746ef94b74f41ab4779b48d24db06": {
     "views": [
      {
       "cell_index": 25
      }
     ]
    },
    "06a521c8f66347ae9beceed299a6287d": {
     "views": [
      {
       "cell_index": 23
      }
     ]
    },
    "06a9f060162d425a918e8c33b105b4af": {
     "views": [
      {
       "cell_index": 23
      }
     ]
    },
    "075077a8304a4a3ba88e360c4dd5fe56": {
     "views": [
      {
       "cell_index": 23
      }
     ]
    },
    "07b9c6a87e4341db8f05895e9610cf3e": {
     "views": [
      {
       "cell_index": 15
      }
     ]
    },
    "07c487ff28b8456091c31b5697d3c656": {
     "views": [
      {
       "cell_index": 29
      }
     ]
    },
    "07e1b30fa65c4f0da75c8c402027655a": {
     "views": [
      {
       "cell_index": 25
      }
     ]
    },
    "080c90d72e7f4d52a597653bc83cfe46": {
     "views": [
      {
       "cell_index": 27
      }
     ]
    },
    "083d53ef1e114605a490292f4b3fcc79": {
     "views": [
      {
       "cell_index": 20
      }
     ]
    },
    "08871bf7ef3146019ce1d155ae392efb": {
     "views": [
      {
       "cell_index": 23
      }
     ]
    },
    "08d7f83681844413b6b90e061e1a9b76": {
     "views": [
      {
       "cell_index": 25
      }
     ]
    },
    "091083f510f8404f84769282f2a555f4": {
     "views": [
      {
       "cell_index": 25
      }
     ]
    },
    "09396a2604e140c59c88471ffc021466": {
     "views": [
      {
       "cell_index": 23
      }
     ]
    },
    "0967aa6c9f6a449995afc6516603d756": {
     "views": [
      {
       "cell_index": 23
      }
     ]
    },
    "09f248c2fc884f4fb152401eb2d60b9e": {
     "views": [
      {
       "cell_index": 23
      }
     ]
    },
    "0a3541a6ec2b48b5afad451f08b4bb43": {
     "views": [
      {
       "cell_index": 23
      }
     ]
    },
    "0abdeb362b0a423eb35c1f6f80b194fa": {
     "views": [
      {
       "cell_index": 25
      }
     ]
    },
    "0ac8404a8337457fbfb9d504054bdfef": {
     "views": [
      {
       "cell_index": 23
      }
     ]
    },
    "0ad7a178f060466eac42e286066ec3d8": {
     "views": [
      {
       "cell_index": 23
      }
     ]
    },
    "0b0f6e0cf4404d13aaec099058f5c2d2": {
     "views": [
      {
       "cell_index": 22
      }
     ]
    },
    "0b85ecddf8984ad7b28cd9fbea3fa89f": {
     "views": [
      {
       "cell_index": 23
      }
     ]
    },
    "0c0c475ffc8e45e7b4ab1d03df89ed1c": {
     "views": [
      {
       "cell_index": 23
      }
     ]
    },
    "0c1cb14773a34c9ba069b8a1e340e2f8": {
     "views": [
      {
       "cell_index": 23
      }
     ]
    },
    "0c30df712b3746b8ba831310f1dc3148": {
     "views": [
      {
       "cell_index": 25
      }
     ]
    },
    "0c33532642ec44d0b609c1f16f91c218": {
     "views": [
      {
       "cell_index": 23
      }
     ]
    },
    "0c9b96e83b5942668a1135bfe76d3590": {
     "views": [
      {
       "cell_index": 25
      }
     ]
    },
    "0ca248345fcc486690f52d2dd4313953": {
     "views": [
      {
       "cell_index": 23
      }
     ]
    },
    "0caaf803653342f28637d0660c5709d3": {
     "views": [
      {
       "cell_index": 23
      }
     ]
    },
    "0d064153750d42cd9a2d63723a3082a3": {
     "views": [
      {
       "cell_index": 25
      }
     ]
    },
    "0d2b92c1d7c54f329b7b8bca8896cfbe": {
     "views": [
      {
       "cell_index": 23
      }
     ]
    },
    "0d49f68b6e9f409ea27f6cb7035f8935": {
     "views": [
      {
       "cell_index": 25
      }
     ]
    },
    "0da9a3ed29a44dce81d8196c8d6cb336": {
     "views": [
      {
       "cell_index": 29
      }
     ]
    },
    "0db7c0b12a1b463aba15db3ce62114fb": {
     "views": [
      {
       "cell_index": 25
      }
     ]
    },
    "0dc306a38a0246a9842b1109c89c92ee": {
     "views": [
      {
       "cell_index": 29
      }
     ]
    },
    "0e038ed50fb84cccaa865af4a39d2c15": {
     "views": [
      {
       "cell_index": 29
      }
     ]
    },
    "0e776c50b9374302901aa3e58ec47eff": {
     "views": [
      {
       "cell_index": 25
      }
     ]
    },
    "0ea28cad10c24941bd958d8836aedc75": {
     "views": [
      {
       "cell_index": 23
      }
     ]
    },
    "0eca71cd3ce8413d8175ffe6efc82b0e": {
     "views": [
      {
       "cell_index": 23
      }
     ]
    },
    "0ef501f8cd0b416e91a6cf5c44b0aecc": {
     "views": [
      {
       "cell_index": 25
      }
     ]
    },
    "0f27fab472144548a2509ccf4312c771": {
     "views": [
      {
       "cell_index": 23
      }
     ]
    },
    "0f31ac6c68424108ba97251945939c41": {
     "views": [
      {
       "cell_index": 23
      }
     ]
    },
    "0f4fe4b277f64459875f8a8d2dd706f6": {
     "views": [
      {
       "cell_index": 23
      }
     ]
    },
    "0fb3e082c6e14694b13da95330898b06": {
     "views": [
      {
       "cell_index": 23
      }
     ]
    },
    "0fcff4dddea149f2a98a2dcfbb223709": {
     "views": [
      {
       "cell_index": 15
      }
     ]
    },
    "0fdd1727260c4f6eb79756886f480306": {
     "views": [
      {
       "cell_index": 29
      }
     ]
    },
    "0ff4795027c647bea7884738ab75407a": {
     "views": [
      {
       "cell_index": 25
      }
     ]
    },
    "0ff63fba78c445488d9268b73d2a4a07": {
     "views": [
      {
       "cell_index": 23
      }
     ]
    },
    "0ffdcafa5f87446b939ada9a4213dc3f": {
     "views": [
      {
       "cell_index": 23
      }
     ]
    },
    "101d0980e10046bc8b3025e194736aeb": {
     "views": [
      {
       "cell_index": 23
      }
     ]
    },
    "102620bc9d2945a2bad8efb26df2c0fb": {
     "views": [
      {
       "cell_index": 29
      }
     ]
    },
    "1071dcd302e34335afd3d1ef9c0ef555": {
     "views": [
      {
       "cell_index": 29
      }
     ]
    },
    "107d2dd348af4dc3b41a33bae771b485": {
     "views": [
      {
       "cell_index": 29
      }
     ]
    },
    "107e6458f7004ba98b5a90c921c69b86": {
     "views": [
      {
       "cell_index": 25
      }
     ]
    },
    "10ebf504cc414dc890a04903ce080289": {
     "views": [
      {
       "cell_index": 23
      }
     ]
    },
    "10f36e8b294a4f47b853c410c7e82a67": {
     "views": [
      {
       "cell_index": 20
      }
     ]
    },
    "10fcd109a6034d2cb20121382ded1934": {
     "views": [
      {
       "cell_index": 25
      }
     ]
    },
    "1105d3fe486f43f29213833b348f4b76": {
     "views": [
      {
       "cell_index": 23
      }
     ]
    },
    "112024dba425443d94a1777bbd42d796": {
     "views": [
      {
       "cell_index": 23
      }
     ]
    },
    "1237e028df4c40d58fd0d128d33a3ba3": {
     "views": [
      {
       "cell_index": 25
      }
     ]
    },
    "123fbcd98af04ae4a70a782828cb26bb": {
     "views": [
      {
       "cell_index": 25
      }
     ]
    },
    "124c00a94f3f44e6a1b83d80b6a255b8": {
     "views": [
      {
       "cell_index": 23
      }
     ]
    },
    "12df96620fd64d54b3288e66cb5f1121": {
     "views": [
      {
       "cell_index": 29
      }
     ]
    },
    "131d6bb6ca07472e9ac8ae212686849e": {
     "views": [
      {
       "cell_index": 25
      }
     ]
    },
    "135df3913cd3409a8debc5976658efc3": {
     "views": [
      {
       "cell_index": 29
      }
     ]
    },
    "137fde6377b5437a9531f28cb32b5ec5": {
     "views": [
      {
       "cell_index": 23
      }
     ]
    },
    "139fc22e511c475fbc76e426c3b91928": {
     "views": [
      {
       "cell_index": 23
      }
     ]
    },
    "13ee449faf6f4bda8be8c59f5c6cd0d1": {
     "views": [
      {
       "cell_index": 23
      }
     ]
    },
    "14025edab244441dbac2aeea3098c5a3": {
     "views": [
      {
       "cell_index": 25
      }
     ]
    },
    "1432b7f1cd2b48f6bd8bac72a560192d": {
     "views": [
      {
       "cell_index": 23
      }
     ]
    },
    "14401cd019ba447080b8fd178b46eac1": {
     "views": [
      {
       "cell_index": 15
      }
     ]
    },
    "14d420c53b68462cbbc9bd7b07272f39": {
     "views": [
      {
       "cell_index": 15
      }
     ]
    },
    "14eae95910234df4b07a49b5a43b91d2": {
     "views": [
      {
       "cell_index": 23
      }
     ]
    },
    "153ef170e3d14b1db2467a28191a916a": {
     "views": [
      {
       "cell_index": 20
      }
     ]
    },
    "161bec15baa348e5b6eb2968af75e12a": {
     "views": [
      {
       "cell_index": 29
      }
     ]
    },
    "161cd94df8e74136bf98128ccc8afd0d": {
     "views": [
      {
       "cell_index": 29
      }
     ]
    },
    "168039fb86f14638bc81d4f5227aff69": {
     "views": [
      {
       "cell_index": 23
      }
     ]
    },
    "16a0e911dd32417885c91179c8eec808": {
     "views": [
      {
       "cell_index": 15
      }
     ]
    },
    "16a68277fa5b4b1c93fb584906612cb9": {
     "views": [
      {
       "cell_index": 25
      }
     ]
    },
    "16de65a951164f87a782eb4e44617174": {
     "views": [
      {
       "cell_index": 23
      }
     ]
    },
    "16df010713624fd48865d9a2d47bbe3c": {
     "views": [
      {
       "cell_index": 25
      }
     ]
    },
    "179519ce6f2b4bc288e606d30878f722": {
     "views": [
      {
       "cell_index": 23
      }
     ]
    },
    "17c8b27d33f54e19ace9c3193d10f5e0": {
     "views": [
      {
       "cell_index": 23
      }
     ]
    },
    "180eece6480e4134ae31b2f5ef63da01": {
     "views": [
      {
       "cell_index": 25
      }
     ]
    },
    "181b9c06e0d946b39c6c89b514ed65c5": {
     "views": [
      {
       "cell_index": 29
      }
     ]
    },
    "1843443f35e84f46af6eef81d8180a7c": {
     "views": [
      {
       "cell_index": 23
      }
     ]
    },
    "186bdd0f81e64fccb0e6d3a567441e04": {
     "views": [
      {
       "cell_index": 28
      }
     ]
    },
    "1876a0601f3e4ae8b4525144dbfde4e7": {
     "views": [
      {
       "cell_index": 20
      }
     ]
    },
    "190dfcee39294db4a9aa2c2c590dc71d": {
     "views": [
      {
       "cell_index": 25
      }
     ]
    },
    "192fb30c895a416c9cbc874882a62bb6": {
     "views": [
      {
       "cell_index": 27
      }
     ]
    },
    "195190c9b939411f820cf98e56233fb5": {
     "views": [
      {
       "cell_index": 25
      }
     ]
    },
    "197f035f28cc4ce882e1a34f1d1a2ddb": {
     "views": [
      {
       "cell_index": 29
      }
     ]
    },
    "1988b049a64949c5a935e46cf15aeae9": {
     "views": [
      {
       "cell_index": 23
      }
     ]
    },
    "19a84d09cf664e06a7cbf88269d5a470": {
     "views": [
      {
       "cell_index": 25
      }
     ]
    },
    "1a14ad678d1c4052b91bf9dd2423a98f": {
     "views": [
      {
       "cell_index": 23
      }
     ]
    },
    "1abd046001a44d36aa554129554395f7": {
     "views": [
      {
       "cell_index": 23
      }
     ]
    },
    "1ac3fe6dc9274f7f91513a4b0e43e282": {
     "views": [
      {
       "cell_index": 23
      }
     ]
    },
    "1b1ade544c9f4786a341cf52ce90e3d2": {
     "views": [
      {
       "cell_index": 25
      }
     ]
    },
    "1ba225c8b9494cd5aa350b2f710a20ed": {
     "views": [
      {
       "cell_index": 23
      }
     ]
    },
    "1ba8c23772084abcbb306adb6e056736": {
     "views": [
      {
       "cell_index": 23
      }
     ]
    },
    "1bad62b203be4fa48add458883b9ea44": {
     "views": [
      {
       "cell_index": 23
      }
     ]
    },
    "1be4bf7c6d5c4049b34c32239a7f557b": {
     "views": [
      {
       "cell_index": 15
      }
     ]
    },
    "1c99cb12e3284a39b7c5a72e4aeec02c": {
     "views": [
      {
       "cell_index": 25
      }
     ]
    },
    "1c9dbcd32c4443cc9a65ec11b0f58e24": {
     "views": [
      {
       "cell_index": 15
      }
     ]
    },
    "1cf8bbedbda448678089d67affeff03e": {
     "views": [
      {
       "cell_index": 23
      }
     ]
    },
    "1d2b1efca56b421a87500afd5abb14d6": {
     "views": [
      {
       "cell_index": 25
      }
     ]
    },
    "1d8a98df205a4807995d0623fae0bb52": {
     "views": [
      {
       "cell_index": 23
      }
     ]
    },
    "1d8cad107a0d47be88248a84ecb7e28a": {
     "views": [
      {
       "cell_index": 25
      }
     ]
    },
    "1df140e06d5040bbac405cd0029039d2": {
     "views": [
      {
       "cell_index": 23
      }
     ]
    },
    "1df3f654b5b9427abc753946a2d6e92f": {
     "views": [
      {
       "cell_index": 29
      }
     ]
    },
    "1e61a7365c904e17a9e7c1095b7e0ece": {
     "views": [
      {
       "cell_index": 27
      }
     ]
    },
    "1e61e160d7ca4fa9a3a9af67fabe10f0": {
     "views": [
      {
       "cell_index": 23
      }
     ]
    },
    "1eea1a3d178645d4bd15e9a455b34614": {
     "views": [
      {
       "cell_index": 24
      }
     ]
    },
    "1eeaf9b8cd784535a5722bb79a7a3ae7": {
     "views": [
      {
       "cell_index": 23
      }
     ]
    },
    "1f2dfeebbae644199497ecb0445c800d": {
     "views": [
      {
       "cell_index": 21
      }
     ]
    },
    "1f60a4b0506842d6a3ca653ee7846dc6": {
     "views": [
      {
       "cell_index": 15
      }
     ]
    },
    "1ffd8e6a8b04466e8023a8c49af4de2d": {
     "views": [
      {
       "cell_index": 23
      }
     ]
    },
    "203dd496ea654ac78e2c64a026b1bc24": {
     "views": [
      {
       "cell_index": 25
      }
     ]
    },
    "2090531f2d14431687c3cb01988f3ad6": {
     "views": [
      {
       "cell_index": 25
      }
     ]
    },
    "209bbd17665f4ea78e87d0909a24b691": {
     "views": [
      {
       "cell_index": 25
      }
     ]
    },
    "20f37fb6cd8c42558f76a606b739f41c": {
     "views": [
      {
       "cell_index": 27
      }
     ]
    },
    "2111b72200d94ebdbe4cd55692a3618c": {
     "views": [
      {
       "cell_index": 23
      }
     ]
    },
    "213f7b9b03044a6bb396b97f3aad403e": {
     "views": [
      {
       "cell_index": 23
      }
     ]
    },
    "21500a8ade664fb0acc14a2b85a8bb26": {
     "views": [
      {
       "cell_index": 27
      }
     ]
    },
    "220f884b1d8244a498f899d1ddff06ad": {
     "views": [
      {
       "cell_index": 23
      }
     ]
    },
    "221af54b8f4c4350a285ddbfdc2896a6": {
     "views": [
      {
       "cell_index": 23
      }
     ]
    },
    "2257ec90cac54eaea2f5fc899d4af7df": {
     "views": [
      {
       "cell_index": 29
      }
     ]
    },
    "2303995ef00c409f9789712995c4f779": {
     "views": [
      {
       "cell_index": 25
      }
     ]
    },
    "23535048d6ae457c80082366dfeaef9e": {
     "views": [
      {
       "cell_index": 29
      }
     ]
    },
    "236e18b833874e10801082ed95f1e111": {
     "views": [
      {
       "cell_index": 20
      }
     ]
    },
    "23a142526a674b269c35d0116464d5e5": {
     "views": [
      {
       "cell_index": 23
      }
     ]
    },
    "24e79d49680248cdac6354883139cce0": {
     "views": [
      {
       "cell_index": 23
      }
     ]
    },
    "250dab12a844443e9a352564ff66f221": {
     "views": [
      {
       "cell_index": 25
      }
     ]
    },
    "25112f7a2a9b46fabc9ff42d49d0514f": {
     "views": [
      {
       "cell_index": 23
      }
     ]
    },
    "25939554b7134c0dafc9d0ce6730204e": {
     "views": [
      {
       "cell_index": 25
      }
     ]
    },
    "25d3cf2b2ce349e2981b237ddfd4cc11": {
     "views": [
      {
       "cell_index": 25
      }
     ]
    },
    "25d89179a7ea4588827737bb02ab7064": {
     "views": [
      {
       "cell_index": 23
      }
     ]
    },
    "25e06146d4a04a74bbb1fb824dce9a56": {
     "views": [
      {
       "cell_index": 20
      }
     ]
    },
    "260f848cf65e44699a8eedf9e020a17d": {
     "views": [
      {
       "cell_index": 25
      }
     ]
    },
    "267cbbd1c02d4588b6d447af8cc92fdb": {
     "views": [
      {
       "cell_index": 20
      }
     ]
    },
    "26c473ed1dcd456f960691fb4680db7d": {
     "views": [
      {
       "cell_index": 25
      }
     ]
    },
    "2747105c56364b1fbfb62a5c95aa4115": {
     "views": [
      {
       "cell_index": 25
      }
     ]
    },
    "27f38352c46f4cb38f590d91daf33a54": {
     "views": [
      {
       "cell_index": 25
      }
     ]
    },
    "2846c3d0271348dc97e1ce2f69a2314e": {
     "views": [
      {
       "cell_index": 23
      }
     ]
    },
    "29130b7cae854c28b82b5c0657796572": {
     "views": [
      {
       "cell_index": 22
      }
     ]
    },
    "296c77ef48a144fb8ddfa3935ec839bf": {
     "views": [
      {
       "cell_index": 23
      }
     ]
    },
    "29b98cd02923421d80f1ad3dfaace877": {
     "views": [
      {
       "cell_index": 25
      }
     ]
    },
    "2a5b74509dd24b3aa6f5294e93d01683": {
     "views": [
      {
       "cell_index": 23
      }
     ]
    },
    "2ac82d6da2b34d87b1bec1a8a6cdf586": {
     "views": [
      {
       "cell_index": 25
      }
     ]
    },
    "2c045a953ed1472fac505bd875819758": {
     "views": [
      {
       "cell_index": 23
      }
     ]
    },
    "2d5260b25ba243fabcb9e9a298535d0b": {
     "views": [
      {
       "cell_index": 23
      }
     ]
    },
    "2d53fb4855a04e9699d6971166f44d7e": {
     "views": [
      {
       "cell_index": 29
      }
     ]
    },
    "2db4f8dc355644549d161645bb5c8a7f": {
     "views": [
      {
       "cell_index": 23
      }
     ]
    },
    "2dd07a7b955e4bb1b6d2e60fec93f975": {
     "views": [
      {
       "cell_index": 23
      }
     ]
    },
    "2e3ba988da87410783e56ffe3893cd96": {
     "views": [
      {
       "cell_index": 29
      }
     ]
    },
    "2e49bf4b0e3349bbb5fa481468706011": {
     "views": [
      {
       "cell_index": 25
      }
     ]
    },
    "2e57c28996674b6f9cecedb2f8c13440": {
     "views": [
      {
       "cell_index": 25
      }
     ]
    },
    "2e6e5c0ac4784180becf1c09a36ab974": {
     "views": [
      {
       "cell_index": 23
      }
     ]
    },
    "2f3961aae7fc49af96758e2125be57c5": {
     "views": [
      {
       "cell_index": 25
      }
     ]
    },
    "2f5ff237e03c4cccbda99e3b6d19fc46": {
     "views": [
      {
       "cell_index": 23
      }
     ]
    },
    "2f65f80cf7834f168b19f67149bae947": {
     "views": [
      {
       "cell_index": 20
      }
     ]
    },
    "2f7c76c89ed24637957850134b0366e6": {
     "views": [
      {
       "cell_index": 23
      }
     ]
    },
    "2fdbc206a9bd47e69cd6fb5bca2dd163": {
     "views": [
      {
       "cell_index": 23
      }
     ]
    },
    "30055c4140c242749b9a93a3c57fae30": {
     "views": [
      {
       "cell_index": 24
      }
     ]
    },
    "300b20a1ce7e4da39cc71207a93583e2": {
     "views": [
      {
       "cell_index": 21
      }
     ]
    },
    "301e8faecd354cedbbb3dad956c96cc9": {
     "views": [
      {
       "cell_index": 29
      }
     ]
    },
    "3024712a1ca74801b6384290de16e0f4": {
     "views": [
      {
       "cell_index": 29
      }
     ]
    },
    "3077bc3330f9474f994ed45cc4ca31de": {
     "views": [
      {
       "cell_index": 29
      }
     ]
    },
    "307f845d7a5b49afbd0ebbd223217932": {
     "views": [
      {
       "cell_index": 15
      }
     ]
    },
    "3090e5600e484f439eb080c33d85ddd7": {
     "views": [
      {
       "cell_index": 23
      }
     ]
    },
    "30f374a963424664bf746bb2b6b3c6d2": {
     "views": [
      {
       "cell_index": 23
      }
     ]
    },
    "3105274ddd9f487eb2d147aa8e1a21e1": {
     "views": [
      {
       "cell_index": 23
      }
     ]
    },
    "3143be132ea24b1b980588ae72a7ce4a": {
     "views": [
      {
       "cell_index": 27
      }
     ]
    },
    "3168093bbfc747b6bd0c456da6da613e": {
     "views": [
      {
       "cell_index": 29
      }
     ]
    },
    "319900b8fadf47e5888c85512f959fc8": {
     "views": [
      {
       "cell_index": 25
      }
     ]
    },
    "31a1533ff0ad41c8aea7fbaf8f02fb76": {
     "views": [
      {
       "cell_index": 15
      }
     ]
    },
    "31e33290e6ea477eb1a9628116bbdace": {
     "views": [
      {
       "cell_index": 23
      }
     ]
    },
    "31e5c203d47b42f4866b7f475cb9ebf7": {
     "views": [
      {
       "cell_index": 25
      }
     ]
    },
    "31fc21abe39847e49e8a1b977730c392": {
     "views": [
      {
       "cell_index": 25
      }
     ]
    },
    "321f704987f647f59e80cbdf3b49973f": {
     "views": [
      {
       "cell_index": 29
      }
     ]
    },
    "323daf344ad3408c9d5b1c14124b6c7f": {
     "views": [
      {
       "cell_index": 23
      }
     ]
    },
    "324b0dc694844f69a4b28e679bc18bb2": {
     "views": [
      {
       "cell_index": 23
      }
     ]
    },
    "3276b15a740549db91f360ee74ed29a9": {
     "views": [
      {
       "cell_index": 29
      }
     ]
    },
    "32d74be9f6fb4570a7d28daf0b8899ee": {
     "views": [
      {
       "cell_index": 23
      }
     ]
    },
    "3318cfdf2b6a438494de02520846e52a": {
     "views": [
      {
       "cell_index": 25
      }
     ]
    },
    "335d84a4a0484785b479b2e066be4c14": {
     "views": [
      {
       "cell_index": 24
      }
     ]
    },
    "337a4f4ddda242dbb3eaf9a6796d19b5": {
     "views": [
      {
       "cell_index": 25
      }
     ]
    },
    "339fd2f57b3449728f44cd0af8d9620d": {
     "views": [
      {
       "cell_index": 23
      }
     ]
    },
    "33a603e4f4d34656876384e4949ac831": {
     "views": [
      {
       "cell_index": 29
      }
     ]
    },
    "33f2a60375ab436fb5a604a489926fc8": {
     "views": [
      {
       "cell_index": 23
      }
     ]
    },
    "33f73bccfe0d42c78c5757bce5426ebb": {
     "views": [
      {
       "cell_index": 25
      }
     ]
    },
    "34205f421b6a4915bf3e9a6a61447080": {
     "views": [
      {
       "cell_index": 28
      }
     ]
    },
    "3495cb8e813b4eca8d4c178d18fd4b99": {
     "views": [
      {
       "cell_index": 25
      }
     ]
    },
    "34b2a5ee724446bcbbcb97cbf5c8f556": {
     "views": [
      {
       "cell_index": 23
      }
     ]
    },
    "34c52866db2446d9b569d40acb500ebd": {
     "views": [
      {
       "cell_index": 20
      }
     ]
    },
    "352bab8687264ac99b0491ebbd924b81": {
     "views": [
      {
       "cell_index": 20
      }
     ]
    },
    "35413c5ed4bf45c2b8a629b368a56304": {
     "views": [
      {
       "cell_index": 23
      }
     ]
    },
    "354bd9f2886b4e8d88c3f976413accde": {
     "views": [
      {
       "cell_index": 23
      }
     ]
    },
    "355fc1e13b9b423a9019bc268e37ee36": {
     "views": [
      {
       "cell_index": 23
      }
     ]
    },
    "3581417fd8b14938a136fc512b7b6908": {
     "views": [
      {
       "cell_index": 23
      }
     ]
    },
    "359ddea7b8cc49628402b932370141b9": {
     "views": [
      {
       "cell_index": 25
      }
     ]
    },
    "35ab8e4dee22456ba4ada0375eebce6a": {
     "views": [
      {
       "cell_index": 25
      }
     ]
    },
    "362ec31d0d174ecfbb52414b985dd1e5": {
     "views": [
      {
       "cell_index": 25
      }
     ]
    },
    "36af28911f6044518c28c2e0f3027e5b": {
     "views": [
      {
       "cell_index": 23
      }
     ]
    },
    "36b4666767b74b8a904a2823e2eb0596": {
     "views": [
      {
       "cell_index": 23
      }
     ]
    },
    "3739dfbfdc9341d284e0a79373660243": {
     "views": [
      {
       "cell_index": 20
      }
     ]
    },
    "3839a8ddb7314a31b8f47bc215852f24": {
     "views": [
      {
       "cell_index": 27
      }
     ]
    },
    "3850cacb90ae41b090f9005d2fbe4b5f": {
     "views": [
      {
       "cell_index": 23
      }
     ]
    },
    "38600dee70214493ab6ae2948263d9a8": {
     "views": [
      {
       "cell_index": 25
      }
     ]
    },
    "388644742b04465e9142cb3d4a38f374": {
     "views": [
      {
       "cell_index": 23
      }
     ]
    },
    "38a3b6edc419498ca80831fc244c0be9": {
     "views": [
      {
       "cell_index": 23
      }
     ]
    },
    "38b416dc4fc2401c8d123ea6d74519ad": {
     "views": [
      {
       "cell_index": 29
      }
     ]
    },
    "38b57e51f6b94204b591e5c96541bde9": {
     "views": [
      {
       "cell_index": 23
      }
     ]
    },
    "38fe61738f8548ccb55718bbb1838e71": {
     "views": [
      {
       "cell_index": 29
      }
     ]
    },
    "3958aa1d7fdc4066ab1da6a0e782886b": {
     "views": [
      {
       "cell_index": 29
      }
     ]
    },
    "395a20fb402947fb9ad8d7e12d225af4": {
     "views": [
      {
       "cell_index": 23
      }
     ]
    },
    "39b67a7c6e904f68a8971d208f5dc33e": {
     "views": [
      {
       "cell_index": 21
      }
     ]
    },
    "39b8e212937d404391a3400e9c881e45": {
     "views": [
      {
       "cell_index": 29
      }
     ]
    },
    "39d1dcf2229348ffa01b43cf99e769d6": {
     "views": [
      {
       "cell_index": 25
      }
     ]
    },
    "39d4f3ff6bfb4a358d942711a4a4cdd6": {
     "views": [
      {
       "cell_index": 23
      }
     ]
    },
    "3a15078b27ee422e81ad6a5bfb7657cc": {
     "views": [
      {
       "cell_index": 23
      }
     ]
    },
    "3a1c031b77bf4bb88aeeba8ad61023b5": {
     "views": [
      {
       "cell_index": 15
      }
     ]
    },
    "3a5e43122b0445358c3e3c14827cc130": {
     "views": [
      {
       "cell_index": 29
      }
     ]
    },
    "3ad3cb6c5d6d457d862a7d20c740236d": {
     "views": [
      {
       "cell_index": 23
      }
     ]
    },
    "3adbedd72afe477fa3532c8986e06b42": {
     "views": [
      {
       "cell_index": 23
      }
     ]
    },
    "3b73f8818a7845dbaa55e5817342bce2": {
     "views": [
      {
       "cell_index": 23
      }
     ]
    },
    "3b7b459f1d17459097eeb450d6c830e1": {
     "views": [
      {
       "cell_index": 19
      }
     ]
    },
    "3c1eb14e22644053b3de9cce0b919934": {
     "views": [
      {
       "cell_index": 23
      }
     ]
    },
    "3c4055e9e6c64675854ed9b68e4fd6f7": {
     "views": [
      {
       "cell_index": 21
      }
     ]
    },
    "3c61f86d81194571b13580267e486da6": {
     "views": [
      {
       "cell_index": 25
      }
     ]
    },
    "3ca44699b2404e898050fb3da9c0796c": {
     "views": [
      {
       "cell_index": 20
      }
     ]
    },
    "3cb13b94015348759314d4aa5ecb7a88": {
     "views": [
      {
       "cell_index": 23
      }
     ]
    },
    "3d157a95e66449ac9fdb209027847d22": {
     "views": [
      {
       "cell_index": 29
      }
     ]
    },
    "3d2dfe0c9ea6485e9db062aff0c74594": {
     "views": [
      {
       "cell_index": 25
      }
     ]
    },
    "3d431bfd345f45cca9c5a52fa6148db7": {
     "views": [
      {
       "cell_index": 29
      }
     ]
    },
    "3d4ac6b9fa6649a2b8820b90b0a3ef3e": {
     "views": [
      {
       "cell_index": 23
      }
     ]
    },
    "3db8c9979269431db8e7d48e185b0eec": {
     "views": [
      {
       "cell_index": 23
      }
     ]
    },
    "3e49f295ae09461f80588811aee2c8db": {
     "views": [
      {
       "cell_index": 23
      }
     ]
    },
    "3ea1da0602574b5ebeb429ce184af020": {
     "views": [
      {
       "cell_index": 23
      }
     ]
    },
    "3eb20824d0df4c06b7a03bac7ab55980": {
     "views": [
      {
       "cell_index": 15
      }
     ]
    },
    "3eb8561a897c4d1983a36dfd7ab57de2": {
     "views": [
      {
       "cell_index": 29
      }
     ]
    },
    "3efb6db5b37e4926a4347090bbc307db": {
     "views": [
      {
       "cell_index": 15
      }
     ]
    },
    "3f0d111b216442788650878e3e297e15": {
     "views": [
      {
       "cell_index": 29
      }
     ]
    },
    "3f112912b2cb4f43998d0ae246a92e6d": {
     "views": [
      {
       "cell_index": 15
      }
     ]
    },
    "3f1bb8413e1f4c67b46c630c7d38c4a6": {
     "views": [
      {
       "cell_index": 29
      }
     ]
    },
    "3f2d7ac383dc4870b6d0755a226d6463": {
     "views": [
      {
       "cell_index": 24
      }
     ]
    },
    "3f3b2fa0ec2d408fb0b3af3684f45946": {
     "views": [
      {
       "cell_index": 25
      }
     ]
    },
    "3f880bfa63094f96b50da1aa43d198e0": {
     "views": [
      {
       "cell_index": 25
      }
     ]
    },
    "3f8b88ecef8449e5b6a977bef3b61942": {
     "views": [
      {
       "cell_index": 27
      }
     ]
    },
    "3fb717f077c940e5b07c26e8101c64a9": {
     "views": [
      {
       "cell_index": 27
      }
     ]
    },
    "3ffe9219bfc545a6ba5433c882e30120": {
     "views": [
      {
       "cell_index": 29
      }
     ]
    },
    "4071dc639837484c858dc4ab6510bd76": {
     "views": [
      {
       "cell_index": 15
      }
     ]
    },
    "4094b705337b439c877bb7b54e22b5d4": {
     "views": [
      {
       "cell_index": 21
      }
     ]
    },
    "409d077d593a46ce9a0c6ae2b0c790bc": {
     "views": [
      {
       "cell_index": 25
      }
     ]
    },
    "40a3cd179aea467bb0acd531f197b362": {
     "views": [
      {
       "cell_index": 25
      }
     ]
    },
    "40f0841dda5d4c00b871cd644d2d53be": {
     "views": [
      {
       "cell_index": 25
      }
     ]
    },
    "40f1900297b34732b7b71a2cefab5d2c": {
     "views": [
      {
       "cell_index": 25
      }
     ]
    },
    "414b5d15897f4b0ba9f378c52f71557b": {
     "views": [
      {
       "cell_index": 25
      }
     ]
    },
    "414eef55a4074698937b8a7f14fabb02": {
     "views": [
      {
       "cell_index": 25
      }
     ]
    },
    "41998582460244628fba89b36fc26a7d": {
     "views": [
      {
       "cell_index": 23
      }
     ]
    },
    "419f43f654a44de097048a2aab3ccec7": {
     "views": [
      {
       "cell_index": 28
      }
     ]
    },
    "41d2917a568342998ea22adf994bba67": {
     "views": [
      {
       "cell_index": 23
      }
     ]
    },
    "41eb5cb2476843fb8e3a5840d7a9ad80": {
     "views": [
      {
       "cell_index": 29
      }
     ]
    },
    "4200a00941cd4147b555a069928ade7e": {
     "views": [
      {
       "cell_index": 23
      }
     ]
    },
    "42055da6d581415bb0e1aa5484ec355c": {
     "views": [
      {
       "cell_index": 25
      }
     ]
    },
    "4227656e7b75417dae7b78dbde93c129": {
     "views": [
      {
       "cell_index": 25
      }
     ]
    },
    "423176160b224d12a95a854d42899782": {
     "views": [
      {
       "cell_index": 25
      }
     ]
    },
    "424b9ccdfe074131ab711114b7d53e66": {
     "views": [
      {
       "cell_index": 23
      }
     ]
    },
    "4262a553b6a0478a910ea645e407b026": {
     "views": [
      {
       "cell_index": 29
      }
     ]
    },
    "4269856c442144678758a5ed847c640f": {
     "views": [
      {
       "cell_index": 25
      }
     ]
    },
    "426d6d20ffec445988d7cf2efb791481": {
     "views": [
      {
       "cell_index": 25
      }
     ]
    },
    "42a8836f6fc044fe8a801c76cca0aa95": {
     "views": [
      {
       "cell_index": 23
      }
     ]
    },
    "42aa0112a0fb46f59949c5949155abec": {
     "views": [
      {
       "cell_index": 23
      }
     ]
    },
    "42d07fa57696456f8aa976680c8e4a67": {
     "views": [
      {
       "cell_index": 27
      }
     ]
    },
    "435d5834030a483fb6faa7f6a6bcd722": {
     "views": [
      {
       "cell_index": 29
      }
     ]
    },
    "436d179b08fb4570aa0cc7f20a247d79": {
     "views": [
      {
       "cell_index": 23
      }
     ]
    },
    "438466cd7a054e93a769891750d6065a": {
     "views": [
      {
       "cell_index": 23
      }
     ]
    },
    "43c85eb0f5ee4f15bfd0fdf1fab208c7": {
     "views": [
      {
       "cell_index": 23
      }
     ]
    },
    "4460fb426aa94f21bf1d583246bf5a1b": {
     "views": [
      {
       "cell_index": 23
      }
     ]
    },
    "44e5a7264bc44483ac5b62d9e1069623": {
     "views": [
      {
       "cell_index": 23
      }
     ]
    },
    "44fbfcaa71d84f7c93388c1cedaeca0d": {
     "views": [
      {
       "cell_index": 25
      }
     ]
    },
    "455ccba1e3dc442a89301b942923d169": {
     "views": [
      {
       "cell_index": 29
      }
     ]
    },
    "45a42e5c6aa84ea2b9c74bbd0e1d8245": {
     "views": [
      {
       "cell_index": 25
      }
     ]
    },
    "45e1f6c657254570b6cf1649690d9f7d": {
     "views": [
      {
       "cell_index": 27
      }
     ]
    },
    "45e3c0c2cbce4c21941fb49f07e5c2eb": {
     "views": [
      {
       "cell_index": 28
      }
     ]
    },
    "46280cd8b13241be81d665d8f8bb5063": {
     "views": [
      {
       "cell_index": 25
      }
     ]
    },
    "4640be1bc5804d47a63c1edd922b16e5": {
     "views": [
      {
       "cell_index": 23
      }
     ]
    },
    "465740892392465cba9afc99f54f0510": {
     "views": [
      {
       "cell_index": 23
      }
     ]
    },
    "46f3562ff9a14ab6bd9de582580e23c2": {
     "views": [
      {
       "cell_index": 25
      }
     ]
    },
    "46feab3f05e546c2af99dc75d54989f6": {
     "views": [
      {
       "cell_index": 23
      }
     ]
    },
    "47665bf0b7f2489a9f66038e78991cda": {
     "views": [
      {
       "cell_index": 23
      }
     ]
    },
    "47a092feae4848e48c2dfb399613a439": {
     "views": [
      {
       "cell_index": 25
      }
     ]
    },
    "47bb9f11186a4357b28987f3bf27e1ba": {
     "views": [
      {
       "cell_index": 29
      }
     ]
    },
    "4823e99723574720a97745edfcc27d1d": {
     "views": [
      {
       "cell_index": 25
      }
     ]
    },
    "4842df4443f847c589270dafebdaa419": {
     "views": [
      {
       "cell_index": 25
      }
     ]
    },
    "489faba4dedc4f5b862cfd5711911e69": {
     "views": [
      {
       "cell_index": 25
      }
     ]
    },
    "48e08da0cc6044ccb55766762003b656": {
     "views": [
      {
       "cell_index": 23
      }
     ]
    },
    "4901411156d848d394b1542c694e249f": {
     "views": [
      {
       "cell_index": 25
      }
     ]
    },
    "4906cc5d4a634b7cb7195975dada7447": {
     "views": [
      {
       "cell_index": 23
      }
     ]
    },
    "490aa87c343344f9b1e539e2de942c7d": {
     "views": [
      {
       "cell_index": 15
      }
     ]
    },
    "4a3083184de24a7bab7c0dbff3a6001a": {
     "views": [
      {
       "cell_index": 23
      }
     ]
    },
    "4a37f6a6aea846cbbf81303e760aaf43": {
     "views": [
      {
       "cell_index": 29
      }
     ]
    },
    "4a3b4542db3a46ebac9be698e04fd1bc": {
     "views": [
      {
       "cell_index": 20
      }
     ]
    },
    "4a48ea4b4a3c4acf8453269298c07bbc": {
     "views": [
      {
       "cell_index": 23
      }
     ]
    },
    "4a4e7ebe7db34c44b0ca29419f2b79fd": {
     "views": [
      {
       "cell_index": 25
      }
     ]
    },
    "4a8020a26fe948baaa78f346fa87df59": {
     "views": [
      {
       "cell_index": 23
      }
     ]
    },
    "4a86616abf6d45009457bcc683a1f586": {
     "views": [
      {
       "cell_index": 23
      }
     ]
    },
    "4a89f7bb4e7e4b01b916a2135bad392d": {
     "views": [
      {
       "cell_index": 29
      }
     ]
    },
    "4ad6794184024282afaf0e4dfb2b170b": {
     "views": [
      {
       "cell_index": 15
      }
     ]
    },
    "4addd6d5ecc64df98dba7dc3fc647e3f": {
     "views": [
      {
       "cell_index": 23
      }
     ]
    },
    "4b257e761f5d4bc5a1905a6827e1bba1": {
     "views": [
      {
       "cell_index": 27
      }
     ]
    },
    "4b26d92b17d7492f8b3a750d324ad105": {
     "views": [
      {
       "cell_index": 27
      }
     ]
    },
    "4b7e7f1720f54e99b4a3af31d29f8c5d": {
     "views": [
      {
       "cell_index": 23
      }
     ]
    },
    "4b876969c1ba412bb6d5d27719b47d76": {
     "views": [
      {
       "cell_index": 25
      }
     ]
    },
    "4bcd842d02ef4309b6050e2810bfe42a": {
     "views": [
      {
       "cell_index": 23
      }
     ]
    },
    "4bf2c4a880f34b27b8c575e532bb06b5": {
     "views": [
      {
       "cell_index": 23
      }
     ]
    },
    "4c15e56acebe4eb4814257a767427678": {
     "views": [
      {
       "cell_index": 23
      }
     ]
    },
    "4c18474d7bb94e20b90d623afe94df3d": {
     "views": [
      {
       "cell_index": 23
      }
     ]
    },
    "4c1a619cef92434c9f5cfcf309335b81": {
     "views": [
      {
       "cell_index": 29
      }
     ]
    },
    "4c2a6fdbaa2041c7bb8ed4227ddaa4c2": {
     "views": [
      {
       "cell_index": 23
      }
     ]
    },
    "4c5b5d148acc423f87a850f5204d5d89": {
     "views": [
      {
       "cell_index": 23
      }
     ]
    },
    "4c61c62d81c7454ab8522724d704b9dc": {
     "views": [
      {
       "cell_index": 25
      }
     ]
    },
    "4c6f00870cb44256bce3d31d16e59f33": {
     "views": [
      {
       "cell_index": 23
      }
     ]
    },
    "4d3dd3de018141d2b8a141f303933632": {
     "views": [
      {
       "cell_index": 15
      }
     ]
    },
    "4d6acd048a0f4babb6440d556924589c": {
     "views": [
      {
       "cell_index": 25
      }
     ]
    },
    "4db4aa359e7f454fa8421819d19284c9": {
     "views": [
      {
       "cell_index": 23
      }
     ]
    },
    "4dc4f48617c3416c996535d2bc0bedd3": {
     "views": [
      {
       "cell_index": 29
      }
     ]
    },
    "4dc97ad1f72342fb855a95ae53eb2f8e": {
     "views": [
      {
       "cell_index": 23
      }
     ]
    },
    "4dcbbc760c8c417b86309ee622dbd90c": {
     "views": [
      {
       "cell_index": 23
      }
     ]
    },
    "4dd2a984e607435687dd0c5f0971b6fb": {
     "views": [
      {
       "cell_index": 21
      }
     ]
    },
    "4e50b2f38f8a420791a4184bb4acd6b4": {
     "views": [
      {
       "cell_index": 23
      }
     ]
    },
    "4e589b06700e4f4cb71649431f2ac8ae": {
     "views": [
      {
       "cell_index": 23
      }
     ]
    },
    "4e6baf4380c4426b8b2ac9d0bc07be54": {
     "views": [
      {
       "cell_index": 20
      }
     ]
    },
    "4eadb58a19f440638815f8098654440d": {
     "views": [
      {
       "cell_index": 23
      }
     ]
    },
    "4eb2c2c99f424b7aa4e6d05aae239b11": {
     "views": [
      {
       "cell_index": 20
      }
     ]
    },
    "4ee968fba4d946e89604692a7e7328c6": {
     "views": [
      {
       "cell_index": 29
      }
     ]
    },
    "4efe5ed2d1a64b89841cbc12341f0f1a": {
     "views": [
      {
       "cell_index": 29
      }
     ]
    },
    "4eff5d20d99a4006b70f595461ccc73d": {
     "views": [
      {
       "cell_index": 23
      }
     ]
    },
    "4f0afcd507b7487ea941f6f5b9c94b93": {
     "views": [
      {
       "cell_index": 23
      }
     ]
    },
    "4f55705d966f452797c183dfbd8e6572": {
     "views": [
      {
       "cell_index": 25
      }
     ]
    },
    "4f5fd7cb73424ea389baebe266b9dcdf": {
     "views": [
      {
       "cell_index": 25
      }
     ]
    },
    "4fbf3641579149758e023e030f417278": {
     "views": [
      {
       "cell_index": 25
      }
     ]
    },
    "4fee6bef25a94de8aa1f03ed37ea638b": {
     "views": [
      {
       "cell_index": 25
      }
     ]
    },
    "505da2eff734405a886af68c96941c00": {
     "views": [
      {
       "cell_index": 19
      }
     ]
    },
    "5177f06ec658457897c92b9a468dfa35": {
     "views": [
      {
       "cell_index": 29
      }
     ]
    },
    "517ee6bddc004e0aafa1ec2f6d10a041": {
     "views": [
      {
       "cell_index": 25
      }
     ]
    },
    "51919e6f51e646a9ad233e453baa07aa": {
     "views": [
      {
       "cell_index": 29
      }
     ]
    },
    "51979540569e4afb9b2a1d58231b7d49": {
     "views": [
      {
       "cell_index": 25
      }
     ]
    },
    "51e19912fc774d36987c4e14b272c943": {
     "views": [
      {
       "cell_index": 23
      }
     ]
    },
    "5237deb0625a4ad0ac4d20b75dd950fb": {
     "views": [
      {
       "cell_index": 23
      }
     ]
    },
    "5281a25e52c34e1182dc6e26053280d0": {
     "views": [
      {
       "cell_index": 27
      }
     ]
    },
    "52a4f261836b47fbb88fa09d24beeb48": {
     "views": [
      {
       "cell_index": 21
      }
     ]
    },
    "52b59c50c4f045eb88db50d074f22376": {
     "views": [
      {
       "cell_index": 23
      }
     ]
    },
    "52c41bf0b0a846d5b99d3c8be64e378c": {
     "views": [
      {
       "cell_index": 15
      }
     ]
    },
    "52faee5966824050894684372c4e656f": {
     "views": [
      {
       "cell_index": 20
      }
     ]
    },
    "53a4f37633f849dbae100724f6df66fd": {
     "views": [
      {
       "cell_index": 25
      }
     ]
    },
    "53cb88d28b734441b8dde18d24351218": {
     "views": [
      {
       "cell_index": 23
      }
     ]
    },
    "53e65841c1ef4a4e82ff624507975190": {
     "views": [
      {
       "cell_index": 25
      }
     ]
    },
    "540bb893bde6447981857ac355526309": {
     "views": [
      {
       "cell_index": 23
      }
     ]
    },
    "5442dc5685894484b2eb0e0579e2bc98": {
     "views": [
      {
       "cell_index": 15
      }
     ]
    },
    "54f96f0752694009bd9af750821fc454": {
     "views": [
      {
       "cell_index": 23
      }
     ]
    },
    "550e07acf3534e1585ade49a9e251b6a": {
     "views": [
      {
       "cell_index": 25
      }
     ]
    },
    "55685e6deae54ef2bf7a2755a5ddaeac": {
     "views": [
      {
       "cell_index": 23
      }
     ]
    },
    "562fa3a4b8f842e2984e0f0658aea448": {
     "views": [
      {
       "cell_index": 25
      }
     ]
    },
    "563bb29668554b38aa8f89b5213a9751": {
     "views": [
      {
       "cell_index": 25
      }
     ]
    },
    "56698cbfa5f64add91143841564cfbce": {
     "views": [
      {
       "cell_index": 23
      }
     ]
    },
    "5671b5fa51214c10a428a0905d0e578f": {
     "views": [
      {
       "cell_index": 23
      }
     ]
    },
    "56bbfbd9730342a2b37276b97c6271e8": {
     "views": [
      {
       "cell_index": 23
      }
     ]
    },
    "5720c8925f56482f8cded618ba91f3ae": {
     "views": [
      {
       "cell_index": 23
      }
     ]
    },
    "5728495b781f436b9c3d746bb6cefcb9": {
     "views": [
      {
       "cell_index": 15
      }
     ]
    },
    "5736cf80716d470fa894e572e8003966": {
     "views": [
      {
       "cell_index": 29
      }
     ]
    },
    "576ccbfe33f24493860022661773a788": {
     "views": [
      {
       "cell_index": 23
      }
     ]
    },
    "57c0776870994278a06fb512d2e4a90f": {
     "views": [
      {
       "cell_index": 29
      }
     ]
    },
    "57cf0d59df294c5fb3923bc9eefd9ba1": {
     "views": [
      {
       "cell_index": 25
      }
     ]
    },
    "57d643863362413d931646352a6cd31d": {
     "views": [
      {
       "cell_index": 23
      }
     ]
    },
    "57e28ff7856347d5beea135c3ce187c2": {
     "views": [
      {
       "cell_index": 25
      }
     ]
    },
    "58550824f64b4e22b72989474c8dd640": {
     "views": [
      {
       "cell_index": 15
      }
     ]
    },
    "5872ce11c4384fbdba113f6c6de63520": {
     "views": [
      {
       "cell_index": 23
      }
     ]
    },
    "5880fb8bebd04263bfd956d3ddb5b8b6": {
     "views": [
      {
       "cell_index": 25
      }
     ]
    },
    "595539d5636f4620bc75ba945dcc8711": {
     "views": [
      {
       "cell_index": 25
      }
     ]
    },
    "5972f3c964454468addbf0be1bbaa932": {
     "views": [
      {
       "cell_index": 23
      }
     ]
    },
    "597e5bcb82a446bd80bf4f8986e7e509": {
     "views": [
      {
       "cell_index": 23
      }
     ]
    },
    "598f515c0eaf4e8fb3e15b892528900a": {
     "views": [
      {
       "cell_index": 23
      }
     ]
    },
    "5991671123a442b6a2e4a0f94dbe03c1": {
     "views": [
      {
       "cell_index": 23
      }
     ]
    },
    "59e4c5d1fd254132ad2b0ecb6047d6f7": {
     "views": [
      {
       "cell_index": 21
      }
     ]
    },
    "59ea7d6eb8214f32acdf8046b10d2151": {
     "views": [
      {
       "cell_index": 23
      }
     ]
    },
    "5a0cf998e1514e8294174b45daa99a5f": {
     "views": [
      {
       "cell_index": 23
      }
     ]
    },
    "5a2d9acfac56467fa685a91ff21f1b93": {
     "views": [
      {
       "cell_index": 23
      }
     ]
    },
    "5a5c0c05c7ae44d5ae8b5b5a8dd68954": {
     "views": [
      {
       "cell_index": 25
      }
     ]
    },
    "5a71df053ffa43faab9f2f5c8bbdede5": {
     "views": [
      {
       "cell_index": 25
      }
     ]
    },
    "5a79743c5f88413fb28626e4fc534b42": {
     "views": [
      {
       "cell_index": 25
      }
     ]
    },
    "5a9079adaad54a37af1e7e7f2812bcd7": {
     "views": [
      {
       "cell_index": 23
      }
     ]
    },
    "5b0100e8048c4622ae66756b86aabc1e": {
     "views": [
      {
       "cell_index": 23
      }
     ]
    },
    "5b1eddfcce9641bebf0fe50ca276cd16": {
     "views": [
      {
       "cell_index": 23
      }
     ]
    },
    "5b53932c7bd54c78b1b9ae33e9bb1225": {
     "views": [
      {
       "cell_index": 25
      }
     ]
    },
    "5b5713db5ec348e8bb2b983383376493": {
     "views": [
      {
       "cell_index": 23
      }
     ]
    },
    "5b57e9e20f614abea9205339c2e875ed": {
     "views": [
      {
       "cell_index": 20
      }
     ]
    },
    "5bcceed3b0484ff2ba42c08dff591bb4": {
     "views": [
      {
       "cell_index": 25
      }
     ]
    },
    "5c22386262dc4387af977ac6d5706ddb": {
     "views": [
      {
       "cell_index": 23
      }
     ]
    },
    "5c36fa74fd074f1aa684642db51db36c": {
     "views": [
      {
       "cell_index": 15
      }
     ]
    },
    "5c9ff1cfcfaa460295b5c6ba01150790": {
     "views": [
      {
       "cell_index": 25
      }
     ]
    },
    "5cba411c3fbf4429b259acf45cbbba4f": {
     "views": [
      {
       "cell_index": 25
      }
     ]
    },
    "5d0f76272c4e4f97a083e83c530b014f": {
     "views": [
      {
       "cell_index": 23
      }
     ]
    },
    "5d23569625784cb0aaffb27c8ee1c797": {
     "views": [
      {
       "cell_index": 23
      }
     ]
    },
    "5d2536894446410abccdcce1962eac53": {
     "views": [
      {
       "cell_index": 23
      }
     ]
    },
    "5d3efb3758ea405b969ee45fc476ec27": {
     "views": [
      {
       "cell_index": 29
      }
     ]
    },
    "5d81942540b84f20b7273fa031b1f8e0": {
     "views": [
      {
       "cell_index": 29
      }
     ]
    },
    "5d9db05e0037456898e33f61e808cf06": {
     "views": [
      {
       "cell_index": 29
      }
     ]
    },
    "5e040edc82e54dfd9efc7492a8690239": {
     "views": [
      {
       "cell_index": 25
      }
     ]
    },
    "5e94a75dd82548339ace33bf7088ec1b": {
     "views": [
      {
       "cell_index": 25
      }
     ]
    },
    "5eb93acb0c424b9296bed107b13b1f84": {
     "views": [
      {
       "cell_index": 23
      }
     ]
    },
    "5f1251b4d9504043af356ed5b1f79057": {
     "views": [
      {
       "cell_index": 25
      }
     ]
    },
    "5f16b45b4aa4497a81855f7de5ab5f9f": {
     "views": [
      {
       "cell_index": 25
      }
     ]
    },
    "5f2844d6ad454efda62bc1fc5d146d04": {
     "views": [
      {
       "cell_index": 25
      }
     ]
    },
    "5f3bf302f26849f8854b6b5fa57ae5f4": {
     "views": [
      {
       "cell_index": 23
      }
     ]
    },
    "5f5eca8dcbbf4ebea61bc9d9bce94ea7": {
     "views": [
      {
       "cell_index": 25
      }
     ]
    },
    "5f63a9cb7e274e1b8d85f0254edb0735": {
     "views": [
      {
       "cell_index": 29
      }
     ]
    },
    "5fc316a2f48a43c4b4d3feeefc7a84fd": {
     "views": [
      {
       "cell_index": 25
      }
     ]
    },
    "5fcc01a652b64cb180e953f77f957a0d": {
     "views": [
      {
       "cell_index": 29
      }
     ]
    },
    "5fdb2dcf33d843368bf57dcf7e2295e7": {
     "views": [
      {
       "cell_index": 25
      }
     ]
    },
    "5ff90d9f35644ac4a3a01fd9cb96a224": {
     "views": [
      {
       "cell_index": 23
      }
     ]
    },
    "604aa2e6428e4416a0954319ec4938a3": {
     "views": [
      {
       "cell_index": 25
      }
     ]
    },
    "60c1664b3e0d4ca8b1a3fce5db3ddc7e": {
     "views": [
      {
       "cell_index": 23
      }
     ]
    },
    "612517913add44568f1febe497c490b2": {
     "views": [
      {
       "cell_index": 23
      }
     ]
    },
    "612875ffa3654eb198edc160a4941f7e": {
     "views": [
      {
       "cell_index": 29
      }
     ]
    },
    "6167cd848ee149f580667ccf65e62fad": {
     "views": [
      {
       "cell_index": 23
      }
     ]
    },
    "617fde2d346847dba4d773c0b4c8084f": {
     "views": [
      {
       "cell_index": 23
      }
     ]
    },
    "618c0fe2bff14bf8907ff4d643de1e77": {
     "views": [
      {
       "cell_index": 23
      }
     ]
    },
    "61a174dc79e7441f9e2d109e7650c163": {
     "views": [
      {
       "cell_index": 27
      }
     ]
    },
    "61ab55d6f5e64ac4ba1ecc5e05a4e482": {
     "views": [
      {
       "cell_index": 25
      }
     ]
    },
    "61b15cea27c94ff6bb9fcca1f4cc361e": {
     "views": [
      {
       "cell_index": 27
      }
     ]
    },
    "61da17a1678d400a9dc34077798fa5b7": {
     "views": [
      {
       "cell_index": 23
      }
     ]
    },
    "622b96d26e724a2c80a9d959bc59e10c": {
     "views": [
      {
       "cell_index": 29
      }
     ]
    },
    "62901eb80f0c453cbc267a7a643432c0": {
     "views": [
      {
       "cell_index": 25
      }
     ]
    },
    "62b8a66b5a144b2da64a1e0c869adebd": {
     "views": [
      {
       "cell_index": 23
      }
     ]
    },
    "62da8ea1a482488084cd7350b44687f2": {
     "views": [
      {
       "cell_index": 23
      }
     ]
    },
    "639839ef4cfd4967a566148ba3036bcd": {
     "views": [
      {
       "cell_index": 20
      }
     ]
    },
    "639b8cdad91243b5859d204e9ae1b457": {
     "views": [
      {
       "cell_index": 23
      }
     ]
    },
    "63a86e95af32412fab19700861cc5129": {
     "views": [
      {
       "cell_index": 23
      }
     ]
    },
    "63ad5d22263644bcbbe2f01bb917b262": {
     "views": [
      {
       "cell_index": 25
      }
     ]
    },
    "63d602752a2647c6aac63457ed965c8f": {
     "views": [
      {
       "cell_index": 23
      }
     ]
    },
    "64e7b2ac30564bfaa431d922d3a991c0": {
     "views": [
      {
       "cell_index": 27
      }
     ]
    },
    "64f8786da5a34d1dbbce787d75bfa1c2": {
     "views": [
      {
       "cell_index": 25
      }
     ]
    },
    "651e99dd94864a39a791beab4258bf31": {
     "views": [
      {
       "cell_index": 29
      }
     ]
    },
    "6532adbd370b41cc8a6f7e16b6ae8cb5": {
     "views": [
      {
       "cell_index": 20
      }
     ]
    },
    "655fc94c807e48c2a90f9853a73847c3": {
     "views": [
      {
       "cell_index": 23
      }
     ]
    },
    "65aa8a72b4da4dbdb221ae527c201901": {
     "views": [
      {
       "cell_index": 21
      }
     ]
    },
    "65b8f95baf6442b69007c4402b573587": {
     "views": [
      {
       "cell_index": 23
      }
     ]
    },
    "65c134a11eb44c7c96c3a72f6798f088": {
     "views": [
      {
       "cell_index": 25
      }
     ]
    },
    "663670382ceb401e9eec863cee51bfa5": {
     "views": [
      {
       "cell_index": 25
      }
     ]
    },
    "663e114cb0ad4a4ab8007ded7b49ea05": {
     "views": [
      {
       "cell_index": 29
      }
     ]
    },
    "664343e4b2dd4eaca49edb178fe51d20": {
     "views": [
      {
       "cell_index": 20
      }
     ]
    },
    "66749cd765ee47eebb5320ce88b22abf": {
     "views": [
      {
       "cell_index": 29
      }
     ]
    },
    "66b2c59a18d74d23b5452e14decf0faf": {
     "views": [
      {
       "cell_index": 23
      }
     ]
    },
    "66d15313b21f4742945f802a61a8915f": {
     "views": [
      {
       "cell_index": 29
      }
     ]
    },
    "66d647e2fa9849aea452c6114fe7cd10": {
     "views": [
      {
       "cell_index": 28
      }
     ]
    },
    "66e0aafcb6414473afec2643d14beba0": {
     "views": [
      {
       "cell_index": 23
      }
     ]
    },
    "67013c9d22cc423b990d9ea767a7b3c8": {
     "views": [
      {
       "cell_index": 25
      }
     ]
    },
    "673d4bbd659f4d37956da47bd18a5ee4": {
     "views": [
      {
       "cell_index": 23
      }
     ]
    },
    "67eb768de529412299795beb5471a9a6": {
     "views": [
      {
       "cell_index": 23
      }
     ]
    },
    "68d00629eddc4544b60cf40a51070fc2": {
     "views": [
      {
       "cell_index": 20
      }
     ]
    },
    "69aab288146c4ea0b5923f009f46ad17": {
     "views": [
      {
       "cell_index": 29
      }
     ]
    },
    "6a7a7e65921a476f82d0ee7551767a46": {
     "views": [
      {
       "cell_index": 23
      }
     ]
    },
    "6a973094d98d44b6971c77fdaf0a2493": {
     "views": [
      {
       "cell_index": 29
      }
     ]
    },
    "6ab052e075df4345994108359af9c6ea": {
     "views": [
      {
       "cell_index": 25
      }
     ]
    },
    "6ad75c2213fd44f385129a538304ba55": {
     "views": [
      {
       "cell_index": 23
      }
     ]
    },
    "6c041876ea5e4021841ff0d055f3351f": {
     "views": [
      {
       "cell_index": 29
      }
     ]
    },
    "6c6a7f1a7648466eb1c7f2ad454107ab": {
     "views": [
      {
       "cell_index": 25
      }
     ]
    },
    "6cd69be9ee714e2a9be74582ecf07fdb": {
     "views": [
      {
       "cell_index": 25
      }
     ]
    },
    "6cf127fa3cf148a59ab9e3343a0cf4ab": {
     "views": [
      {
       "cell_index": 29
      }
     ]
    },
    "6d019cddbe9c441788d1ab1343fe0513": {
     "views": [
      {
       "cell_index": 25
      }
     ]
    },
    "6d1cc308a24a42189c3fdbe7e9e14cd9": {
     "views": [
      {
       "cell_index": 23
      }
     ]
    },
    "6d405833e6cf4ff78ae57148ae98334f": {
     "views": [
      {
       "cell_index": 29
      }
     ]
    },
    "6d859477260f434da2e9ba962f344b7a": {
     "views": [
      {
       "cell_index": 25
      }
     ]
    },
    "6dc9e095a31a454cbf5a3831addeb885": {
     "views": [
      {
       "cell_index": 25
      }
     ]
    },
    "6e7d51ef6d464a9c869d989eed3d6ce5": {
     "views": [
      {
       "cell_index": 25
      }
     ]
    },
    "6e8ac4b5d2b4401587dd6c49ae0f3e6b": {
     "views": [
      {
       "cell_index": 23
      }
     ]
    },
    "6eeab8632a414541a328dbe6a35b11d7": {
     "views": [
      {
       "cell_index": 25
      }
     ]
    },
    "6ef014f71a4b480bbd1a6baec7540764": {
     "views": [
      {
       "cell_index": 23
      }
     ]
    },
    "6f13118d788d49f6933aba984878b16e": {
     "views": [
      {
       "cell_index": 15
      }
     ]
    },
    "6f13c8d3903a424ab24a24f9ad8679c8": {
     "views": [
      {
       "cell_index": 25
      }
     ]
    },
    "6f6540320605403ba7bb663a18242e47": {
     "views": [
      {
       "cell_index": 23
      }
     ]
    },
    "6f655a5102614983a1f3a6bc5c8ea107": {
     "views": [
      {
       "cell_index": 25
      }
     ]
    },
    "6f6b4f720d2f418c9f15618b8c979981": {
     "views": [
      {
       "cell_index": 23
      }
     ]
    },
    "6f8f79f8aff24d5d9eaaabb297694d10": {
     "views": [
      {
       "cell_index": 29
      }
     ]
    },
    "6fa0095de22246259175b79c4a8d398b": {
     "views": [
      {
       "cell_index": 23
      }
     ]
    },
    "6fc228b727d84fd9b83a32cd0d71cf23": {
     "views": [
      {
       "cell_index": 15
      }
     ]
    },
    "70013faaedf74639808df32ee0866d3f": {
     "views": [
      {
       "cell_index": 27
      }
     ]
    },
    "70167b5fff5b4d59a7a84041a1f52df2": {
     "views": [
      {
       "cell_index": 29
      }
     ]
    },
    "707e9a49677f4bafbb38ebc53235d3ec": {
     "views": [
      {
       "cell_index": 21
      }
     ]
    },
    "7084b1cf70c24adda5ce22c4739ff8f7": {
     "views": [
      {
       "cell_index": 25
      }
     ]
    },
    "714fca01adb54da5953469e7c1177cd4": {
     "views": [
      {
       "cell_index": 23
      }
     ]
    },
    "7158cd59ae4a4ddba002c763acfaecb0": {
     "views": [
      {
       "cell_index": 29
      }
     ]
    },
    "71d061a4bb1646fe8ec766fdac073877": {
     "views": [
      {
       "cell_index": 21
      }
     ]
    },
    "71d5c949e00f4d7b87bccea1861073ea": {
     "views": [
      {
       "cell_index": 23
      }
     ]
    },
    "71f355d789f04fb3933979db262e7f24": {
     "views": [
      {
       "cell_index": 23
      }
     ]
    },
    "7214de6afb9b4bcd8f6ace449afa58c0": {
     "views": [
      {
       "cell_index": 23
      }
     ]
    },
    "728bb9d94c124a10b289635cb15994d6": {
     "views": [
      {
       "cell_index": 23
      }
     ]
    },
    "72e61fe963f24622bf5a7b90584635e5": {
     "views": [
      {
       "cell_index": 25
      }
     ]
    },
    "72f0f79066a44a08a30de6130cf41bff": {
     "views": [
      {
       "cell_index": 23
      }
     ]
    },
    "73aadb62ce9047b4ae4a77cd9610e781": {
     "views": [
      {
       "cell_index": 25
      }
     ]
    },
    "73ce8c5fafb6492481ff2abd081361ff": {
     "views": [
      {
       "cell_index": 23
      }
     ]
    },
    "7402dae2a96c479d90874b14b790a64a": {
     "views": [
      {
       "cell_index": 23
      }
     ]
    },
    "740341784b7e41eb827e792e7ee3a789": {
     "views": [
      {
       "cell_index": 23
      }
     ]
    },
    "742cf728a24b436ca1aaacf761438ee2": {
     "views": [
      {
       "cell_index": 23
      }
     ]
    },
    "742eef7852c44e0287a99019347e5dfc": {
     "views": [
      {
       "cell_index": 23
      }
     ]
    },
    "74b3fddadd614cf9a81c0c7e0c0dabdc": {
     "views": [
      {
       "cell_index": 25
      }
     ]
    },
    "74b928be162b44bb9508ad486b660218": {
     "views": [
      {
       "cell_index": 29
      }
     ]
    },
    "74c44f0dc81c42738a7bc943bce465c4": {
     "views": [
      {
       "cell_index": 29
      }
     ]
    },
    "751dc2a216df4b87bed0e107d0e0ee07": {
     "views": [
      {
       "cell_index": 29
      }
     ]
    },
    "75265f06d5d1440caf40c4ed0b6e330b": {
     "views": [
      {
       "cell_index": 23
      }
     ]
    },
    "7553c7790a824d669dd5b04e9842f131": {
     "views": [
      {
       "cell_index": 29
      }
     ]
    },
    "7568f94db47d4a07afe947e9bff703ac": {
     "views": [
      {
       "cell_index": 25
      }
     ]
    },
    "7588155e59724d85b26f07531c3b2d07": {
     "views": [
      {
       "cell_index": 23
      }
     ]
    },
    "75cba3df54554b5885b201f63e9ea047": {
     "views": [
      {
       "cell_index": 22
      }
     ]
    },
    "75fe82f9e0bf494bac568cec0902e2ec": {
     "views": [
      {
       "cell_index": 23
      }
     ]
    },
    "7617dce8f7b04bce870620d95a239e86": {
     "views": [
      {
       "cell_index": 29
      }
     ]
    },
    "76288c5ba50f49a5bfa834f9cf5747e5": {
     "views": [
      {
       "cell_index": 23
      }
     ]
    },
    "76469f6976b04ad4b4ce2d24c0d80187": {
     "views": [
      {
       "cell_index": 23
      }
     ]
    },
    "764891c5cdf745dca7d7fe68b12d90a5": {
     "views": [
      {
       "cell_index": 25
      }
     ]
    },
    "7658077e3d0749afb07cbdde913eaec4": {
     "views": [
      {
       "cell_index": 23
      }
     ]
    },
    "76aa9bbc9f224626929f9d378dae42ae": {
     "views": [
      {
       "cell_index": 23
      }
     ]
    },
    "76b96fc8fa154ead9cdc3ec52f8c6b2c": {
     "views": [
      {
       "cell_index": 29
      }
     ]
    },
    "76ce940ee3594434b66c3fabdd36fd35": {
     "views": [
      {
       "cell_index": 23
      }
     ]
    },
    "76ec3707d7f44153915ed2dcd9f7eff7": {
     "views": [
      {
       "cell_index": 23
      }
     ]
    },
    "77042fe8bc8548eaa74796ee48843eb6": {
     "views": [
      {
       "cell_index": 23
      }
     ]
    },
    "770adf418f77433ba4a42b04297290f1": {
     "views": [
      {
       "cell_index": 23
      }
     ]
    },
    "77273779b94e4a03ad35d3a1a9a3ea16": {
     "views": [
      {
       "cell_index": 23
      }
     ]
    },
    "777e8bb1402c4b96990a6cce360ed253": {
     "views": [
      {
       "cell_index": 27
      }
     ]
    },
    "77f6119484954315a36a85fcb07d1ccc": {
     "views": [
      {
       "cell_index": 25
      }
     ]
    },
    "7800531c051b4d0da252e181b16e6c67": {
     "views": [
      {
       "cell_index": 23
      }
     ]
    },
    "780ba9f6ec734ec6a5a509fdaa06833c": {
     "views": [
      {
       "cell_index": 29
      }
     ]
    },
    "78109bd3cb7b45edac0922de4a8640e9": {
     "views": [
      {
       "cell_index": 25
      }
     ]
    },
    "78139744756640509daea59ec5314b76": {
     "views": [
      {
       "cell_index": 23
      }
     ]
    },
    "7832ebbdc6e14fc09e741e92adb40a96": {
     "views": [
      {
       "cell_index": 23
      }
     ]
    },
    "7859920b36624f30b066755e03b702e5": {
     "views": [
      {
       "cell_index": 23
      }
     ]
    },
    "785b2dc6a3544c8a81fa5976d8e82a9a": {
     "views": [
      {
       "cell_index": 25
      }
     ]
    },
    "78b1929ae1134a57955fa09f25786750": {
     "views": [
      {
       "cell_index": 23
      }
     ]
    },
    "78bd167e6ea74714a3bacd8d2de46e84": {
     "views": [
      {
       "cell_index": 25
      }
     ]
    },
    "78ea7b7018f44e69860471f4f4607a8d": {
     "views": [
      {
       "cell_index": 22
      }
     ]
    },
    "79503066ec9c49cea8a27af745be1321": {
     "views": [
      {
       "cell_index": 20
      }
     ]
    },
    "79528f4d104348889a400b064f36e634": {
     "views": [
      {
       "cell_index": 25
      }
     ]
    },
    "796dcc5e46c945e0882553c5235723dc": {
     "views": [
      {
       "cell_index": 29
      }
     ]
    },
    "79959d50045f4ae1a612c10eaecdbce0": {
     "views": [
      {
       "cell_index": 23
      }
     ]
    },
    "79ac50e748e5456cbd3dd4fd596cdef4": {
     "views": [
      {
       "cell_index": 29
      }
     ]
    },
    "79b52ba870ef4349bfaff44e5c0d748b": {
     "views": [
      {
       "cell_index": 23
      }
     ]
    },
    "79be78d9de914e47984c8eb864b5b6af": {
     "views": [
      {
       "cell_index": 25
      }
     ]
    },
    "7ad8f3724aee4c0fb99b790d6b35f947": {
     "views": [
      {
       "cell_index": 22
      }
     ]
    },
    "7b51e3a13df244f587070a864a894ee6": {
     "views": [
      {
       "cell_index": 23
      }
     ]
    },
    "7b65e046a0674a408d8fc76d327974e3": {
     "views": [
      {
       "cell_index": 25
      }
     ]
    },
    "7b73a8103a9f42cdb0fd6945f7ab0f44": {
     "views": [
      {
       "cell_index": 25
      }
     ]
    },
    "7b7866b25f2947fe8ded8e0fd0a7ef91": {
     "views": [
      {
       "cell_index": 29
      }
     ]
    },
    "7c072da1e4234fc7aa1a312cb112c3af": {
     "views": [
      {
       "cell_index": 25
      }
     ]
    },
    "7c9172f1591046b982c243043c0ff675": {
     "views": [
      {
       "cell_index": 23
      }
     ]
    },
    "7c9bed77146343bba01c648bf6940d0a": {
     "views": [
      {
       "cell_index": 29
      }
     ]
    },
    "7cbed299778e46a6917a21d1263d6f6a": {
     "views": [
      {
       "cell_index": 23
      }
     ]
    },
    "7d56d9892f594971a5a1d51c13278b1a": {
     "views": [
      {
       "cell_index": 25
      }
     ]
    },
    "7d9c7cb4cc2e4f88a9029febcbf401ae": {
     "views": [
      {
       "cell_index": 23
      }
     ]
    },
    "7daa55c33ded4ce0bd8a5d0c75957ce1": {
     "views": [
      {
       "cell_index": 28
      }
     ]
    },
    "7e17cbc03352435387b8e25acb8531ba": {
     "views": [
      {
       "cell_index": 25
      }
     ]
    },
    "7e3ab3bf0a2241678c4f9844bc7b529f": {
     "views": [
      {
       "cell_index": 23
      }
     ]
    },
    "7e4ac27b7dc049909f7e8818abdcfa03": {
     "views": [
      {
       "cell_index": 27
      }
     ]
    },
    "7e4de561d6c34b14b64e5cb1b6ea074d": {
     "views": [
      {
       "cell_index": 25
      }
     ]
    },
    "7ecd013a2bc64733b8e46e3b2eee980d": {
     "views": [
      {
       "cell_index": 23
      }
     ]
    },
    "7eeed6cfc00d4eb79a229e9a8f531513": {
     "views": [
      {
       "cell_index": 23
      }
     ]
    },
    "7efbbcc1130a4dbbbadfb0ba86c52c91": {
     "views": [
      {
       "cell_index": 25
      }
     ]
    },
    "7f2e4577cdf74825a6bb758c54f15233": {
     "views": [
      {
       "cell_index": 23
      }
     ]
    },
    "7f2f2c916fb94db5bff1bbff10af1e03": {
     "views": [
      {
       "cell_index": 23
      }
     ]
    },
    "7f3e471f1c27493aa8ff2e953d35a802": {
     "views": [
      {
       "cell_index": 23
      }
     ]
    },
    "7f698ac2ff0b4729af2ee8f38f0d3e40": {
     "views": [
      {
       "cell_index": 23
      }
     ]
    },
    "7f8384dc333b4b399c9a5813e1c2346b": {
     "views": [
      {
       "cell_index": 29
      }
     ]
    },
    "7f9ff0d856a34d2db53c9b667c44d527": {
     "views": [
      {
       "cell_index": 25
      }
     ]
    },
    "7fb3384f73884c969c41e8028e5a68d6": {
     "views": [
      {
       "cell_index": 20
      }
     ]
    },
    "7fb7a6c83a214c78ba0361a2f58fa908": {
     "views": [
      {
       "cell_index": 29
      }
     ]
    },
    "7fbfbe75f550460d89200fc92bd048ad": {
     "views": [
      {
       "cell_index": 23
      }
     ]
    },
    "7fe5dc96f2074ff69abaaf64a0c055f1": {
     "views": [
      {
       "cell_index": 23
      }
     ]
    },
    "7fed009cb241409898b9f0b73c83f5ba": {
     "views": [
      {
       "cell_index": 23
      }
     ]
    },
    "8013a404378345268acb407a0ac50e6a": {
     "views": [
      {
       "cell_index": 29
      }
     ]
    },
    "8077c194270644628379519ccf20e4ac": {
     "views": [
      {
       "cell_index": 25
      }
     ]
    },
    "80d83f1c58224d4ab0eb8e550d99f18e": {
     "views": [
      {
       "cell_index": 23
      }
     ]
    },
    "8123fff09e9c4bf4b33ae9e080cc7f20": {
     "views": [
      {
       "cell_index": 21
      }
     ]
    },
    "81534d6dc5694ac7990ce437a3d82fac": {
     "views": [
      {
       "cell_index": 20
      }
     ]
    },
    "8195b5d493da4025841e1e355e31d637": {
     "views": [
      {
       "cell_index": 29
      }
     ]
    },
    "81f58dc450754f779d136faf2335c9af": {
     "views": [
      {
       "cell_index": 29
      }
     ]
    },
    "82113646dbd24403b6b9836ac2aa71ea": {
     "views": [
      {
       "cell_index": 15
      }
     ]
    },
    "826abdfd7011403199d0388551169700": {
     "views": [
      {
       "cell_index": 29
      }
     ]
    },
    "82718a7f734d4cdebba70d379328cf9b": {
     "views": [
      {
       "cell_index": 25
      }
     ]
    },
    "827519a38b2c4691987d79ad980d9f0e": {
     "views": [
      {
       "cell_index": 25
      }
     ]
    },
    "82a23ba87aad42f7ab7881e4b53b972a": {
     "views": [
      {
       "cell_index": 25
      }
     ]
    },
    "82f945604d824683b16b36cd96df85d0": {
     "views": [
      {
       "cell_index": 23
      }
     ]
    },
    "837c2bf771f6433fb97648e9996acfc1": {
     "views": [
      {
       "cell_index": 23
      }
     ]
    },
    "83a27fb2e91f4d64be06e4733e0bd07f": {
     "views": [
      {
       "cell_index": 23
      }
     ]
    },
    "83b873fac8e34d65aaf0a5a677949730": {
     "views": [
      {
       "cell_index": 23
      }
     ]
    },
    "8406bba373b44e58ab514a9ac1eff765": {
     "views": [
      {
       "cell_index": 25
      }
     ]
    },
    "842ad970f0d04b7dbb68da4308043cee": {
     "views": [
      {
       "cell_index": 23
      }
     ]
    },
    "8485e21921d14b42a2bbe7364e8b0fcc": {
     "views": [
      {
       "cell_index": 29
      }
     ]
    },
    "84eeab3b0c164bb3a94691b4712765a6": {
     "views": [
      {
       "cell_index": 20
      }
     ]
    },
    "854ff6886d9348dea7c5b93e3e818d3a": {
     "views": [
      {
       "cell_index": 25
      }
     ]
    },
    "855ec515937e46169b1984397afc42cb": {
     "views": [
      {
       "cell_index": 23
      }
     ]
    },
    "859016be1ffe48fe8bb875406e6dcbd8": {
     "views": [
      {
       "cell_index": 25
      }
     ]
    },
    "8601311ce09a4fc485761cfa1f4a663d": {
     "views": [
      {
       "cell_index": 29
      }
     ]
    },
    "8642233931d74b93a321752a45d1daac": {
     "views": [
      {
       "cell_index": 23
      }
     ]
    },
    "866a7c190a524e5eb300a3601497fd02": {
     "views": [
      {
       "cell_index": 23
      }
     ]
    },
    "8693c53551d74ef98012e7a8a9c2ee37": {
     "views": [
      {
       "cell_index": 23
      }
     ]
    },
    "873b40cc8a1944faa2633e1ff3da45d8": {
     "views": [
      {
       "cell_index": 29
      }
     ]
    },
    "878c35a8be984940a596d16291b602ef": {
     "views": [
      {
       "cell_index": 29
      }
     ]
    },
    "883ac0cf7db44969b5da9ad079055a18": {
     "views": [
      {
       "cell_index": 25
      }
     ]
    },
    "8843585bbe794e17877e0b79532353d3": {
     "views": [
      {
       "cell_index": 25
      }
     ]
    },
    "888574afe06848429bc7e084b6d0b79e": {
     "views": [
      {
       "cell_index": 20
      }
     ]
    },
    "88aa7b43862446f7a26b82eadeb68d90": {
     "views": [
      {
       "cell_index": 19
      }
     ]
    },
    "88cf5cdbe0cd481c90df435fe6526dfc": {
     "views": [
      {
       "cell_index": 23
      }
     ]
    },
    "891edcc0abf64845bec484849671486a": {
     "views": [
      {
       "cell_index": 25
      }
     ]
    },
    "89fcbe19dc9b48e0968ee58dcecb312c": {
     "views": [
      {
       "cell_index": 25
      }
     ]
    },
    "8a14ea99f4554d00a333c425f29de9a5": {
     "views": [
      {
       "cell_index": 23
      }
     ]
    },
    "8a25931e80d54c508dbcab86d0a9106b": {
     "views": [
      {
       "cell_index": 23
      }
     ]
    },
    "8a3d2cc152454ee2971b9d7d15cfe328": {
     "views": [
      {
       "cell_index": 23
      }
     ]
    },
    "8a6dc7ac3c174d7db6a6108f6e5e0d9a": {
     "views": [
      {
       "cell_index": 28
      }
     ]
    },
    "8a792633c57f487195b37b886599cfd9": {
     "views": [
      {
       "cell_index": 23
      }
     ]
    },
    "8ae5535fc0144c51b07ca04aece702c9": {
     "views": [
      {
       "cell_index": 25
      }
     ]
    },
    "8ae900d5a9f346ddb3aadf63e471dccd": {
     "views": [
      {
       "cell_index": 25
      }
     ]
    },
    "8b059e9510d84b9e8f9ddafef07f7960": {
     "views": [
      {
       "cell_index": 29
      }
     ]
    },
    "8b16da2d8bd14eb4aeca4e61a97a28ff": {
     "views": [
      {
       "cell_index": 23
      }
     ]
    },
    "8b6c30da3e7b43c4b56cb60ee5b2c509": {
     "views": [
      {
       "cell_index": 23
      }
     ]
    },
    "8b80de5ababd41fdaf2cf45e97981540": {
     "views": [
      {
       "cell_index": 20
      }
     ]
    },
    "8bb5707103c844feb9273cd2c3aef889": {
     "views": [
      {
       "cell_index": 23
      }
     ]
    },
    "8bcabbe42f17470bb57ee4ad99c87191": {
     "views": [
      {
       "cell_index": 29
      }
     ]
    },
    "8c6b763f31a143f1a519d6c16ffd66fe": {
     "views": [
      {
       "cell_index": 25
      }
     ]
    },
    "8c6c2208856f4ce08394ac1e5d3360a0": {
     "views": [
      {
       "cell_index": 23
      }
     ]
    },
    "8c76168e973247bea0cd125e37f9ab97": {
     "views": [
      {
       "cell_index": 29
      }
     ]
    },
    "8c9208325d7046b5a0b58964ed362272": {
     "views": [
      {
       "cell_index": 23
      }
     ]
    },
    "8cc65d06b0454eaaa3b3ea1e9a81d35b": {
     "views": [
      {
       "cell_index": 23
      }
     ]
    },
    "8d019c55d515469595fdf62d3a4fedd6": {
     "views": [
      {
       "cell_index": 25
      }
     ]
    },
    "8d14ab458130439c932ac93d63a92786": {
     "views": [
      {
       "cell_index": 23
      }
     ]
    },
    "8d27898d33ae47abae44fde73f7a3cca": {
     "views": [
      {
       "cell_index": 23
      }
     ]
    },
    "8d2d997d651946f4ad003a1712b427fb": {
     "views": [
      {
       "cell_index": 21
      }
     ]
    },
    "8d748012a8d74835a4b735f08206dbfb": {
     "views": [
      {
       "cell_index": 29
      }
     ]
    },
    "8d7babf722854ebfaf96baca0c8d12f0": {
     "views": [
      {
       "cell_index": 29
      }
     ]
    },
    "8d85e37a2f134bf39eaf07cecb88fbf9": {
     "views": [
      {
       "cell_index": 15
      }
     ]
    },
    "8d894f82a83446c093a9a93b5c58d9fd": {
     "views": [
      {
       "cell_index": 23
      }
     ]
    },
    "8db1cbddc2da401587c3c6e1983c0122": {
     "views": [
      {
       "cell_index": 15
      }
     ]
    },
    "8dcfba0422c142cea00242df5a5bc466": {
     "views": [
      {
       "cell_index": 23
      }
     ]
    },
    "8ddebdbcc3ce4159803426820266f56e": {
     "views": [
      {
       "cell_index": 29
      }
     ]
    },
    "8e0fe2dc3328402f8483feba01363dcc": {
     "views": [
      {
       "cell_index": 29
      }
     ]
    },
    "8e28ee81976f471283991e0ee696ad99": {
     "views": [
      {
       "cell_index": 29
      }
     ]
    },
    "8e7e5a7eed2647cd8d2a130f3b249fa8": {
     "views": [
      {
       "cell_index": 23
      }
     ]
    },
    "8e88fca2325e4f858e5f58f8d9d7c92e": {
     "views": [
      {
       "cell_index": 25
      }
     ]
    },
    "8eaf66b7726344c2979ea5e57b3f7402": {
     "views": [
      {
       "cell_index": 25
      }
     ]
    },
    "8eb946da61fe4453a4794132f9796e52": {
     "views": [
      {
       "cell_index": 27
      }
     ]
    },
    "8ebcebc165884f1c9d0c57101e141178": {
     "views": [
      {
       "cell_index": 23
      }
     ]
    },
    "8ed5ba0fdf234add9a7301fbbffb1b15": {
     "views": [
      {
       "cell_index": 29
      }
     ]
    },
    "8f7bcaf1eac6473c9e1378ee4409a080": {
     "views": [
      {
       "cell_index": 29
      }
     ]
    },
    "8fa25d3740d2413bbbe3e65dff9328a5": {
     "views": [
      {
       "cell_index": 25
      }
     ]
    },
    "8fa3e2d4cd604ef58913f2807672a768": {
     "views": [
      {
       "cell_index": 23
      }
     ]
    },
    "8fac51e751ef44e48876643783ddccc6": {
     "views": [
      {
       "cell_index": 25
      }
     ]
    },
    "8fb7525c79394655a3092d9198048d21": {
     "views": [
      {
       "cell_index": 25
      }
     ]
    },
    "8feb35eecf104aa3a6b1d01d1e92b708": {
     "views": [
      {
       "cell_index": 25
      }
     ]
    },
    "8ff237bc3d1347ec8e1e889658233e80": {
     "views": [
      {
       "cell_index": 29
      }
     ]
    },
    "9022c220475445949ff5ee8fc9dc6252": {
     "views": [
      {
       "cell_index": 23
      }
     ]
    },
    "906204e10b06437fb5f60b73751a7a0b": {
     "views": [
      {
       "cell_index": 25
      }
     ]
    },
    "907fe1b460ca4774877c1a375840ecb0": {
     "views": [
      {
       "cell_index": 25
      }
     ]
    },
    "90d0a8d82399458bb47ced147ad04a9f": {
     "views": [
      {
       "cell_index": 23
      }
     ]
    },
    "90d5313d291943208285b41f36178718": {
     "views": [
      {
       "cell_index": 29
      }
     ]
    },
    "90f441869917427cadab07acf6bafe5e": {
     "views": [
      {
       "cell_index": 25
      }
     ]
    },
    "91176222cd9f4ec9afc4e3e358316669": {
     "views": [
      {
       "cell_index": 23
      }
     ]
    },
    "91e5b4c603a04a59bd1967b7af437280": {
     "views": [
      {
       "cell_index": 23
      }
     ]
    },
    "92519eb10219494e958bc7510e880aff": {
     "views": [
      {
       "cell_index": 25
      }
     ]
    },
    "92bd8bc25bd04ed9af2a486eee8bb77b": {
     "views": [
      {
       "cell_index": 29
      }
     ]
    },
    "92d349cd09584586a55539d024b74ea6": {
     "views": [
      {
       "cell_index": 29
      }
     ]
    },
    "92e4f4b166b74aa18e5c6be5a28fe802": {
     "views": [
      {
       "cell_index": 25
      }
     ]
    },
    "933c51f9036c4fc1ba0f8b7109348506": {
     "views": [
      {
       "cell_index": 25
      }
     ]
    },
    "9382ac37942640719c642e05a6915cdd": {
     "views": [
      {
       "cell_index": 23
      }
     ]
    },
    "9383803d139946b8999f74e4b62b59c6": {
     "views": [
      {
       "cell_index": 25
      }
     ]
    },
    "93b3728c17db4cd48a75baac5ca1da85": {
     "views": [
      {
       "cell_index": 29
      }
     ]
    },
    "93c5d3fd814542028f4d29fecc69782e": {
     "views": [
      {
       "cell_index": 20
      }
     ]
    },
    "93f06ecb66fa4d35978ad770bcfc62a9": {
     "views": [
      {
       "cell_index": 23
      }
     ]
    },
    "93fbb4f7d579468d969d5f67bfdd4a90": {
     "views": [
      {
       "cell_index": 23
      }
     ]
    },
    "941f7b42d5fe471d9eb9dfcbc2029795": {
     "views": [
      {
       "cell_index": 25
      }
     ]
    },
    "94ec2d9dddb44ee5b98fccf6928d3d5f": {
     "views": [
      {
       "cell_index": 23
      }
     ]
    },
    "950da6c4a3c14b3baa4e9706b7f3cc06": {
     "views": [
      {
       "cell_index": 25
      }
     ]
    },
    "950dae0c19dd47b8a0200d162c5c2ca4": {
     "views": [
      {
       "cell_index": 25
      }
     ]
    },
    "95e262043c5f4debbf6f8cdcf59204dd": {
     "views": [
      {
       "cell_index": 23
      }
     ]
    },
    "95ed911044204aa594751a571d033e5e": {
     "views": [
      {
       "cell_index": 23
      }
     ]
    },
    "9641f972faa2429cbc51dafc115efc73": {
     "views": [
      {
       "cell_index": 25
      }
     ]
    },
    "96458515b3cd44eda1c4cbd88385c1d5": {
     "views": [
      {
       "cell_index": 23
      }
     ]
    },
    "9689ce646ad54c32870fb532ce1b0336": {
     "views": [
      {
       "cell_index": 23
      }
     ]
    },
    "96bb02be5e6d43c3a729c13e62be5420": {
     "views": [
      {
       "cell_index": 23
      }
     ]
    },
    "96f02def9253442aac2627481f773895": {
     "views": [
      {
       "cell_index": 20
      }
     ]
    },
    "978e17154ce14cf88c2eef861b972297": {
     "views": [
      {
       "cell_index": 15
      }
     ]
    },
    "9795e685f350425989b9040167a5a591": {
     "views": [
      {
       "cell_index": 29
      }
     ]
    },
    "97c05d1a07b94e0d8062a406894bea91": {
     "views": [
      {
       "cell_index": 15
      }
     ]
    },
    "97d6698f2abc445c93b07efd0322c7d5": {
     "views": [
      {
       "cell_index": 25
      }
     ]
    },
    "98121c77f60942aebba09e8da5a0d698": {
     "views": [
      {
       "cell_index": 29
      }
     ]
    },
    "986e829c10b6442c852d7c0ee71df1e0": {
     "views": [
      {
       "cell_index": 23
      }
     ]
    },
    "9921946282f940b2b5b5027bf0b3d37f": {
     "views": [
      {
       "cell_index": 25
      }
     ]
    },
    "99360d74a2a647bc8999e431df70c895": {
     "views": [
      {
       "cell_index": 23
      }
     ]
    },
    "9a827170e14c4f06ae9b211ad2d2f790": {
     "views": [
      {
       "cell_index": 28
      }
     ]
    },
    "9ad945eb462244b3abdf95558b212f6d": {
     "views": [
      {
       "cell_index": 25
      }
     ]
    },
    "9b0dab3ecc3f445fb926b3558151dedc": {
     "views": [
      {
       "cell_index": 23
      }
     ]
    },
    "9b90ea0cc1944a2cb7428e8a3b3f8853": {
     "views": [
      {
       "cell_index": 23
      }
     ]
    },
    "9b9b332b3bfa4590a4a9655fd6c3bc41": {
     "views": [
      {
       "cell_index": 25
      }
     ]
    },
    "9bcfb0c8a3834c6091cda22c8ae67c5e": {
     "views": [
      {
       "cell_index": 23
      }
     ]
    },
    "9c10e77d7f0e432daf62c68a04103525": {
     "views": [
      {
       "cell_index": 29
      }
     ]
    },
    "9c1e4cc472d14ac8ad0c548bff34ee6c": {
     "views": [
      {
       "cell_index": 24
      }
     ]
    },
    "9c49e4ca58e849ccb46afe2c4ae92bbe": {
     "views": [
      {
       "cell_index": 15
      }
     ]
    },
    "9c833a6150644bf69ee9498037d8a86b": {
     "views": [
      {
       "cell_index": 25
      }
     ]
    },
    "9c8a5e9cc6de465bbb597419c2ba745b": {
     "views": [
      {
       "cell_index": 25
      }
     ]
    },
    "9cdcefaea1454ce0bd1ce942e0bdcb34": {
     "views": [
      {
       "cell_index": 27
      }
     ]
    },
    "9cf8c047d2a841799fb9e6f6d0df54e3": {
     "views": [
      {
       "cell_index": 25
      }
     ]
    },
    "9d5f962865f34b4aa9802a65747c286d": {
     "views": [
      {
       "cell_index": 23
      }
     ]
    },
    "9da419ead52649d5832658c8aacdf188": {
     "views": [
      {
       "cell_index": 23
      }
     ]
    },
    "9dadfb9dc12a42b680e9a9efebb024cc": {
     "views": [
      {
       "cell_index": 23
      }
     ]
    },
    "9db5db1c04aa4e298abf1055d9843769": {
     "views": [
      {
       "cell_index": 25
      }
     ]
    },
    "9de52b35e5ac4c9b924825169d780388": {
     "views": [
      {
       "cell_index": 25
      }
     ]
    },
    "9df6bb15954647a696ed93d98de1b99d": {
     "views": [
      {
       "cell_index": 23
      }
     ]
    },
    "9e10ea497c374c088c11f7e644753baa": {
     "views": [
      {
       "cell_index": 29
      }
     ]
    },
    "9e2c8f7842e34cd58c2d5b6346911865": {
     "views": [
      {
       "cell_index": 23
      }
     ]
    },
    "9e3bc5903df64e2eadfe8e9c3224492d": {
     "views": [
      {
       "cell_index": 23
      }
     ]
    },
    "9e6e688986c94f70bdce4d027098f66a": {
     "views": [
      {
       "cell_index": 25
      }
     ]
    },
    "9e8979cbf17a43fc90d12de4aa055c3d": {
     "views": [
      {
       "cell_index": 29
      }
     ]
    },
    "9ed36e2318a14081a6891a89bbc7d085": {
     "views": [
      {
       "cell_index": 24
      }
     ]
    },
    "9efc33881b42477ab663de62d428e1f0": {
     "views": [
      {
       "cell_index": 23
      }
     ]
    },
    "9f11c8a089474b7b88e34bfa39b1f470": {
     "views": [
      {
       "cell_index": 25
      }
     ]
    },
    "9f69c9832c734cfc9253debadaa93f61": {
     "views": [
      {
       "cell_index": 20
      }
     ]
    },
    "9fec1c2a1a2f447a80c60a38f9aba1ad": {
     "views": [
      {
       "cell_index": 25
      }
     ]
    },
    "a012be14f11d497e9bbe56ab10668c4b": {
     "views": [
      {
       "cell_index": 29
      }
     ]
    },
    "a03181d7e94e4c80b960263a5c79d171": {
     "views": [
      {
       "cell_index": 25
      }
     ]
    },
    "a0915e55381b46a18610518fd6df7ec6": {
     "views": [
      {
       "cell_index": 23
      }
     ]
    },
    "a0a5a04c1118401e9de8df947a6769bf": {
     "views": [
      {
       "cell_index": 23
      }
     ]
    },
    "a1790a4235fc4d42b4359b1338673a9e": {
     "views": [
      {
       "cell_index": 21
      }
     ]
    },
    "a18cc598f0a44a20984e5225b3e06f00": {
     "views": [
      {
       "cell_index": 23
      }
     ]
    },
    "a1aeed77cf4749bb8a23dde778c86ce7": {
     "views": [
      {
       "cell_index": 29
      }
     ]
    },
    "a21cd4b6cfc54d348f4e8d57146b6602": {
     "views": [
      {
       "cell_index": 29
      }
     ]
    },
    "a2210e0f99d14283bad8a7c2e2d61f9f": {
     "views": [
      {
       "cell_index": 19
      }
     ]
    },
    "a227db79fa354f1a95e565234a4ed03d": {
     "views": [
      {
       "cell_index": 25
      }
     ]
    },
    "a28f0892fdb3410fa72b982212994312": {
     "views": [
      {
       "cell_index": 23
      }
     ]
    },
    "a2ba5cdca09a447499b35b0a72775bb2": {
     "views": [
      {
       "cell_index": 25
      }
     ]
    },
    "a31ade6aaa3d4368ac95c367d607e4cf": {
     "views": [
      {
       "cell_index": 23
      }
     ]
    },
    "a33c7e7005454370984ee97d9b13bad3": {
     "views": [
      {
       "cell_index": 23
      }
     ]
    },
    "a34f17aba5364b6299e8deee08c09acb": {
     "views": [
      {
       "cell_index": 24
      }
     ]
    },
    "a355c70f73324dfc92f40c0930c429fb": {
     "views": [
      {
       "cell_index": 23
      }
     ]
    },
    "a3fd3aeaf2294bbda31b4aed1366e73e": {
     "views": [
      {
       "cell_index": 25
      }
     ]
    },
    "a4113f8061fc488090264d667ab7c22b": {
     "views": [
      {
       "cell_index": 29
      }
     ]
    },
    "a41e661257ad491c91f28e16b6ccc9c4": {
     "views": [
      {
       "cell_index": 23
      }
     ]
    },
    "a4336d35e5ce4c67af6a1045be1cf9d0": {
     "views": [
      {
       "cell_index": 23
      }
     ]
    },
    "a470a41028f542e5a7a11544ac5d922c": {
     "views": [
      {
       "cell_index": 23
      }
     ]
    },
    "a5623bb58ee645e286c1c925f5ac0d79": {
     "views": [
      {
       "cell_index": 23
      }
     ]
    },
    "a58496ed5fa547849168bcce170df58c": {
     "views": [
      {
       "cell_index": 23
      }
     ]
    },
    "a597d3c4a945445590546f4c595d38e5": {
     "views": [
      {
       "cell_index": 29
      }
     ]
    },
    "a5a7487d12af4f37a8e3da47256cac16": {
     "views": [
      {
       "cell_index": 25
      }
     ]
    },
    "a5c8496888d74aac9d45a06f752df583": {
     "views": [
      {
       "cell_index": 23
      }
     ]
    },
    "a5e1f8212b1c443293981486f5ef671e": {
     "views": [
      {
       "cell_index": 20
      }
     ]
    },
    "a6223343f91a4fd6a688083ed0d8e420": {
     "views": [
      {
       "cell_index": 23
      }
     ]
    },
    "a655baaab82348bebd3a0fbd25b4fe21": {
     "views": [
      {
       "cell_index": 25
      }
     ]
    },
    "a66ac5e2ff4f43c299e88c66d3ddca2e": {
     "views": [
      {
       "cell_index": 15
      }
     ]
    },
    "a6806433cd8540c8990a78dff811be49": {
     "views": [
      {
       "cell_index": 23
      }
     ]
    },
    "a698a50c785f4dbcb807e7331b441b84": {
     "views": [
      {
       "cell_index": 23
      }
     ]
    },
    "a6c6c16b8cbf466bb8145b2e86eccf37": {
     "views": [
      {
       "cell_index": 29
      }
     ]
    },
    "a6d2de038f3a434ab2786d17b60ae682": {
     "views": [
      {
       "cell_index": 27
      }
     ]
    },
    "a6d3a55ea0fd42d88acad803aea8e322": {
     "views": [
      {
       "cell_index": 25
      }
     ]
    },
    "a6d7288acc9b4bcfb190bf12646fa98c": {
     "views": [
      {
       "cell_index": 25
      }
     ]
    },
    "a6dbc1723bf34a289bb6c42d53ee1dae": {
     "views": [
      {
       "cell_index": 20
      }
     ]
    },
    "a78f6c1de39d442f8f2289a8a0eef788": {
     "views": [
      {
       "cell_index": 25
      }
     ]
    },
    "a7d492bf3919431188beca194b388505": {
     "views": [
      {
       "cell_index": 29
      }
     ]
    },
    "a8232beb911e49f2b26d6c1355d37b64": {
     "views": [
      {
       "cell_index": 25
      }
     ]
    },
    "a83b022fc1374f92a3484226b2600984": {
     "views": [
      {
       "cell_index": 23
      }
     ]
    },
    "a895bc1f46894888980a0b703867c867": {
     "views": [
      {
       "cell_index": 25
      }
     ]
    },
    "a89e486a960a4a72b7cb6497af068b9e": {
     "views": [
      {
       "cell_index": 23
      }
     ]
    },
    "a8a178b0d2d3409898cb89431488ff17": {
     "views": [
      {
       "cell_index": 25
      }
     ]
    },
    "a8e010d682764d22ac3b9861fda8c72a": {
     "views": [
      {
       "cell_index": 25
      }
     ]
    },
    "a91f18a5a9b94cc3ac3a525d61b574e9": {
     "views": [
      {
       "cell_index": 23
      }
     ]
    },
    "a93bc108b4a046f7b7fcc0557075dbef": {
     "views": [
      {
       "cell_index": 25
      }
     ]
    },
    "a943cf0ca5954c8abc7721bfe7da4793": {
     "views": [
      {
       "cell_index": 15
      }
     ]
    },
    "a98092f8a8c74b158396388bb9b3f3ab": {
     "views": [
      {
       "cell_index": 23
      }
     ]
    },
    "a9d71c4afd48482d8b544f65f9b943a5": {
     "views": [
      {
       "cell_index": 23
      }
     ]
    },
    "a9dee96225d24c6b99bce8dc06d947f2": {
     "views": [
      {
       "cell_index": 23
      }
     ]
    },
    "aa10ad55f4464a04a4c7a6d3f4f69217": {
     "views": [
      {
       "cell_index": 25
      }
     ]
    },
    "aa183165dbeb4899a2db6394a965ed97": {
     "views": [
      {
       "cell_index": 29
      }
     ]
    },
    "aa7a7d2253254904ac3b2776b833bb85": {
     "views": [
      {
       "cell_index": 23
      }
     ]
    },
    "aaaa09431c004c2f957c6672de7708e9": {
     "views": [
      {
       "cell_index": 23
      }
     ]
    },
    "aabf89b1930544c99dcf33e28a9ac856": {
     "views": [
      {
       "cell_index": 20
      }
     ]
    },
    "aac55feea09e412eafe5e8c4ead0b4ee": {
     "views": [
      {
       "cell_index": 23
      }
     ]
    },
    "abbafe5aa2814a05ba6f1f47f3aa4a0f": {
     "views": [
      {
       "cell_index": 25
      }
     ]
    },
    "ac4bab34cf1241c69244abce72240af0": {
     "views": [
      {
       "cell_index": 23
      }
     ]
    },
    "acd06326d5824ed6aa339786748ab81d": {
     "views": [
      {
       "cell_index": 23
      }
     ]
    },
    "ace06c3f9d734dd7a2ed346d7b18ea78": {
     "views": [
      {
       "cell_index": 23
      }
     ]
    },
    "acfb4b6d24884d5aba5ff0adfcc586d8": {
     "views": [
      {
       "cell_index": 23
      }
     ]
    },
    "ad19c0fd0c4b446b85c0467038039d9c": {
     "views": [
      {
       "cell_index": 25
      }
     ]
    },
    "ad447bedb0de4cd1b6d65868d163aae8": {
     "views": [
      {
       "cell_index": 25
      }
     ]
    },
    "adb59ac43f624fd89ffa94b452032196": {
     "views": [
      {
       "cell_index": 20
      }
     ]
    },
    "aec5bf9e523a4631af79f68a9ee44c0e": {
     "views": [
      {
       "cell_index": 25
      }
     ]
    },
    "aee326e676a74c128f480bdfebe75fd5": {
     "views": [
      {
       "cell_index": 23
      }
     ]
    },
    "af2269c2aebe4bb3ad4fd2a84e3a2ea6": {
     "views": [
      {
       "cell_index": 29
      }
     ]
    },
    "af300f2fb2a248ce88a7e59793320bee": {
     "views": [
      {
       "cell_index": 25
      }
     ]
    },
    "af32553f32b34ffa8ee94b6dcdd1a13a": {
     "views": [
      {
       "cell_index": 25
      }
     ]
    },
    "af89a861423b434097c6f6ea73a61fde": {
     "views": [
      {
       "cell_index": 25
      }
     ]
    },
    "af8dc86b6df2442a855483cfbd893a19": {
     "views": [
      {
       "cell_index": 23
      }
     ]
    },
    "b00d77bfebf04ebba01bda0d628287ba": {
     "views": [
      {
       "cell_index": 23
      }
     ]
    },
    "b08b6a9b3fed4359815ceafaccdbb7e2": {
     "views": [
      {
       "cell_index": 25
      }
     ]
    },
    "b09a879bfc5e489d93172d57e106a46e": {
     "views": [
      {
       "cell_index": 29
      }
     ]
    },
    "b0a3b82be57a47bbbc7cf6da953b1e71": {
     "views": [
      {
       "cell_index": 25
      }
     ]
    },
    "b0cee067320142b0806c261a45732592": {
     "views": [
      {
       "cell_index": 25
      }
     ]
    },
    "b0f87a8db95f485d9e047cd9a5ec4c07": {
     "views": [
      {
       "cell_index": 25
      }
     ]
    },
    "b11717ebb8ec41fb8cd99e56bbc11721": {
     "views": [
      {
       "cell_index": 23
      }
     ]
    },
    "b1289dfebcb94ff08b6b520a3583a7fd": {
     "views": [
      {
       "cell_index": 20
      }
     ]
    },
    "b155818cf45e416fb63907f559f9be95": {
     "views": [
      {
       "cell_index": 23
      }
     ]
    },
    "b16c1878dfea49398e3d3fe683adf4c0": {
     "views": [
      {
       "cell_index": 23
      }
     ]
    },
    "b2024adde0364d9689b27600ce001bba": {
     "views": [
      {
       "cell_index": 25
      }
     ]
    },
    "b25696510e3e428b903bd6d506110936": {
     "views": [
      {
       "cell_index": 23
      }
     ]
    },
    "b280c811ff6b4b648c4f18588d9ccd58": {
     "views": [
      {
       "cell_index": 29
      }
     ]
    },
    "b29658c7f0f9414eb1ed5db78dc9a13e": {
     "views": [
      {
       "cell_index": 25
      }
     ]
    },
    "b2aff59cf255413eb2426be553b3076e": {
     "views": [
      {
       "cell_index": 24
      }
     ]
    },
    "b2b9ac36d6634d7ba0ed447e3c59a3fd": {
     "views": [
      {
       "cell_index": 21
      }
     ]
    },
    "b33ac52537e3420eafe5b8ee593a514f": {
     "views": [
      {
       "cell_index": 29
      }
     ]
    },
    "b355c39f3b264cd5a095886346c3e123": {
     "views": [
      {
       "cell_index": 29
      }
     ]
    },
    "b35d8db2278a46fe8228017916404996": {
     "views": [
      {
       "cell_index": 29
      }
     ]
    },
    "b382e20d6ad04251ab1dd760a2a28cd6": {
     "views": [
      {
       "cell_index": 25
      }
     ]
    },
    "b4135aa24572409eac0c69efd5bc35cb": {
     "views": [
      {
       "cell_index": 25
      }
     ]
    },
    "b41444c8e7044b00b2d143e9beaf1aec": {
     "views": [
      {
       "cell_index": 23
      }
     ]
    },
    "b418f64fbf9c451db82a70684ecad3e2": {
     "views": [
      {
       "cell_index": 15
      }
     ]
    },
    "b422a2ff2f77441182a8bce6ef5fd675": {
     "views": [
      {
       "cell_index": 23
      }
     ]
    },
    "b4513afadfed4cb4843c96a4e84c3143": {
     "views": [
      {
       "cell_index": 23
      }
     ]
    },
    "b46ae4a18c0e43bca703339758bfb417": {
     "views": [
      {
       "cell_index": 25
      }
     ]
    },
    "b47361c7b01b43189b64e90bb8cd0fa7": {
     "views": [
      {
       "cell_index": 23
      }
     ]
    },
    "b4943193cc474636b424a6e6f069cee0": {
     "views": [
      {
       "cell_index": 23
      }
     ]
    },
    "b49bdcc60507413eadf18d36fcc44cd3": {
     "views": [
      {
       "cell_index": 23
      }
     ]
    },
    "b4af052e6e5e43da8b996fec0e3957f8": {
     "views": [
      {
       "cell_index": 21
      }
     ]
    },
    "b53984a45df348a4b2f34e14f0160d00": {
     "views": [
      {
       "cell_index": 25
      }
     ]
    },
    "b5726277329042e990d3546f26a3ba54": {
     "views": [
      {
       "cell_index": 29
      }
     ]
    },
    "b5859b46c75948f49645353373110532": {
     "views": [
      {
       "cell_index": 25
      }
     ]
    },
    "b5a6204ea1084d08bced4b4ed36b1638": {
     "views": [
      {
       "cell_index": 20
      }
     ]
    },
    "b61cefcb0fa94dd48064c69d3f545b2f": {
     "views": [
      {
       "cell_index": 20
      }
     ]
    },
    "b66d209f78764ff1928c61e1a8a28b92": {
     "views": [
      {
       "cell_index": 23
      }
     ]
    },
    "b68cd094651049f886003203d4d705ff": {
     "views": [
      {
       "cell_index": 25
      }
     ]
    },
    "b6b8fa981d854b6482ba19a10a8e2c28": {
     "views": [
      {
       "cell_index": 25
      }
     ]
    },
    "b6dbabba11014d2496f4e23adf43e465": {
     "views": [
      {
       "cell_index": 25
      }
     ]
    },
    "b753eacb012246c2b2a94702ddb554f4": {
     "views": [
      {
       "cell_index": 23
      }
     ]
    },
    "b76246abae754d5fa0b854a6330ec76a": {
     "views": [
      {
       "cell_index": 23
      }
     ]
    },
    "b7a5c9d6299144bd9879baf8029dd25e": {
     "views": [
      {
       "cell_index": 23
      }
     ]
    },
    "b7a97886c97646e7a086d75880972684": {
     "views": [
      {
       "cell_index": 23
      }
     ]
    },
    "b7e2c0842eab4a80b02d9cf4699920b5": {
     "views": [
      {
       "cell_index": 25
      }
     ]
    },
    "b8162c252a4a40d8a1ca282f901c36e2": {
     "views": [
      {
       "cell_index": 23
      }
     ]
    },
    "b8252252b1134735b18c64f3b1e4e293": {
     "views": [
      {
       "cell_index": 25
      }
     ]
    },
    "b830b914b14a4ffc82dec60f8e002ac4": {
     "views": [
      {
       "cell_index": 23
      }
     ]
    },
    "b877cf294f9f4ad399443acfedd6b079": {
     "views": [
      {
       "cell_index": 25
      }
     ]
    },
    "b8b406aa2f304acda5b4455d92125c6f": {
     "views": [
      {
       "cell_index": 23
      }
     ]
    },
    "b93065cb41134e81a134abc5d3a7dddf": {
     "views": [
      {
       "cell_index": 25
      }
     ]
    },
    "b96ab190062a4c119528af88eb42cd45": {
     "views": [
      {
       "cell_index": 23
      }
     ]
    },
    "b96f4e1c8e3849e3bbe29cffd65ad650": {
     "views": [
      {
       "cell_index": 23
      }
     ]
    },
    "b9b163dce9f5436c874f81478b900304": {
     "views": [
      {
       "cell_index": 25
      }
     ]
    },
    "b9b6f133ce194862a3ec318a71cea3b2": {
     "views": [
      {
       "cell_index": 23
      }
     ]
    },
    "ba40c84d208847778dce0971be492565": {
     "views": [
      {
       "cell_index": 29
      }
     ]
    },
    "ba80b569f7b74fb6a07246f48cd21bdb": {
     "views": [
      {
       "cell_index": 25
      }
     ]
    },
    "ba9aa62a287b433cb42645f1f6f1b553": {
     "views": [
      {
       "cell_index": 23
      }
     ]
    },
    "babf3cb1169e4e7093d34acc22284d67": {
     "views": [
      {
       "cell_index": 25
      }
     ]
    },
    "bacb405b92394500a9dda7534494d02c": {
     "views": [
      {
       "cell_index": 25
      }
     ]
    },
    "bad78be4798b41d2b4f5672b27971320": {
     "views": [
      {
       "cell_index": 23
      }
     ]
    },
    "bae1368fe24342deb510ba80fcb53a36": {
     "views": [
      {
       "cell_index": 25
      }
     ]
    },
    "bb0ca9c01ff04409b64cb79e97c7d244": {
     "views": [
      {
       "cell_index": 25
      }
     ]
    },
    "bb924f7c241643d2ad81ca408da84407": {
     "views": [
      {
       "cell_index": 23
      }
     ]
    },
    "bb9ebffffa1c47899c0bf53107cb430a": {
     "views": [
      {
       "cell_index": 23
      }
     ]
    },
    "bbb07c4ccdd34a868125adc5c33b2b17": {
     "views": [
      {
       "cell_index": 29
      }
     ]
    },
    "bbb5ffa922254ca6be12e11987a5129e": {
     "views": [
      {
       "cell_index": 25
      }
     ]
    },
    "bbc10862f9224bf8bef5963580be5599": {
     "views": [
      {
       "cell_index": 22
      }
     ]
    },
    "bbef9706c3c046e8bb581fd8e91d25cc": {
     "views": [
      {
       "cell_index": 25
      }
     ]
    },
    "bc1c3ee4e71a40d1ba6a4e9120cd7b68": {
     "views": [
      {
       "cell_index": 20
      }
     ]
    },
    "bc4a05e6f4be417e822ee81e94149fc4": {
     "views": [
      {
       "cell_index": 25
      }
     ]
    },
    "bc915f9bd2904de8a1d7f8ef0ef9eb2b": {
     "views": [
      {
       "cell_index": 23
      }
     ]
    },
    "bd741473eb0042fe851c789e156d3da1": {
     "views": [
      {
       "cell_index": 25
      }
     ]
    },
    "bdf3dac3cc8d4a4998ffd2a91599aaaf": {
     "views": [
      {
       "cell_index": 23
      }
     ]
    },
    "bdfd95117b59472daced3205ce2aa9d8": {
     "views": [
      {
       "cell_index": 25
      }
     ]
    },
    "be1ecc0157d94312a592cc6153cb9531": {
     "views": [
      {
       "cell_index": 22
      }
     ]
    },
    "be252d3bb76f406c8237bb33dcfa36ac": {
     "views": [
      {
       "cell_index": 23
      }
     ]
    },
    "be60d604f5b043bbbfb91f897037ca2a": {
     "views": [
      {
       "cell_index": 23
      }
     ]
    },
    "bed9551f408c4318bbad0d36f855c67e": {
     "views": [
      {
       "cell_index": 23
      }
     ]
    },
    "bfd6ca781d4c448b9489f326bf6d858c": {
     "views": [
      {
       "cell_index": 29
      }
     ]
    },
    "bfdb5a87e30d4e158610e8ca46aab1ea": {
     "views": [
      {
       "cell_index": 20
      }
     ]
    },
    "bfeda7a3c3c94a3fa89ab13a18343698": {
     "views": [
      {
       "cell_index": 23
      }
     ]
    },
    "c011bd0951ee4b4d8e688e784fa532ca": {
     "views": [
      {
       "cell_index": 23
      }
     ]
    },
    "c0861ec96a4b4601b53d0b06d0890e7b": {
     "views": [
      {
       "cell_index": 23
      }
     ]
    },
    "c0dadae29a024522bbba871f0edb7015": {
     "views": [
      {
       "cell_index": 27
      }
     ]
    },
    "c0ef481c40744085840322f05a3af9a1": {
     "views": [
      {
       "cell_index": 23
      }
     ]
    },
    "c114b713a25e4de980cfa24bf8f8653a": {
     "views": [
      {
       "cell_index": 23
      }
     ]
    },
    "c264fd2aa85543888ca1317ac464ffd6": {
     "views": [
      {
       "cell_index": 25
      }
     ]
    },
    "c2e6720afe614104a821d7e8d77f9326": {
     "views": [
      {
       "cell_index": 25
      }
     ]
    },
    "c2ec81a1e89848438f6ecd98d5c673f3": {
     "views": [
      {
       "cell_index": 23
      }
     ]
    },
    "c2f3bc960127494692e74b97d53b3170": {
     "views": [
      {
       "cell_index": 25
      }
     ]
    },
    "c3359f5411d84002bbde28bd314d8a91": {
     "views": [
      {
       "cell_index": 23
      }
     ]
    },
    "c33e57e13440496ea6870e926029809c": {
     "views": [
      {
       "cell_index": 23
      }
     ]
    },
    "c3643d91038849498b9c1652273876f0": {
     "views": [
      {
       "cell_index": 23
      }
     ]
    },
    "c368f656a2fb4f7896f53faeac36150a": {
     "views": [
      {
       "cell_index": 29
      }
     ]
    },
    "c37edea750b0478cb5db4dc528d33c7d": {
     "views": [
      {
       "cell_index": 22
      }
     ]
    },
    "c39e3948ebdb426fb4543414d4e01565": {
     "views": [
      {
       "cell_index": 20
      }
     ]
    },
    "c3b2a4f1a089427abdb7691ad61147ab": {
     "views": [
      {
       "cell_index": 15
      }
     ]
    },
    "c3faf2cf57cb4c4b9ccb132abcb34f15": {
     "views": [
      {
       "cell_index": 21
      }
     ]
    },
    "c4937d9d114347069a02c6d92fa84af9": {
     "views": [
      {
       "cell_index": 23
      }
     ]
    },
    "c59b707dbcc44450b1277771a2c0f1eb": {
     "views": [
      {
       "cell_index": 29
      }
     ]
    },
    "c5d567f7a90e4b789f77c78f978011e1": {
     "views": [
      {
       "cell_index": 23
      }
     ]
    },
    "c5e6a2cae64a405cba8b7830aa24b33f": {
     "views": [
      {
       "cell_index": 25
      }
     ]
    },
    "c5f64f41c03846e3b793fc51b5d24928": {
     "views": [
      {
       "cell_index": 23
      }
     ]
    },
    "c6a5646f3eac495abaaf1fb2b318cb5e": {
     "views": [
      {
       "cell_index": 23
      }
     ]
    },
    "c7312b92f56447059f8e04bb1384194c": {
     "views": [
      {
       "cell_index": 23
      }
     ]
    },
    "c74065c498cd43d79a7cefe5d7cb6953": {
     "views": [
      {
       "cell_index": 23
      }
     ]
    },
    "c7722594108f4aee9de3a33fbe2c10df": {
     "views": [
      {
       "cell_index": 29
      }
     ]
    },
    "c7b5d52e7c9a48b59f45636afb70a6bf": {
     "views": [
      {
       "cell_index": 23
      }
     ]
    },
    "c7ce92727e9e4968b582b55a734af1a8": {
     "views": [
      {
       "cell_index": 25
      }
     ]
    },
    "c83e3deaa48b483f9f65389125c1bcab": {
     "views": [
      {
       "cell_index": 20
      }
     ]
    },
    "c84b1fafe1ba43da956d3401ea2c3b68": {
     "views": [
      {
       "cell_index": 25
      }
     ]
    },
    "c85a91bdf8024357ad44c8d97fdf4fd9": {
     "views": [
      {
       "cell_index": 29
      }
     ]
    },
    "c9b3f8a3527a4765bb651dbe72dff7f0": {
     "views": [
      {
       "cell_index": 23
      }
     ]
    },
    "c9fc01780d024a9284840aad1815a9b6": {
     "views": [
      {
       "cell_index": 25
      }
     ]
    },
    "ca1a843ec05c4a0996983ed0b04ec2ba": {
     "views": [
      {
       "cell_index": 25
      }
     ]
    },
    "ca2db65ff77944ca834ecacde43a2602": {
     "views": [
      {
       "cell_index": 23
      }
     ]
    },
    "ca33293883c741e4ab639889437096eb": {
     "views": [
      {
       "cell_index": 25
      }
     ]
    },
    "ca6b02519a714dac90c490fd5b227d0c": {
     "views": [
      {
       "cell_index": 29
      }
     ]
    },
    "caf63688521c49dba493bc3fad4166e5": {
     "views": [
      {
       "cell_index": 23
      }
     ]
    },
    "cb0229d35dc14da8bda75e45c92ddd6f": {
     "views": [
      {
       "cell_index": 29
      }
     ]
    },
    "cb6f73c3b83c4e65868752379a5855fd": {
     "views": [
      {
       "cell_index": 23
      }
     ]
    },
    "cbf2e822fda241488c16777a2bd445b9": {
     "views": [
      {
       "cell_index": 23
      }
     ]
    },
    "cc68ab9aa140486d84ec31af80d19c0c": {
     "views": [
      {
       "cell_index": 25
      }
     ]
    },
    "cc80a3e87993470eab13919339d0c4b6": {
     "views": [
      {
       "cell_index": 25
      }
     ]
    },
    "cc9773ef95824dfd9d58eebd6508bfb5": {
     "views": [
      {
       "cell_index": 23
      }
     ]
    },
    "cca076b398424adf9f8d056d74014ff3": {
     "views": [
      {
       "cell_index": 25
      }
     ]
    },
    "cd8e2476b841475799e0d496092565c5": {
     "views": [
      {
       "cell_index": 23
      }
     ]
    },
    "cdbd319a9b8a4cc78d75894cdce2d685": {
     "views": [
      {
       "cell_index": 23
      }
     ]
    },
    "ce0457a3f3c94bc383614ddcff31d208": {
     "views": [
      {
       "cell_index": 23
      }
     ]
    },
    "ce0e46b20ecb42c09472fc078ac3f57e": {
     "views": [
      {
       "cell_index": 27
      }
     ]
    },
    "ce39d1233ef94bcf91097a532f2c4947": {
     "views": [
      {
       "cell_index": 23
      }
     ]
    },
    "cf1d21cdb731406ea3cb7227570a419d": {
     "views": [
      {
       "cell_index": 23
      }
     ]
    },
    "cf22470fd92a423d996e9558d7429be7": {
     "views": [
      {
       "cell_index": 20
      }
     ]
    },
    "cf32c19d9f9840a5b071d74292a06b41": {
     "views": [
      {
       "cell_index": 29
      }
     ]
    },
    "cf573b21756e4e07a1b9010fecc2e99e": {
     "views": [
      {
       "cell_index": 23
      }
     ]
    },
    "d0bef4ab958e4266b33ee1bf1f29369b": {
     "views": [
      {
       "cell_index": 25
      }
     ]
    },
    "d16a56589ef943dab1995c0227d143a9": {
     "views": [
      {
       "cell_index": 25
      }
     ]
    },
    "d173b98bead143c7a3bf138bfd360212": {
     "views": [
      {
       "cell_index": 23
      }
     ]
    },
    "d1af33c35aba418c9dcfb38fd1acab32": {
     "views": [
      {
       "cell_index": 23
      }
     ]
    },
    "d1e70f8e002941fbbf2343244e236a6a": {
     "views": [
      {
       "cell_index": 23
      }
     ]
    },
    "d2a22a6d98ee4882abd6492c630d43d8": {
     "views": [
      {
       "cell_index": 23
      }
     ]
    },
    "d2df1077c1034255a21cc1cee5bb8783": {
     "views": [
      {
       "cell_index": 21
      }
     ]
    },
    "d345bd48ecd4402c80351c4283b09db2": {
     "views": [
      {
       "cell_index": 23
      }
     ]
    },
    "d3690c481d864d5ca0e94f912dd03e5d": {
     "views": [
      {
       "cell_index": 23
      }
     ]
    },
    "d385bc77de564a2886b1a244b0244cf0": {
     "views": [
      {
       "cell_index": 29
      }
     ]
    },
    "d3b36eba6ac9446e98b8c2eaaa5a3780": {
     "views": [
      {
       "cell_index": 25
      }
     ]
    },
    "d409e9b471cc4845b8e7dc83d5527b41": {
     "views": [
      {
       "cell_index": 25
      }
     ]
    },
    "d44041e6c0b34f40bf02e7544f80918e": {
     "views": [
      {
       "cell_index": 23
      }
     ]
    },
    "d4463a1a261e4e909d96179564ee58cc": {
     "views": [
      {
       "cell_index": 25
      }
     ]
    },
    "d4932bd85d694c74b330c14674e0d252": {
     "views": [
      {
       "cell_index": 25
      }
     ]
    },
    "d4b80cf9d6d146c495caa74b005ba516": {
     "views": [
      {
       "cell_index": 25
      }
     ]
    },
    "d4ecc4f14aaa48a09a21962fe30563e3": {
     "views": [
      {
       "cell_index": 25
      }
     ]
    },
    "d55fec246b984f8fa50490cdf5ac6c3a": {
     "views": [
      {
       "cell_index": 20
      }
     ]
    },
    "d5699513a1c440d9881a2851029ea409": {
     "views": [
      {
       "cell_index": 25
      }
     ]
    },
    "d570ad8fc6474b888494a1b032755404": {
     "views": [
      {
       "cell_index": 23
      }
     ]
    },
    "d574c2e5f1224ef088c2a706d3efd9ed": {
     "views": [
      {
       "cell_index": 23
      }
     ]
    },
    "d57969aefa2f4faa9ff05fe629177b87": {
     "views": [
      {
       "cell_index": 29
      }
     ]
    },
    "d60537ccd50a48e390a84646a6993f81": {
     "views": [
      {
       "cell_index": 29
      }
     ]
    },
    "d69bce1fead542e9a732827129c8c5cd": {
     "views": [
      {
       "cell_index": 15
      }
     ]
    },
    "d6e37803ed81464db3c25a5c129f890c": {
     "views": [
      {
       "cell_index": 23
      }
     ]
    },
    "d73161f59da74073a2a20e379a66cf44": {
     "views": [
      {
       "cell_index": 25
      }
     ]
    },
    "d7360858c224432da98da6b24d19b5f7": {
     "views": [
      {
       "cell_index": 23
      }
     ]
    },
    "d73cb6b3c1a14e85bbd4170ba68deb91": {
     "views": [
      {
       "cell_index": 23
      }
     ]
    },
    "d74c008c2ea144898a7c62cc55c56a0b": {
     "views": [
      {
       "cell_index": 29
      }
     ]
    },
    "d7ba81a5711f4944b66f04b47dc053ff": {
     "views": [
      {
       "cell_index": 23
      }
     ]
    },
    "d7c85e8cebda4e77af33b1709a4c7c3b": {
     "views": [
      {
       "cell_index": 25
      }
     ]
    },
    "d7f231cdad0645cc9b280b087651c3f6": {
     "views": [
      {
       "cell_index": 25
      }
     ]
    },
    "d88ba61e5a8a46bf877ee3fff25cb3de": {
     "views": [
      {
       "cell_index": 25
      }
     ]
    },
    "d8a01ce61f954f26b39e567b0c5045ee": {
     "views": [
      {
       "cell_index": 25
      }
     ]
    },
    "d9016e48b41f42a29a42a784d1730ed8": {
     "views": [
      {
       "cell_index": 23
      }
     ]
    },
    "d90c0babae0647d3bc82952886a88dbd": {
     "views": [
      {
       "cell_index": 25
      }
     ]
    },
    "d945a98524b840e5a293a6440cb6b06f": {
     "views": [
      {
       "cell_index": 23
      }
     ]
    },
    "d97deec5a240470980c38ac1713447ae": {
     "views": [
      {
       "cell_index": 23
      }
     ]
    },
    "d9b44076fadd409f95c3768f749790af": {
     "views": [
      {
       "cell_index": 23
      }
     ]
    },
    "d9d86a55694641ed9285334b148440a7": {
     "views": [
      {
       "cell_index": 27
      }
     ]
    },
    "d9de4525ca2948718520738bd0edb5c0": {
     "views": [
      {
       "cell_index": 25
      }
     ]
    },
    "d9e6add9968d4b2fa14d247086d49113": {
     "views": [
      {
       "cell_index": 23
      }
     ]
    },
    "da66b740bfa04515b07897ab4b5f9f77": {
     "views": [
      {
       "cell_index": 23
      }
     ]
    },
    "da7125babb0048ba9491c5904bd33e04": {
     "views": [
      {
       "cell_index": 29
      }
     ]
    },
    "da767f496c894c4bab437da87bfd5f6d": {
     "views": [
      {
       "cell_index": 20
      }
     ]
    },
    "daaf31e0462e42588bcece77bc5b0d65": {
     "views": [
      {
       "cell_index": 29
      }
     ]
    },
    "dabb372a11464fb79b382e68fa70f932": {
     "views": [
      {
       "cell_index": 25
      }
     ]
    },
    "db950d39373642c289099275f1635b5c": {
     "views": [
      {
       "cell_index": 15
      }
     ]
    },
    "dbb0de20472b417c976b723eb4b3e425": {
     "views": [
      {
       "cell_index": 25
      }
     ]
    },
    "dbb574c4fa30457d848dd26c96060eed": {
     "views": [
      {
       "cell_index": 25
      }
     ]
    },
    "dbbb7d4ee3f84c628cad55d96c5b8a5e": {
     "views": [
      {
       "cell_index": 25
      }
     ]
    },
    "dbed79fe6ae845769d1b39f5168450d1": {
     "views": [
      {
       "cell_index": 23
      }
     ]
    },
    "dbf0b297d659446ca6e0fb91a1d56fb3": {
     "views": [
      {
       "cell_index": 23
      }
     ]
    },
    "dbf16821c228488ebaa79bcdb8f63ba9": {
     "views": [
      {
       "cell_index": 23
      }
     ]
    },
    "dc01a1d2a165468a88538521a9d06c07": {
     "views": [
      {
       "cell_index": 25
      }
     ]
    },
    "dc50832617e2482a940a57f6f50d5606": {
     "views": [
      {
       "cell_index": 29
      }
     ]
    },
    "dc765e2a62af4109a186c8423c10768f": {
     "views": [
      {
       "cell_index": 25
      }
     ]
    },
    "dca37636fd354f23bf03c649eb821a98": {
     "views": [
      {
       "cell_index": 25
      }
     ]
    },
    "dcb226732de447acaad4739f1b79eb24": {
     "views": [
      {
       "cell_index": 20
      }
     ]
    },
    "dcbe4834987342bf84388f87c0a9c336": {
     "views": [
      {
       "cell_index": 23
      }
     ]
    },
    "ddc4caadb9874f18a33fcb6f14fffcd7": {
     "views": [
      {
       "cell_index": 23
      }
     ]
    },
    "de29a7dcb95d40b0a4d4963868ff4af2": {
     "views": [
      {
       "cell_index": 27
      }
     ]
    },
    "de635398253246da9e7f5919bdc88ede": {
     "views": [
      {
       "cell_index": 23
      }
     ]
    },
    "de6599bc08da48e8a825f72cdbac88b6": {
     "views": [
      {
       "cell_index": 29
      }
     ]
    },
    "de8d9289be2d48968378cd700b1e327b": {
     "views": [
      {
       "cell_index": 25
      }
     ]
    },
    "de928dc70ea8416b9bafaf522eb7e584": {
     "views": [
      {
       "cell_index": 20
      }
     ]
    },
    "debc75d8b49a499ba13d19ce65c4a858": {
     "views": [
      {
       "cell_index": 23
      }
     ]
    },
    "decdd1ffe9a0480c822f68a166467fe7": {
     "views": [
      {
       "cell_index": 21
      }
     ]
    },
    "df1defdad7e445a7b2db2d443523c847": {
     "views": [
      {
       "cell_index": 23
      }
     ]
    },
    "df82eb33ac0d4a8bac6e3f029ceb9674": {
     "views": [
      {
       "cell_index": 21
      }
     ]
    },
    "dfb4e1f9234a4696bb83cb5ed6d54ac9": {
     "views": [
      {
       "cell_index": 25
      }
     ]
    },
    "dffa06a8d1dc435d806a44d3dd1da6e9": {
     "views": [
      {
       "cell_index": 23
      }
     ]
    },
    "e0460fd6c7224d4bbf2a46f1d4032572": {
     "views": [
      {
       "cell_index": 29
      }
     ]
    },
    "e07ac1421c024ec9922aa3e13da29e9c": {
     "views": [
      {
       "cell_index": 23
      }
     ]
    },
    "e0b29ff5fa8143298fa3134cfbc904de": {
     "views": [
      {
       "cell_index": 29
      }
     ]
    },
    "e121d848ee064fe4b3a6b4ac670229d0": {
     "views": [
      {
       "cell_index": 25
      }
     ]
    },
    "e1378a4992fc40b08059a37dedf13684": {
     "views": [
      {
       "cell_index": 23
      }
     ]
    },
    "e1733843cbe047c9949a6b7bde471af2": {
     "views": [
      {
       "cell_index": 25
      }
     ]
    },
    "e1894e8f67c040c3a86246f833d6b02f": {
     "views": [
      {
       "cell_index": 23
      }
     ]
    },
    "e1b0f5e949984caca11068c8f3f5a262": {
     "views": [
      {
       "cell_index": 23
      }
     ]
    },
    "e1dfc80723e44ce5a11da44a412a5ec6": {
     "views": [
      {
       "cell_index": 25
      }
     ]
    },
    "e1e9db58561343128399a1874098131c": {
     "views": [
      {
       "cell_index": 29
      }
     ]
    },
    "e21c6bd89c1d43d1b0f7f25573ca647f": {
     "views": [
      {
       "cell_index": 23
      }
     ]
    },
    "e2206476bd4e4f1987e4b3b37799a626": {
     "views": [
      {
       "cell_index": 29
      }
     ]
    },
    "e27de90d6fab4bb7b824236d3dd9010f": {
     "views": [
      {
       "cell_index": 25
      }
     ]
    },
    "e2958b095d1b4644af278eaa776de9d0": {
     "views": [
      {
       "cell_index": 25
      }
     ]
    },
    "e2b6312049554276a78c5629aa6ee579": {
     "views": [
      {
       "cell_index": 23
      }
     ]
    },
    "e2e0536023a7422f9e9ff67b944206c8": {
     "views": [
      {
       "cell_index": 25
      }
     ]
    },
    "e3485c4fef33409ea814bce1771c4766": {
     "views": [
      {
       "cell_index": 25
      }
     ]
    },
    "e3a5a49d109040e483ea2f17ea7e0417": {
     "views": [
      {
       "cell_index": 29
      }
     ]
    },
    "e3cb8a7193124c85a024f3add2db135c": {
     "views": [
      {
       "cell_index": 25
      }
     ]
    },
    "e421afb730414946bf278fea26eb012d": {
     "views": [
      {
       "cell_index": 23
      }
     ]
    },
    "e440fe12cfe24884b72098daa3574a9d": {
     "views": [
      {
       "cell_index": 25
      }
     ]
    },
    "e4683a78c97d4bbcac1f16749d507f5d": {
     "views": [
      {
       "cell_index": 25
      }
     ]
    },
    "e46b05f9f57444f482d3c37e194ab731": {
     "views": [
      {
       "cell_index": 25
      }
     ]
    },
    "e4a5199952414ba990de6483df0fcef9": {
     "views": [
      {
       "cell_index": 28
      }
     ]
    },
    "e4e5552462a642028a6125e98cc5a799": {
     "views": [
      {
       "cell_index": 23
      }
     ]
    },
    "e512a36e31dd40abb9399a5185f38589": {
     "views": [
      {
       "cell_index": 23
      }
     ]
    },
    "e52b64a94438415480955ec79a2b1d0f": {
     "views": [
      {
       "cell_index": 23
      }
     ]
    },
    "e54a75f0f4444a108ff5e805618dff87": {
     "views": [
      {
       "cell_index": 25
      }
     ]
    },
    "e5b4066587fe476fa828d0e723ecf519": {
     "views": [
      {
       "cell_index": 23
      }
     ]
    },
    "e5de47f7a20b4cbf8464c79485224b02": {
     "views": [
      {
       "cell_index": 29
      }
     ]
    },
    "e5ec931b9fdf464fb73ceb089490fbd9": {
     "views": [
      {
       "cell_index": 23
      }
     ]
    },
    "e5ede32c770b434ead6c3aedc1d82d6a": {
     "views": [
      {
       "cell_index": 23
      }
     ]
    },
    "e64f7118a95249fda74060d75248b80c": {
     "views": [
      {
       "cell_index": 25
      }
     ]
    },
    "e743cd8faee54fedb6ab913ec7d6af36": {
     "views": [
      {
       "cell_index": 29
      }
     ]
    },
    "e770d3af80c5409a929fd29edc455676": {
     "views": [
      {
       "cell_index": 23
      }
     ]
    },
    "e77b87df7566437f86731ce41891ab16": {
     "views": [
      {
       "cell_index": 29
      }
     ]
    },
    "e78dd4e1b4dc4c17bacfba99575b426c": {
     "views": [
      {
       "cell_index": 20
      }
     ]
    },
    "e861c384cd5a447fbab385fa30de2cb2": {
     "views": [
      {
       "cell_index": 25
      }
     ]
    },
    "e862c03815fe4256a0fc0d3505e398ae": {
     "views": [
      {
       "cell_index": 23
      }
     ]
    },
    "e866e2f571d54668b082950acda7e1fb": {
     "views": [
      {
       "cell_index": 29
      }
     ]
    },
    "e8a9093bc04c4ad29a47b13083c43dc0": {
     "views": [
      {
       "cell_index": 25
      }
     ]
    },
    "e8b6b52116054c1387eec84c821b9b6c": {
     "views": [
      {
       "cell_index": 27
      }
     ]
    },
    "e9b93b629ad841b686bdde3ec1e9eeb8": {
     "views": [
      {
       "cell_index": 23
      }
     ]
    },
    "e9d980b52d7643eeae11572358353199": {
     "views": [
      {
       "cell_index": 25
      }
     ]
    },
    "ea228edebf004d999c36d3c548c34490": {
     "views": [
      {
       "cell_index": 25
      }
     ]
    },
    "ea3ae50f12c8432f965b027318f008fc": {
     "views": [
      {
       "cell_index": 25
      }
     ]
    },
    "ea5d4fbab96a4666ba81061759330e14": {
     "views": [
      {
       "cell_index": 21
      }
     ]
    },
    "ea82baad7cbc40f8984e0ba6660932ff": {
     "views": [
      {
       "cell_index": 23
      }
     ]
    },
    "ea8e875bfa3749eab88fd3babf78873d": {
     "views": [
      {
       "cell_index": 23
      }
     ]
    },
    "eba4a325bccc48e19e4adf9269459d27": {
     "views": [
      {
       "cell_index": 24
      }
     ]
    },
    "ebf7f379500d468a974939fbc9f7d912": {
     "views": [
      {
       "cell_index": 23
      }
     ]
    },
    "ec17579ac38a434289b3f3f31b570199": {
     "views": [
      {
       "cell_index": 29
      }
     ]
    },
    "ec1abe41414c46da9dc6c7fc258fd1ab": {
     "views": [
      {
       "cell_index": 25
      }
     ]
    },
    "ec638411f37c4fa78fd3c4232970ca41": {
     "views": [
      {
       "cell_index": 25
      }
     ]
    },
    "ec816cc967074ce5a41586211924c94c": {
     "views": [
      {
       "cell_index": 23
      }
     ]
    },
    "ec9291568f2a4a6abb9259468c5cc554": {
     "views": [
      {
       "cell_index": 23
      }
     ]
    },
    "ecbdf95a7e6f49d0a1ac2649320350d2": {
     "views": [
      {
       "cell_index": 23
      }
     ]
    },
    "ecd10414c2ce46549deb2a0ca81e4901": {
     "views": [
      {
       "cell_index": 23
      }
     ]
    },
    "ed33bdf5f47a4ffbb549927f66d60cda": {
     "views": [
      {
       "cell_index": 23
      }
     ]
    },
    "ed65155a64ef4f4c9ef1fa8e5e943da3": {
     "views": [
      {
       "cell_index": 23
      }
     ]
    },
    "ee13c43bc3fe4fbb8d6455f67ce62529": {
     "views": [
      {
       "cell_index": 27
      }
     ]
    },
    "ee27cc1c971d48d0b078ed7bfd2cf3f3": {
     "views": [
      {
       "cell_index": 22
      }
     ]
    },
    "eec2c4b0e3d14b7ba4dadfdf9f6227e3": {
     "views": [
      {
       "cell_index": 25
      }
     ]
    },
    "efad15184461406fad381e6c2ed684c2": {
     "views": [
      {
       "cell_index": 20
      }
     ]
    },
    "efc3599dc79d48fb9009c23d076e1586": {
     "views": [
      {
       "cell_index": 29
      }
     ]
    },
    "f076c85257bf4ec49ccc694b91a3fc94": {
     "views": [
      {
       "cell_index": 23
      }
     ]
    },
    "f0df1ff5cc554272b7a5128a519150e0": {
     "views": [
      {
       "cell_index": 21
      }
     ]
    },
    "f101317b4afe45a7a13f78bdc99e6c4d": {
     "views": [
      {
       "cell_index": 23
      }
     ]
    },
    "f10d188dbf874302b68d1327ccc9e54a": {
     "views": [
      {
       "cell_index": 23
      }
     ]
    },
    "f1259c70ddb14414911623b0fbe3963e": {
     "views": [
      {
       "cell_index": 25
      }
     ]
    },
    "f1523301d474445087478305c192cf89": {
     "views": [
      {
       "cell_index": 29
      }
     ]
    },
    "f1f35000867045deb1fddfa3286b0a59": {
     "views": [
      {
       "cell_index": 25
      }
     ]
    },
    "f21ded65995b4590b3235ab98a1fdf77": {
     "views": [
      {
       "cell_index": 25
      }
     ]
    },
    "f221c174737a477d91513987d576416b": {
     "views": [
      {
       "cell_index": 29
      }
     ]
    },
    "f2535953c9c54a99a3bf13944e7abeba": {
     "views": [
      {
       "cell_index": 23
      }
     ]
    },
    "f28c5a92042f4c67b29b7432d24b3fce": {
     "views": [
      {
       "cell_index": 23
      }
     ]
    },
    "f28cf8fa3ec047c59567670b062c2cdb": {
     "views": [
      {
       "cell_index": 25
      }
     ]
    },
    "f299eec45bf34730b3b4f38ccb62b6c8": {
     "views": [
      {
       "cell_index": 25
      }
     ]
    },
    "f2db15102e6e4ccd8c67ff5ec602fe1b": {
     "views": [
      {
       "cell_index": 27
      }
     ]
    },
    "f3101c5fa2634a31bf9d1699ebd25d3d": {
     "views": [
      {
       "cell_index": 23
      }
     ]
    },
    "f34c507078d54d4983ff716368ec254e": {
     "views": [
      {
       "cell_index": 25
      }
     ]
    },
    "f36aa14cd1164d778d97d65b24d25e8a": {
     "views": [
      {
       "cell_index": 20
      }
     ]
    },
    "f36c9624b3c24f82ad632e68b5f0abcd": {
     "views": [
      {
       "cell_index": 23
      }
     ]
    },
    "f39ef20d6c7646c6a89d73b2f571d9f8": {
     "views": [
      {
       "cell_index": 19
      }
     ]
    },
    "f3fa52b70e714894a0a9bfdc5a4aa5cd": {
     "views": [
      {
       "cell_index": 23
      }
     ]
    },
    "f40d9cc388a245bc989ea34b081ab02f": {
     "views": [
      {
       "cell_index": 23
      }
     ]
    },
    "f45130bf8ce7480bbe27371f3d73a82b": {
     "views": [
      {
       "cell_index": 25
      }
     ]
    },
    "f470f62cf9c7495eb1f8473d352b41d8": {
     "views": [
      {
       "cell_index": 23
      }
     ]
    },
    "f491666f490f4604a328e56ddd717bc5": {
     "views": [
      {
       "cell_index": 25
      }
     ]
    },
    "f4be6994d4a34a499157a65ab62f0fbf": {
     "views": [
      {
       "cell_index": 25
      }
     ]
    },
    "f5fe9ba520e64014b5323e8fe8641a81": {
     "views": [
      {
       "cell_index": 23
      }
     ]
    },
    "f603589c323a4068970103cbd5b931b5": {
     "views": [
      {
       "cell_index": 29
      }
     ]
    },
    "f641ba41656e430f958271b19b8a9001": {
     "views": [
      {
       "cell_index": 29
      }
     ]
    },
    "f6459bd46ebc48538ae860e4852e8d89": {
     "views": [
      {
       "cell_index": 20
      }
     ]
    },
    "f6482f9e78a046f3b3dcd254dc76d9bf": {
     "views": [
      {
       "cell_index": 25
      }
     ]
    },
    "f6d95c90244a40cebea027c21b0623d3": {
     "views": [
      {
       "cell_index": 25
      }
     ]
    },
    "f7025dbb34f8451096510262209cc308": {
     "views": [
      {
       "cell_index": 29
      }
     ]
    },
    "f7a2ed8d57e7430f9915aca4ab2aa25b": {
     "views": [
      {
       "cell_index": 25
      }
     ]
    },
    "f802df93f72145d4a79a4abc0f4600f1": {
     "views": [
      {
       "cell_index": 25
      }
     ]
    },
    "f80aa8e107dc4902b9d2f84315bd400d": {
     "views": [
      {
       "cell_index": 25
      }
     ]
    },
    "f817e0d2fcf24a609003e7dd1808c186": {
     "views": [
      {
       "cell_index": 29
      }
     ]
    },
    "f86979f07ac449348e0b1da1cba6a141": {
     "views": [
      {
       "cell_index": 23
      }
     ]
    },
    "f8a2d4e778b54f6b881395a73f9dc999": {
     "views": [
      {
       "cell_index": 25
      }
     ]
    },
    "f8a35a8652b74356b5e11c8f1ec74705": {
     "views": [
      {
       "cell_index": 21
      }
     ]
    },
    "f8ba66029c054c7d8b64d858603d3104": {
     "views": [
      {
       "cell_index": 24
      }
     ]
    },
    "f8e65c64a3934788a808f5d882aa8fa2": {
     "views": [
      {
       "cell_index": 25
      }
     ]
    },
    "f8ff663ec8234c629560a187ea38008b": {
     "views": [
      {
       "cell_index": 25
      }
     ]
    },
    "f90541abe0f24cd595691f550c425357": {
     "views": [
      {
       "cell_index": 27
      }
     ]
    },
    "f9825d6ac408454bab6defdeeacc9927": {
     "views": [
      {
       "cell_index": 25
      }
     ]
    },
    "f9b16a3da4b142b1bd4b0486ec41dd74": {
     "views": [
      {
       "cell_index": 23
      }
     ]
    },
    "fa1bcbab205d4546be932696168b1c0a": {
     "views": [
      {
       "cell_index": 23
      }
     ]
    },
    "fa41c43291344eda9f9b580ad73f8d33": {
     "views": [
      {
       "cell_index": 23
      }
     ]
    },
    "fa5ce344cba24d9785694a4192d5b3d7": {
     "views": [
      {
       "cell_index": 21
      }
     ]
    },
    "fa6f19d6753e47688679433514243073": {
     "views": [
      {
       "cell_index": 15
      }
     ]
    },
    "faaafefa5f5c408e8a25163397ec5ac7": {
     "views": [
      {
       "cell_index": 20
      }
     ]
    },
    "fabbc84e28d44c528ddb465de401d910": {
     "views": [
      {
       "cell_index": 21
      }
     ]
    },
    "faee8472723048538b56f91ad9349391": {
     "views": [
      {
       "cell_index": 23
      }
     ]
    },
    "fb0c4356536044b8a654080d7ad4006a": {
     "views": [
      {
       "cell_index": 20
      }
     ]
    },
    "fb112f3ff1974138904266595b1057cb": {
     "views": [
      {
       "cell_index": 23
      }
     ]
    },
    "fb51b34b4160493dba00c376af13363b": {
     "views": [
      {
       "cell_index": 25
      }
     ]
    },
    "fbc4473caa864181825556f17532f929": {
     "views": [
      {
       "cell_index": 23
      }
     ]
    },
    "fbe7635d8b11441eb38c545b835ac86a": {
     "views": [
      {
       "cell_index": 29
      }
     ]
    },
    "fbffd2496d474cd1a1e171fd616d257c": {
     "views": [
      {
       "cell_index": 25
      }
     ]
    },
    "fc18f81f5fe8406fbccc8bd8acc87e14": {
     "views": [
      {
       "cell_index": 23
      }
     ]
    },
    "fc1f6dc602d74463ba320cb893b24be9": {
     "views": [
      {
       "cell_index": 23
      }
     ]
    },
    "fc26bfea08c64ac18d80f07f9a8da265": {
     "views": [
      {
       "cell_index": 29
      }
     ]
    },
    "fc71ec29cdab48d6b9c289e4674be497": {
     "views": [
      {
       "cell_index": 27
      }
     ]
    },
    "fd1c5519721f4497bd1bc03ca4c4f57b": {
     "views": [
      {
       "cell_index": 29
      }
     ]
    },
    "fd2f656d20054eba98302e303f3fd647": {
     "views": [
      {
       "cell_index": 23
      }
     ]
    },
    "fd4e144939404c32a248f719d0977e1b": {
     "views": [
      {
       "cell_index": 23
      }
     ]
    },
    "fd832ac9c66848b3b564b6b77e44462b": {
     "views": [
      {
       "cell_index": 23
      }
     ]
    },
    "fd84d5621e564889a82f9504b1ff913a": {
     "views": [
      {
       "cell_index": 23
      }
     ]
    },
    "fd97a74de3e1404c93db404c4fbc57e9": {
     "views": [
      {
       "cell_index": 23
      }
     ]
    },
    "fdbc43b2b4644d53b9db587175d328db": {
     "views": [
      {
       "cell_index": 20
      }
     ]
    },
    "fdd98693a5a34187a22d3161af2b6b8b": {
     "views": [
      {
       "cell_index": 23
      }
     ]
    },
    "fde18d7ef9cc40de8998447069d394ac": {
     "views": [
      {
       "cell_index": 29
      }
     ]
    },
    "fe0a6f3269464c1f9305aabb43ce24f3": {
     "views": [
      {
       "cell_index": 23
      }
     ]
    },
    "fe1f9b73f1b84e4aa175d62f22ffac3e": {
     "views": [
      {
       "cell_index": 23
      }
     ]
    },
    "fecc52d144b54a61986858939b319e14": {
     "views": [
      {
       "cell_index": 29
      }
     ]
    },
    "fed4f9817c084fc58957f0fbc7a2afa8": {
     "views": [
      {
       "cell_index": 23
      }
     ]
    },
    "fedaa8b166bc4f29aa8a9d96d76a1dc0": {
     "views": [
      {
       "cell_index": 25
      }
     ]
    },
    "ff44ed6e6fce463699633a13eda2c282": {
     "views": [
      {
       "cell_index": 23
      }
     ]
    },
    "ff4d86d148e34ae48d4b33f9bf6558ef": {
     "views": [
      {
       "cell_index": 23
      }
     ]
    },
    "ff618903712d4dcfb84e101c521a048e": {
     "views": [
      {
       "cell_index": 25
      }
     ]
    },
    "ff6c92364b8f4adc89ee55dbd0a2455e": {
     "views": [
      {
       "cell_index": 25
      }
     ]
    },
    "ffe08714d01a457b81892a9a23d77d74": {
     "views": [
      {
       "cell_index": 23
      }
     ]
    }
   },
   "version": "1.2.0"
  }
 },
 "nbformat": 4,
 "nbformat_minor": 2
}
